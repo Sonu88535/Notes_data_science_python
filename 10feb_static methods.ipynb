{
 "cells": [
  {
   "cell_type": "code",
   "execution_count": 1,
   "id": "d371c268-a581-4129-8c9f-b888f5648526",
   "metadata": {},
   "outputs": [],
   "source": [
    "# Class method kaise similar hai  static methods sai or\n",
    "# kasie different hai static methods sai \n",
    "class pwskills:\n",
    "    \n",
    "    def student_details(self,name,mail_id,number): #self lilkhne sai ye bind hogya instance sai\n",
    "        print(name,mail_id,number)"
   ]
  },
  {
   "cell_type": "code",
   "execution_count": 4,
   "id": "ce1e5fe7-4e0a-4256-b36a-8d1e39f77901",
   "metadata": {},
   "outputs": [],
   "source": [
    "# isko access krna hai tho obj sai kar skte hai\n",
    "pw=pwskills() #upr mai init nhi tha isliye andar nhi likhe  arguement \n",
    "      # and jo stduent_details ke andar argument hai usse obj ke throw pass karege"
   ]
  },
  {
   "cell_type": "code",
   "execution_count": 5,
   "id": "7685b6cb-ac4c-4ea3-a80e-bc95f0525de6",
   "metadata": {},
   "outputs": [
    {
     "name": "stdout",
     "output_type": "stream",
     "text": [
      "sonu sonu0k22@gmail.com 198225421\n"
     ]
    }
   ],
   "source": [
    "pw.student_details('sonu','sonu0k22@gmail.com',198225421)"
   ]
  },
  {
   "cell_type": "code",
   "execution_count": 10,
   "id": "dcc846ac-f668-4245-8221-09a467e936b0",
   "metadata": {},
   "outputs": [],
   "source": [
    "# suppose mujhe kio func class ke andar banana hai jisse bina obj banaye access kr paye\n",
    "class pwskills1:\n",
    "    \n",
    "    def student_details(self,name,mail_id,number): \n",
    "        print(name,mail_id,number)\n",
    "        \n",
    "    @staticmethod  #yaha static method bana sakte ho jisko directly class ke name sai bhi  access kr skte ho\n",
    "                        # aur bind bhi nhi karna hai like class method\n",
    "    def mentor_class(list_mentor): #yaha self ya cls nhi likhna kyuki static mai bind krwane ke jarurat nhi pdti\n",
    "            print(list_mentor)"
   ]
  },
  {
   "cell_type": "code",
   "execution_count": 11,
   "id": "14577199-e017-4b9d-8c01-2e8fe7c9c4b5",
   "metadata": {},
   "outputs": [
    {
     "name": "stdout",
     "output_type": "stream",
     "text": [
      "['son', 'ashwani']\n"
     ]
    }
   ],
   "source": [
    "pwskills1.mentor_class(['son','ashwani'])"
   ]
  },
  {
   "cell_type": "code",
   "execution_count": 24,
   "id": "3f2b5a03-4196-49fd-916f-32a29870073c",
   "metadata": {},
   "outputs": [],
   "source": [
    "# static method is too create utilities jaise ki data base connectivity \n",
    "# ,file communication hogya,database storage hogya ye sare le sare utility \n",
    "# function hote hai jisko apko bar bar bar bar use karna pdta hai yaha par \n",
    "# agr apko agr waise function create krna hai jisko app bar bar use kr rhe\n",
    "# ho jo ki alg alg instance nhi banaye alg alg function nhi banaye with\n",
    "# respect to a diff diff obj to uske liye aap static method declare kr skte ho\n",
    "# toh yaha par hi static method create kiya without creating obj \n",
    "# i am to call it  , i am able to pass data inside this one\n",
    "#  baki agr student_details wala access krna hai toh obj banana prega\n",
    "\n",
    "\n",
    "#utility means jo bar bar repetative way mai aye\n",
    "#static method mai time kamm lagega"
   ]
  },
  {
   "cell_type": "code",
   "execution_count": 14,
   "id": "ef7d1532-dc9d-4ad4-b59a-919d675ad4b2",
   "metadata": {},
   "outputs": [],
   "source": [
    "stud1=pwskills1() #ye student_details def student_details(self,name,mail_id,number): \n",
    "                                         # print(name,mail_id,number)\n",
    "            #iska ek copy bana dega stud1 ke liye \n",
    "        # ab agr ham stud2 banaya toh"
   ]
  },
  {
   "cell_type": "code",
   "execution_count": 15,
   "id": "9387c97f-bb2a-4c59-96a0-048baed3ec5e",
   "metadata": {},
   "outputs": [],
   "source": [
    "stud2=pwskills1() # toh ussi ka ek aur copy create ho jaiga jo sirf stud2 ke liye kaam krega"
   ]
  },
  {
   "cell_type": "code",
   "execution_count": 17,
   "id": "020437ca-90f8-465e-8873-7f0d9af3c749",
   "metadata": {},
   "outputs": [],
   "source": [
    "stud3=pwskills1() #isme bhi same copy ban jaiga "
   ]
  },
  {
   "cell_type": "code",
   "execution_count": 18,
   "id": "ce4925be-e02f-40ec-a156-3916682f5b70",
   "metadata": {},
   "outputs": [],
   "source": [
    "# def student_details(self,name,mail_id,number): \n",
    "#         print(name,mail_id,number)\n",
    "        \n",
    "#         ye upr wala function create krte jaa rha bar barr for every number of student\n",
    "        \n",
    "# suppose 1 lakh student honge toh 1 lakh bar create krdega  par mujhe ye avoid krna hai \n",
    "# suppose mentor_class wale mai kyuki mentor toh vhi rhega"
   ]
  },
  {
   "cell_type": "code",
   "execution_count": 22,
   "id": "541520a1-6235-49c2-91d1-1937cec0576b",
   "metadata": {},
   "outputs": [],
   "source": [
    "# suppose upr wale mai ek aur func add krde mentor krke\n",
    "# suppose mujhe kio func class ke andar banana hai jisse bina obj banaye access kr paye\n",
    "class pwskills2:\n",
    "    \n",
    "    def student_details(self,name,mail_id,number): \n",
    "        print(name,mail_id,number)\n",
    "        \n",
    "    @staticmethod  #yaha static method bana sakte ho jisko directly class ke name sai bhi  access kr skte ho\n",
    "                        # aur bind bhi nhi karna hai like class method\n",
    "    def mentor_class(list_mentor): #yaha self ya cls nhi likhna kyuki static mai bind krwane ke jarurat nhi pdti\n",
    "            print(list_mentor)\n",
    "    def mentor(self,mentor___list):\n",
    "        print(mentor___list)"
   ]
  },
  {
   "cell_type": "code",
   "execution_count": 23,
   "id": "73a24a76-df32-4f82-a329-1e1b3088dc79",
   "metadata": {},
   "outputs": [],
   "source": [
    "stud1=pwskills2()"
   ]
  },
  {
   "cell_type": "code",
   "execution_count": 24,
   "id": "6e7bacbd-885f-4e66-8f3d-efd17545e500",
   "metadata": {},
   "outputs": [],
   "source": [
    "stud2=pwskills2()"
   ]
  },
  {
   "cell_type": "code",
   "execution_count": 25,
   "id": "e5aa002e-4581-40ab-b9ab-59db7bf696e8",
   "metadata": {},
   "outputs": [],
   "source": [
    "stud2=pwskills2()"
   ]
  },
  {
   "cell_type": "code",
   "execution_count": 26,
   "id": "d6b12541-8dd2-4154-80a5-1f6be2f6d2d0",
   "metadata": {},
   "outputs": [],
   "source": [
    "# # ab self ke wjh sai ye bind hogya class sai \n",
    "\n",
    "# # def mentor(self,mentor___list):\n",
    "# #         print(mentor___list)   ye wala func hai accesable hai obj ke throw \n",
    "\n",
    "# toh ye function bar bar reppplicate hoga jab jab app obj banaoge \n",
    "# stud1 stud2 stud3 3no ye mentor func create kr he      \n",
    "    \n",
    "#     def student_details(self,name,mail_id,number): \n",
    "#         print(name,mail_id,number)\n",
    "        \n",
    "    \n",
    "#     def mentor(self,mentor___list):\n",
    "#         print(mentor___list)\n",
    "\n",
    "#         ye upr wale func replicate kr rhe stud1 ,2,3\n",
    "\n"
   ]
  },
  {
   "cell_type": "code",
   "execution_count": 28,
   "id": "d6cae450-fe32-4bc2-b36d-1205f6b27eb0",
   "metadata": {},
   "outputs": [
    {
     "name": "stdout",
     "output_type": "stream",
     "text": [
      "['son', 'ashwani']\n"
     ]
    }
   ],
   "source": [
    "stud1.mentor(['son','ashwani'])  #ye mentor sirf stud1 ke hai jo ki stud1 ke throw hi access hoga \n",
    "                            #stud2 ,3  ke alg mentor honge..\n",
    "    # stud2,3 wale issse access nhi kr payege"
   ]
  },
  {
   "cell_type": "code",
   "execution_count": null,
   "id": "9d04a0d6-89eb-4a8f-9dd3-4a73828ab1ab",
   "metadata": {},
   "outputs": [],
   "source": [
    "# so agr mentor limited hai and no of student jada hai toh\n",
    "# ye glt method hai ki mentor fun ko as a instance fun banao \n",
    "# class ke andr jo ki sare variable ko sare varible ke liye alg\n",
    "# sai replicate ho ya lg alg create krne pade tohh mera preffered\n",
    "# way hoga ki simple sa ek static method bana aur static method ke throw \n",
    "# hi ye mentor ka func pass krdo taki ye func babr bar har ek obj ke liye\n",
    "# create na krna pre ,bar bar na call krna pre isse memory consumption bhi high hojata hai"
   ]
  },
  {
   "cell_type": "code",
   "execution_count": 5,
   "id": "cabee0b8-0345-4e17-a092-d0a97386960e",
   "metadata": {},
   "outputs": [],
   "source": [
    "# staticmethod ko classmethod ke andar use karna hai toh kaise karege\n",
    "class pwskills3:\n",
    "    \n",
    "    def student_details(self,name,mail_id,number): \n",
    "        print(name,mail_id,number)\n",
    "        \n",
    "        \n",
    "    \n",
    "    @staticmethod  \n",
    "    def mentor_class(list_mentor): \n",
    "            print(list_mentor)\n",
    "    \n",
    "    @classmethod\n",
    "    def class_name(cls): #cls bind kr rha class sai\n",
    "        cls.mentor_class(['sonu','ashwani'])   #mentor_class then bracket mai likhna prega\n",
    "                            # kyuki mentor class wale fun mai  vo print de mentor\n",
    "                            # ke list ko toh usko iise mai likhna prega warna error ayega\n",
    "            \n",
    "    def mentor(self,mentor___list):\n",
    "        print(mentor___list)"
   ]
  },
  {
   "cell_type": "code",
   "execution_count": 6,
   "id": "4a197e84-5060-40ec-82dd-4de9f870995d",
   "metadata": {},
   "outputs": [
    {
     "name": "stdout",
     "output_type": "stream",
     "text": [
      "['sonu', 'ashwani']\n"
     ]
    }
   ],
   "source": [
    "pwskills3.class_name()"
   ]
  },
  {
   "cell_type": "code",
   "execution_count": 20,
   "id": "83decfdb-96e3-4ac5-8849-54be6c5a152b",
   "metadata": {},
   "outputs": [],
   "source": [
    "# staticmethod ko ek dusre staticmethod ke andar use karna\n",
    "# hai ya call krna hai toh  class_name.func_name(arguement likhna parega)\n",
    "class pwskills4:\n",
    "    \n",
    "    def student_details(self,name,mail_id,number): \n",
    "        print(name,mail_id,number)\n",
    "    @staticmethod\n",
    "    def mentor_mail_id(mentor_mail_id):\n",
    "        \n",
    "        print(mentor_mail_id)\n",
    "        \n",
    "    \n",
    "    @staticmethod  \n",
    "    def mentor_class(list_mentor): \n",
    "        pwskills4.mentor_mail_id([\"sonu0kk22@gmail.com\",\"chuitya@gmail.com\"])  \n",
    "        #mentor_mail_id wale static class ko isme call kiya\n",
    "        print(list_mentor)\n",
    "    \n",
    "    @classmethod\n",
    "    def class_name(cls): #cls bind kr rha class sai\n",
    "        cls.mentor_class(['sonu','ashwani'])   #mentor_class then bracket mai likhna prega\n",
    "                            # kyuki mentor class wale fun mai  vo print de mentor\n",
    "                            # ke list ko toh usko iise mai likhna prega warna error ayega\n",
    "            \n",
    "    def mentor(self,mentor___list):\n",
    "        print(mentor___list)\n",
    "        #instance method ke andar static method call krna hia toh\n",
    "        self.mentor_class(['sdfd','dfsd'])"
   ]
  },
  {
   "cell_type": "code",
   "execution_count": 17,
   "id": "8e6b9f5e-c57c-4121-b887-8c11c2ef5112",
   "metadata": {},
   "outputs": [
    {
     "name": "stdout",
     "output_type": "stream",
     "text": [
      "['sonu0kk22@gmail.com', 'chuitya@gmail.com']\n",
      "['sonu', 'aswhain']\n"
     ]
    }
   ],
   "source": [
    "pwskills4.mentor_class(['sonu','aswhain'])"
   ]
  },
  {
   "cell_type": "code",
   "execution_count": 21,
   "id": "41a18186-052f-4971-ae55-c8f6300501c8",
   "metadata": {},
   "outputs": [],
   "source": [
    "# baki sb toh class ke throw access ho jaa rhe teh \n",
    "# lekin instance class ke obj banana prega\n",
    "pw=pwskills4()"
   ]
  },
  {
   "cell_type": "code",
   "execution_count": 23,
   "id": "258269d5-3ef0-42cb-80da-b6ca850379f3",
   "metadata": {},
   "outputs": [
    {
     "name": "stdout",
     "output_type": "stream",
     "text": [
      "['cdscd', 'csd']\n",
      "['sonu0kk22@gmail.com', 'chuitya@gmail.com']\n",
      "['sdfd', 'dfsd']\n"
     ]
    }
   ],
   "source": [
    "pw.mentor(['cdscd','csd'])"
   ]
  },
  {
   "cell_type": "code",
   "execution_count": null,
   "id": "466f0d66-f97a-4ffd-8f78-3bc76e5504e7",
   "metadata": {},
   "outputs": [],
   "source": []
  }
 ],
 "metadata": {
  "kernelspec": {
   "display_name": "Python 3 (ipykernel)",
   "language": "python",
   "name": "python3"
  },
  "language_info": {
   "codemirror_mode": {
    "name": "ipython",
    "version": 3
   },
   "file_extension": ".py",
   "mimetype": "text/x-python",
   "name": "python",
   "nbconvert_exporter": "python",
   "pygments_lexer": "ipython3",
   "version": "3.10.8"
  }
 },
 "nbformat": 4,
 "nbformat_minor": 5
}
