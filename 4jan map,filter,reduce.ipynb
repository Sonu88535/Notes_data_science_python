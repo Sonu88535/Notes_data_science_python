{
 "cells": [
  {
   "cell_type": "code",
   "execution_count": 1,
   "id": "63a7b8d4-6dd9-4045-8e3a-5207153b2bf1",
   "metadata": {},
   "outputs": [],
   "source": [
    "l=[2,3,4,5,6]\n",
    "#list ke andar jo data hai uska square krke list mai dalna hai"
   ]
  },
  {
   "cell_type": "code",
   "execution_count": 8,
   "id": "440da0e2-bc9d-46dd-87be-601b4f6015e7",
   "metadata": {},
   "outputs": [],
   "source": [
    "def test(l):\n",
    "     l1=[]\n",
    "     for i in l :\n",
    "        l1.append(i**2)\n",
    "     return l1"
   ]
  },
  {
   "cell_type": "code",
   "execution_count": 9,
   "id": "80ea2b67-0bb8-4eae-8776-d065c6732ccb",
   "metadata": {},
   "outputs": [
    {
     "data": {
      "text/plain": [
       "[4, 9, 16, 25, 36]"
      ]
     },
     "execution_count": 9,
     "metadata": {},
     "output_type": "execute_result"
    }
   ],
   "source": [
    "test(l)"
   ]
  },
  {
   "cell_type": "code",
   "execution_count": 10,
   "id": "b40cbd94-ba47-48a6-94d5-57380b647c4e",
   "metadata": {},
   "outputs": [],
   "source": [
    "  #ab isko alg tareke sai bhi kr skte hai by using map() function\n",
    "    # map(func, *iterables)\n",
    "    # map ke andar vo function hai jo app call krwna cahte hai sare ke upr\n",
    "    # aur ham kya krwana cahte hai ham sbka square krwana cahte hai\""
   ]
  },
  {
   "cell_type": "code",
   "execution_count": 11,
   "id": "57b2987f-bb26-411b-9780-b1130ac6033c",
   "metadata": {},
   "outputs": [],
   "source": [
    "def sq(x):\n",
    "     return x**2 #return output likha hai  \n",
    "   #ye outer function hai"
   ]
  },
  {
   "cell_type": "code",
   "execution_count": 12,
   "id": "81e94f61-395b-4aa8-be17-e2cb541c28fe",
   "metadata": {},
   "outputs": [
    {
     "data": {
      "text/plain": [
       "<map at 0x7fee7dbca6b0>"
      ]
     },
     "execution_count": 12,
     "metadata": {},
     "output_type": "execute_result"
    }
   ],
   "source": [
    "map(sq,l) # object dedega map ka  and agr isko rap krdega list sai toh ye output dedega list mai"
   ]
  },
  {
   "cell_type": "code",
   "execution_count": 13,
   "id": "4f35b874-accd-47a7-adbe-59c23e9fe7f5",
   "metadata": {},
   "outputs": [
    {
     "data": {
      "text/plain": [
       "[4, 9, 16, 25, 36]"
      ]
     },
     "execution_count": 13,
     "metadata": {},
     "output_type": "execute_result"
    }
   ],
   "source": [
    "list(map(sq,l))"
   ]
  },
  {
   "cell_type": "code",
   "execution_count": 14,
   "id": "f4c0c870-f74f-4597-8396-9986f2d847b8",
   "metadata": {},
   "outputs": [
    {
     "data": {
      "text/plain": [
       "[4, 9, 16, 25, 36]"
      ]
     },
     "execution_count": 14,
     "metadata": {},
     "output_type": "execute_result"
    }
   ],
   "source": [
    "# ham isko hi lambda function  ke help sai kr skte hai\n",
    "# jaha  pr bahut jada complex logic hai wha pr \n",
    "# external function ke logic se kr skte lambda funciton use krke likh do\n",
    "list(map(lambda x:x**2,l))"
   ]
  },
  {
   "cell_type": "code",
   "execution_count": 15,
   "id": "89ac16b1-4428-411c-9176-0aed63d93426",
   "metadata": {},
   "outputs": [
    {
     "data": {
      "text/plain": [
       "[7, 9, 11, 13, 15]"
      ]
     },
     "execution_count": 15,
     "metadata": {},
     "output_type": "execute_result"
    }
   ],
   "source": [
    "# 2 list le aur mujhe index wise addition krke dede\n",
    "l1=[1,2,3,4,5]\n",
    "l2=[6,7,8,9,10]\n",
    "list(map(lambda x,y:x+y,l1,l2))\n"
   ]
  },
  {
   "cell_type": "code",
   "execution_count": 16,
   "id": "b7e3713b-5c1a-4406-b32a-e4f1182fccec",
   "metadata": {},
   "outputs": [
    {
     "data": {
      "text/plain": [
       "[7, 9, 11, 13, 15]"
      ]
     },
     "execution_count": 16,
     "metadata": {},
     "output_type": "execute_result"
    }
   ],
   "source": [
    "# using external function logic instead of calling lambda function here\\n\",\n",
    "def add(x,y):\n",
    "      return x+y\n",
    "list(map(add,l1,l2))\n",
    "#mapper ka function bs itna hai ki jo bhi funtion apne dala hai\n",
    "# aur jo bhi iterables dala hao uske hisab sai output nikal dedega bs iska kaam hai data ko map krna \n"
   ]
  },
  {
   "cell_type": "code",
   "execution_count": 17,
   "id": "5a4cf8f0-04c7-4111-b36f-1aee8cc1a590",
   "metadata": {},
   "outputs": [
    {
     "data": {
      "text/plain": [
       "['P', 'W', 'S', 'K', 'I', 'L', 'L', 'S']"
      ]
     },
     "execution_count": 17,
     "metadata": {},
     "output_type": "execute_result"
    }
   ],
   "source": [
    "#string ko upper case mai convert kro \\n\",\n",
    "s='pwskills'\n",
    "#s.upper() ham isse bhi kr skte hai but ham isko mapper function sai bhi kr skte hai \\n\",\n",
    "list(map(lambda s:s.upper(),s))"
   ]
  },
  {
   "cell_type": "code",
   "execution_count": 18,
   "id": "6e275128-40c4-4a67-8007-fd4d149676df",
   "metadata": {},
   "outputs": [],
   "source": [
    "# reduce  bhi mapper jaise hi function jo pure ke pure iterables pr kaam krta hai\n",
    "#bydefault  reduce available nhi hoga usse call krna prega \n",
    "   "
   ]
  },
  {
   "cell_type": "code",
   "execution_count": 19,
   "id": "f2f7db42-3cb5-4a1f-be87-9388b57fb11d",
   "metadata": {},
   "outputs": [],
   "source": [
    "from functools import reduce #isko aese hi likhna  reduce call krne  ke liye"
   ]
  },
  {
   "cell_type": "code",
   "execution_count": 24,
   "id": "5cebd7c3-73fc-421e-87a4-f0e52ec914b9",
   "metadata": {},
   "outputs": [],
   "source": [
    "l=[1,2,3,4,5,6] #isme jitne elements hai unka summation nikal kr dikha"
   ]
  },
  {
   "cell_type": "code",
   "execution_count": 25,
   "id": "31816da4-9989-4e52-831e-383cfb7fe8f5",
   "metadata": {},
   "outputs": [
    {
     "data": {
      "text/plain": [
       "21"
      ]
     },
     "execution_count": 25,
     "metadata": {},
     "output_type": "execute_result"
    }
   ],
   "source": [
    "reduce(lambda x,y:x+y,l) #reduce(function, iterable[, initial])"
   ]
  },
  {
   "cell_type": "code",
   "execution_count": 22,
   "id": "e73fa096-99de-4943-af6a-335179093c68",
   "metadata": {},
   "outputs": [],
   "source": [
    "# upr wala ho kaise rha hai chalo dekhte hai  \n",
    "# starting mai s ki 1 and y ki 2 value rhege dono add hokar 3 ayega\n",
    "# and ab ye 3  ho jaiga  and 2 ke baad wala 3 y hoga fir ye dono add hoge 6 ayega \n",
    "# ab ye 6 x ho jaiga and 4 y hojaiga ab ye dono add hokar 10 ho jaiga \n",
    "# and ab ye 10 x ho jaga  and 5 y ho jaiga fir ye dono add hokar 15 hojaiga  now aese hi agge bhi hoga "
   ]
  },
  {
   "cell_type": "code",
   "execution_count": 26,
   "id": "f9b81c23-28a3-469c-b97d-a367bef1b4fd",
   "metadata": {},
   "outputs": [
    {
     "ename": "TypeError",
     "evalue": "<lambda>() missing 1 required positional argument: 'z'",
     "output_type": "error",
     "traceback": [
      "\u001b[0;31m---------------------------------------------------------------------------\u001b[0m",
      "\u001b[0;31mTypeError\u001b[0m                                 Traceback (most recent call last)",
      "Cell \u001b[0;32mIn[26], line 1\u001b[0m\n\u001b[0;32m----> 1\u001b[0m \u001b[43mreduce\u001b[49m\u001b[43m(\u001b[49m\u001b[38;5;28;43;01mlambda\u001b[39;49;00m\u001b[43m \u001b[49m\u001b[43mx\u001b[49m\u001b[43m,\u001b[49m\u001b[43my\u001b[49m\u001b[43m,\u001b[49m\u001b[43mz\u001b[49m\u001b[43m:\u001b[49m\u001b[43mx\u001b[49m\u001b[38;5;241;43m+\u001b[39;49m\u001b[43my\u001b[49m\u001b[38;5;241;43m+\u001b[39;49m\u001b[43mz\u001b[49m\u001b[43m,\u001b[49m\u001b[43ml\u001b[49m\u001b[43m)\u001b[49m \n\u001b[1;32m      2\u001b[0m \u001b[38;5;66;03m#ish logic mai dekhe toh x=1,y=2,z=3 ye sb add hua toh 6  aya now ab 6 hua x that\u001b[39;00m\n\u001b[1;32m      3\u001b[0m \u001b[38;5;66;03m# is x=6 y=4 z=5 ye tino add hokar 15 hua now x=15 hua and y=6 and z ki value hi nhi hai  \u001b[39;00m\n",
      "\u001b[0;31mTypeError\u001b[0m: <lambda>() missing 1 required positional argument: 'z'"
     ]
    }
   ],
   "source": [
    "reduce(lambda x,y,z:x+y+z,l) \n",
    "#ish logic mai dekhe toh x=1,y=2,z=3 ye sb add hua toh 6  aya now ab 6 hua x that\n",
    "# is x=6 y=4 z=5 ye tino add hokar 15 hua now x=15 hua and y=6 and z ki value hi nhi hai  \n",
    "# sliye ham third parameter z kabhi nhi lete "
   ]
  },
  {
   "cell_type": "code",
   "execution_count": 27,
   "id": "cf5c7cfd-d0d4-40c1-9625-089b6d97e4cd",
   "metadata": {},
   "outputs": [
    {
     "ename": "TypeError",
     "evalue": "reduce() of empty iterable with no initial value",
     "output_type": "error",
     "traceback": [
      "\u001b[0;31m---------------------------------------------------------------------------\u001b[0m",
      "\u001b[0;31mTypeError\u001b[0m                                 Traceback (most recent call last)",
      "Cell \u001b[0;32mIn[27], line 1\u001b[0m\n\u001b[0;32m----> 1\u001b[0m \u001b[43mreduce\u001b[49m\u001b[43m(\u001b[49m\u001b[38;5;28;43;01mlambda\u001b[39;49;00m\u001b[43m \u001b[49m\u001b[43mx\u001b[49m\u001b[43m,\u001b[49m\u001b[43my\u001b[49m\u001b[43m:\u001b[49m\u001b[43mx\u001b[49m\u001b[38;5;241;43m+\u001b[39;49m\u001b[43my\u001b[49m\u001b[43m,\u001b[49m\u001b[43m[\u001b[49m\u001b[43m]\u001b[49m\u001b[43m)\u001b[49m\n",
      "\u001b[0;31mTypeError\u001b[0m: reduce() of empty iterable with no initial value"
     ]
    }
   ],
   "source": [
    "reduce(lambda x,y:x+y,[])"
   ]
  },
  {
   "cell_type": "code",
   "execution_count": 28,
   "id": "2e73f2a2-058b-4fea-95fc-1170ca7f8953",
   "metadata": {},
   "outputs": [
    {
     "data": {
      "text/plain": [
       "1"
      ]
     },
     "execution_count": 28,
     "metadata": {},
     "output_type": "execute_result"
    }
   ],
   "source": [
    "reduce(lambda x,y:x+y,[1])"
   ]
  },
  {
   "cell_type": "code",
   "execution_count": 30,
   "id": "eec428be-38dd-4118-88a5-d7b91a52c949",
   "metadata": {},
   "outputs": [
    {
     "data": {
      "text/plain": [
       "720"
      ]
     },
     "execution_count": 30,
     "metadata": {},
     "output_type": "execute_result"
    }
   ],
   "source": [
    "reduce(lambda x,y:x*y,l)"
   ]
  },
  {
   "cell_type": "code",
   "execution_count": 31,
   "id": "5896a28a-31be-4c13-93ce-f6a00d56cc6e",
   "metadata": {},
   "outputs": [
    {
     "data": {
      "text/plain": [
       "6"
      ]
     },
     "execution_count": 31,
     "metadata": {},
     "output_type": "execute_result"
    }
   ],
   "source": [
    "reduce(lambda x,y: x if x>y else y,l)\n",
    "\n",
    "#isne internally kiya kya x=1 and y=2  now x is not greater than y then output y i.e 2 hai\n",
    "# now ab 2 x hogya hai and y 3 hogya hai now x is not greater than y \n",
    "# then output y i.e 3  and aese hi continuously chalega"
   ]
  },
  {
   "cell_type": "code",
   "execution_count": 32,
   "id": "8a09a8ce-fb9a-459c-9b0b-3fcbcd079ca0",
   "metadata": {},
   "outputs": [
    {
     "data": {
      "text/plain": [
       "[1, 2, 3, 4, 5, 6]"
      ]
     },
     "execution_count": 32,
     "metadata": {},
     "output_type": "execute_result"
    }
   ],
   "source": [
    "l"
   ]
  },
  {
   "cell_type": "code",
   "execution_count": 33,
   "id": "3a483509-cb7b-4934-8c34-94de46efa44f",
   "metadata": {},
   "outputs": [
    {
     "data": {
      "text/plain": [
       "[2, 4, 6]"
      ]
     },
     "execution_count": 33,
     "metadata": {},
     "output_type": "execute_result"
    }
   ],
   "source": [
    "# isme ssai even number filter krke do \n",
    "list(filter(lambda x:x%2==0,l)) #filter(function or None, iterable)"
   ]
  },
  {
   "cell_type": "code",
   "execution_count": 35,
   "id": "68330fd4-58ff-450c-ba60-8dd174d40288",
   "metadata": {},
   "outputs": [
    {
     "data": {
      "text/plain": [
       "[1, 3, 5]"
      ]
     },
     "execution_count": 35,
     "metadata": {},
     "output_type": "execute_result"
    }
   ],
   "source": [
    "list(filter(lambda x:x%2!=0,l))"
   ]
  },
  {
   "cell_type": "code",
   "execution_count": 36,
   "id": "705ff064-e6a9-4494-b88e-1bf6eb66005c",
   "metadata": {},
   "outputs": [],
   "source": [
    "l1=[-3,4,5,6,-1,-5] #negative value nikal kr do "
   ]
  },
  {
   "cell_type": "code",
   "execution_count": 38,
   "id": "ccb9e770-104e-4f6c-a44a-cd2eec963028",
   "metadata": {},
   "outputs": [
    {
     "data": {
      "text/plain": [
       "[-3, -1, -5]"
      ]
     },
     "execution_count": 38,
     "metadata": {},
     "output_type": "execute_result"
    }
   ],
   "source": [
    "list(filter(lambda x:x<0,l1)) #ye negative value nikal kr dega "
   ]
  },
  {
   "cell_type": "code",
   "execution_count": 42,
   "id": "38da6534-9143-4e02-9d50-a547aa621a18",
   "metadata": {},
   "outputs": [
    {
     "data": {
      "text/plain": [
       "[True, False, False, False, True, True]"
      ]
     },
     "execution_count": 42,
     "metadata": {},
     "output_type": "execute_result"
    }
   ],
   "source": [
    "list(map(lambda x:x<0,l1)) # ye us position pr  negative value hai ya nhi vo batyega "
   ]
  },
  {
   "cell_type": "code",
   "execution_count": 43,
   "id": "fa34b82f-a41d-4c36-9081-52f0a4284c53",
   "metadata": {},
   "outputs": [
    {
     "ename": "TypeError",
     "evalue": "<lambda>() takes 1 positional argument but 2 were given",
     "output_type": "error",
     "traceback": [
      "\u001b[0;31m---------------------------------------------------------------------------\u001b[0m",
      "\u001b[0;31mTypeError\u001b[0m                                 Traceback (most recent call last)",
      "Cell \u001b[0;32mIn[43], line 1\u001b[0m\n\u001b[0;32m----> 1\u001b[0m \u001b[43mreduce\u001b[49m\u001b[43m(\u001b[49m\u001b[38;5;28;43;01mlambda\u001b[39;49;00m\u001b[43m \u001b[49m\u001b[43mx\u001b[49m\u001b[43m:\u001b[49m\u001b[43mx\u001b[49m\u001b[38;5;241;43m<\u001b[39;49m\u001b[38;5;241;43m0\u001b[39;49m\u001b[43m,\u001b[49m\u001b[43ml1\u001b[49m\u001b[43m)\u001b[49m\n",
      "\u001b[0;31mTypeError\u001b[0m: <lambda>() takes 1 positional argument but 2 were given"
     ]
    }
   ],
   "source": [
    "reduce(lambda x:x<0,l1)"
   ]
  },
  {
   "cell_type": "code",
   "execution_count": 44,
   "id": "5db9e5ff-2709-4d4e-869c-ee99c9f93594",
   "metadata": {},
   "outputs": [],
   "source": [
    "l2=['sonu','pwsills','kumar','bengalore','krish'] # vo string niklana hai jiska length 6 sai jada hai"
   ]
  },
  {
   "cell_type": "code",
   "execution_count": 45,
   "id": "80f138c1-215a-4cd0-96ad-523559bdfe00",
   "metadata": {},
   "outputs": [
    {
     "ename": "TypeError",
     "evalue": "'builtin_function_or_method' object is not subscriptable",
     "output_type": "error",
     "traceback": [
      "\u001b[0;31m---------------------------------------------------------------------------\u001b[0m",
      "\u001b[0;31mTypeError\u001b[0m                                 Traceback (most recent call last)",
      "Cell \u001b[0;32mIn[45], line 1\u001b[0m\n\u001b[0;32m----> 1\u001b[0m \u001b[38;5;28;43mlist\u001b[39;49m\u001b[43m(\u001b[49m\u001b[38;5;28;43mfilter\u001b[39;49m\u001b[43m(\u001b[49m\u001b[38;5;28;43;01mlambda\u001b[39;49;00m\u001b[43m \u001b[49m\u001b[43mi\u001b[49m\u001b[43m:\u001b[49m\u001b[38;5;28;43mlen\u001b[39;49m\u001b[43m[\u001b[49m\u001b[43mi\u001b[49m\u001b[43m]\u001b[49m\u001b[38;5;241;43m>\u001b[39;49m\u001b[38;5;241;43m6\u001b[39;49m\u001b[43m,\u001b[49m\u001b[43ml2\u001b[49m\u001b[43m)\u001b[49m\u001b[43m)\u001b[49m\n",
      "Cell \u001b[0;32mIn[45], line 1\u001b[0m, in \u001b[0;36m<lambda>\u001b[0;34m(i)\u001b[0m\n\u001b[0;32m----> 1\u001b[0m \u001b[38;5;28mlist\u001b[39m(\u001b[38;5;28mfilter\u001b[39m(\u001b[38;5;28;01mlambda\u001b[39;00m i:\u001b[38;5;28;43mlen\u001b[39;49m\u001b[43m[\u001b[49m\u001b[43mi\u001b[49m\u001b[43m]\u001b[49m\u001b[38;5;241m>\u001b[39m\u001b[38;5;241m6\u001b[39m,l2))\n",
      "\u001b[0;31mTypeError\u001b[0m: 'builtin_function_or_method' object is not subscriptable"
     ]
    }
   ],
   "source": [
    "list(filter(lambda i:len[i]>6,l2))"
   ]
  },
  {
   "cell_type": "code",
   "execution_count": null,
   "id": "88363a9d-66c3-410a-8ee9-d4c2e4b5695e",
   "metadata": {},
   "outputs": [],
   "source": []
  }
 ],
 "metadata": {
  "kernelspec": {
   "display_name": "Python 3 (ipykernel)",
   "language": "python",
   "name": "python3"
  },
  "language_info": {
   "codemirror_mode": {
    "name": "ipython",
    "version": 3
   },
   "file_extension": ".py",
   "mimetype": "text/x-python",
   "name": "python",
   "nbconvert_exporter": "python",
   "pygments_lexer": "ipython3",
   "version": "3.10.8"
  }
 },
 "nbformat": 4,
 "nbformat_minor": 5
}
