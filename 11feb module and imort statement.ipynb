{
 "cells": [
  {
   "cell_type": "code",
   "execution_count": 1,
   "id": "6a2db323-85c9-4fb7-b58b-e119b2d245c9",
   "metadata": {},
   "outputs": [],
   "source": [
    "# see in pyhton lab"
   ]
  },
  {
   "cell_type": "code",
   "execution_count": null,
   "id": "6b37d33e-f3ab-4a63-944c-30c0539be875",
   "metadata": {},
   "outputs": [],
   "source": [
    "# pyhton mai ek folder hai pwskills uske andr do aur folder hai course and payment \n",
    "# course file ke andar course_details.py python file hai \n",
    "# payment file ke andar payment_details.py pyhton file hai\n",
    "\n",
    "# objective ye hai ki course details sai payment ko access kr paye \n",
    "# and payment wale sai course ko access kr paye\n",
    "# is objective ko pura kr sakte with the help of module and package\n",
    "# module kuch nhi hai bs jo pyhton files bane like course_details and payment_details\n",
    "#  uske andar  bahut sare function and class def kr skte hai\n",
    "#  package  jo folder bana course and payment vohi hai\n",
    "\n",
    "\n",
    "#sb sahi hai fir bhi error de rha toh isse hatane ke liye use \n",
    "# import os ,sys\n",
    "# from os.path import dirname,join,abspathṇ\n",
    "# sys.path.insert(0, abspath(join(dirname(__file__), '..')))\n",
    "# sbse upr ye likh dena bs"
   ]
  },
  {
   "cell_type": "code",
   "execution_count": null,
   "id": "d09dd287-7498-452f-b24c-bcae6d9f9a07",
   "metadata": {},
   "outputs": [],
   "source": [
    "# ye course_details.py pyhton file hai\n",
    "import os,sys\n",
    "from os.path import dirname,join,abspath\n",
    "sys.path.insert(0,abspath(join(dirname(__file__),'..')))\n",
    "\n",
    "def course():\n",
    "    print(\"this is my course details\")"
   ]
  },
  {
   "cell_type": "code",
   "execution_count": null,
   "id": "9e570426-ac0d-45c2-aa8f-e60e51502a21",
   "metadata": {},
   "outputs": [],
   "source": [
    "# ye payment_details.py pyhton file hai \n",
    "\n",
    "import os,sys\n",
    "from os.path import dirname,join,abspath\n",
    "sys.path.insert(0, abspath(join(dirname(__file__),'..')))\n",
    "\n",
    "from course import course_details\n",
    "# from particular folder import krlo course_details\n",
    "def payment():\n",
    "    print(\"this is my payment details\")\n",
    "\n",
    "course_details.course()  #course method ke andar jo bhi method available ho usse use kr paye\n",
    "\n",
    "\n"
   ]
  },
  {
   "cell_type": "code",
   "execution_count": null,
   "id": "7e07e820-7141-4c1a-bcb4-6b8bcf85f881",
   "metadata": {},
   "outputs": [],
   "source": []
  }
 ],
 "metadata": {
  "kernelspec": {
   "display_name": "Python 3 (ipykernel)",
   "language": "python",
   "name": "python3"
  },
  "language_info": {
   "codemirror_mode": {
    "name": "ipython",
    "version": 3
   },
   "file_extension": ".py",
   "mimetype": "text/x-python",
   "name": "python",
   "nbconvert_exporter": "python",
   "pygments_lexer": "ipython3",
   "version": "3.10.8"
  }
 },
 "nbformat": 4,
 "nbformat_minor": 5
}
