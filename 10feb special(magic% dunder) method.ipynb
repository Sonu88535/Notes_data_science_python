{
 "cells": [
  {
   "cell_type": "code",
   "execution_count": 1,
   "id": "a7053fbd-36d5-4df7-9002-e831179d5026",
   "metadata": {},
   "outputs": [],
   "source": [
    "# special magic or dunder method\n",
    "# pyhton ke andar jitne bhi operations karte hia like string addition\n",
    "# toh bydefault kuch funtion call kr rha hai jo kisne banaya hua hai \n",
    "# tph usse magic method or dunder method kahte hai \n",
    "# dunder  nothing but basically underscore underscore funcname underscore underscore\n",
    "# like __init__ ye bhi ek dunder hai"
   ]
  },
  {
   "cell_type": "code",
   "execution_count": 2,
   "id": "f3823746-6b43-46d5-a4f0-40e383e90bf2",
   "metadata": {},
   "outputs": [
    {
     "data": {
      "text/plain": [
       "['__abs__',\n",
       " '__add__',\n",
       " '__and__',\n",
       " '__bool__',\n",
       " '__ceil__',\n",
       " '__class__',\n",
       " '__delattr__',\n",
       " '__dir__',\n",
       " '__divmod__',\n",
       " '__doc__',\n",
       " '__eq__',\n",
       " '__float__',\n",
       " '__floor__',\n",
       " '__floordiv__',\n",
       " '__format__',\n",
       " '__ge__',\n",
       " '__getattribute__',\n",
       " '__getnewargs__',\n",
       " '__gt__',\n",
       " '__hash__',\n",
       " '__index__',\n",
       " '__init__',\n",
       " '__init_subclass__',\n",
       " '__int__',\n",
       " '__invert__',\n",
       " '__le__',\n",
       " '__lshift__',\n",
       " '__lt__',\n",
       " '__mod__',\n",
       " '__mul__',\n",
       " '__ne__',\n",
       " '__neg__',\n",
       " '__new__',\n",
       " '__or__',\n",
       " '__pos__',\n",
       " '__pow__',\n",
       " '__radd__',\n",
       " '__rand__',\n",
       " '__rdivmod__',\n",
       " '__reduce__',\n",
       " '__reduce_ex__',\n",
       " '__repr__',\n",
       " '__rfloordiv__',\n",
       " '__rlshift__',\n",
       " '__rmod__',\n",
       " '__rmul__',\n",
       " '__ror__',\n",
       " '__round__',\n",
       " '__rpow__',\n",
       " '__rrshift__',\n",
       " '__rshift__',\n",
       " '__rsub__',\n",
       " '__rtruediv__',\n",
       " '__rxor__',\n",
       " '__setattr__',\n",
       " '__sizeof__',\n",
       " '__str__',\n",
       " '__sub__',\n",
       " '__subclasshook__',\n",
       " '__truediv__',\n",
       " '__trunc__',\n",
       " '__xor__',\n",
       " 'as_integer_ratio',\n",
       " 'bit_count',\n",
       " 'bit_length',\n",
       " 'conjugate',\n",
       " 'denominator',\n",
       " 'from_bytes',\n",
       " 'imag',\n",
       " 'numerator',\n",
       " 'real',\n",
       " 'to_bytes']"
      ]
     },
     "execution_count": 2,
     "metadata": {},
     "output_type": "execute_result"
    }
   ],
   "source": [
    "dir(int) #int ke sath kon konsa func call hota hai vo idkha rha"
   ]
  },
  {
   "cell_type": "code",
   "execution_count": 4,
   "id": "5f4ceb29-481a-4051-817d-0278f60a2c8a",
   "metadata": {},
   "outputs": [
    {
     "data": {
      "text/plain": [
       "['__add__',\n",
       " '__class__',\n",
       " '__contains__',\n",
       " '__delattr__',\n",
       " '__dir__',\n",
       " '__doc__',\n",
       " '__eq__',\n",
       " '__format__',\n",
       " '__ge__',\n",
       " '__getattribute__',\n",
       " '__getitem__',\n",
       " '__getnewargs__',\n",
       " '__gt__',\n",
       " '__hash__',\n",
       " '__init__',\n",
       " '__init_subclass__',\n",
       " '__iter__',\n",
       " '__le__',\n",
       " '__len__',\n",
       " '__lt__',\n",
       " '__mod__',\n",
       " '__mul__',\n",
       " '__ne__',\n",
       " '__new__',\n",
       " '__reduce__',\n",
       " '__reduce_ex__',\n",
       " '__repr__',\n",
       " '__rmod__',\n",
       " '__rmul__',\n",
       " '__setattr__',\n",
       " '__sizeof__',\n",
       " '__str__',\n",
       " '__subclasshook__',\n",
       " 'capitalize',\n",
       " 'casefold',\n",
       " 'center',\n",
       " 'count',\n",
       " 'encode',\n",
       " 'endswith',\n",
       " 'expandtabs',\n",
       " 'find',\n",
       " 'format',\n",
       " 'format_map',\n",
       " 'index',\n",
       " 'isalnum',\n",
       " 'isalpha',\n",
       " 'isascii',\n",
       " 'isdecimal',\n",
       " 'isdigit',\n",
       " 'isidentifier',\n",
       " 'islower',\n",
       " 'isnumeric',\n",
       " 'isprintable',\n",
       " 'isspace',\n",
       " 'istitle',\n",
       " 'isupper',\n",
       " 'join',\n",
       " 'ljust',\n",
       " 'lower',\n",
       " 'lstrip',\n",
       " 'maketrans',\n",
       " 'partition',\n",
       " 'removeprefix',\n",
       " 'removesuffix',\n",
       " 'replace',\n",
       " 'rfind',\n",
       " 'rindex',\n",
       " 'rjust',\n",
       " 'rpartition',\n",
       " 'rsplit',\n",
       " 'rstrip',\n",
       " 'split',\n",
       " 'splitlines',\n",
       " 'startswith',\n",
       " 'strip',\n",
       " 'swapcase',\n",
       " 'title',\n",
       " 'translate',\n",
       " 'upper',\n",
       " 'zfill']"
      ]
     },
     "execution_count": 4,
     "metadata": {},
     "output_type": "execute_result"
    }
   ],
   "source": [
    "dir(str) #magic func or dunder fun"
   ]
  },
  {
   "cell_type": "code",
   "execution_count": 5,
   "id": "b947c9c0-6bff-46e6-8f1e-45e966b217f2",
   "metadata": {},
   "outputs": [],
   "source": [
    "a=100"
   ]
  },
  {
   "cell_type": "code",
   "execution_count": 7,
   "id": "be577084-89a3-493a-8b40-761d6c6e8d4a",
   "metadata": {},
   "outputs": [
    {
     "data": {
      "text/plain": [
       "105"
      ]
     },
     "execution_count": 7,
     "metadata": {},
     "output_type": "execute_result"
    }
   ],
   "source": [
    "a+5"
   ]
  },
  {
   "cell_type": "code",
   "execution_count": 9,
   "id": "4249bf70-82e9-437f-b997-3b4eadcb4640",
   "metadata": {},
   "outputs": [
    {
     "data": {
      "text/plain": [
       "105"
      ]
     },
     "execution_count": 9,
     "metadata": {},
     "output_type": "execute_result"
    }
   ],
   "source": [
    "a.__add__(5) #issi bbhi  kr skte hai \n",
    "# toh jb bhi add kr rhe toh internally ye func call  ho rha "
   ]
  },
  {
   "cell_type": "code",
   "execution_count": 2,
   "id": "d9208db5-5b69-4069-811d-14b3dbd2189e",
   "metadata": {},
   "outputs": [],
   "source": [
    "class pwskills:\n",
    "    def __init__(self):\n",
    "        print('this is my print')\n",
    "        self.mobile_num=644546466  #ab isse yeb num assign hoga mobile_num \n",
    "                    #ke pass and usse self ke wjh sai assign hogya class ke sath\n",
    "    "
   ]
  },
  {
   "cell_type": "code",
   "execution_count": 4,
   "id": "d53db293-6ee7-468d-a865-c94cc2ae1501",
   "metadata": {},
   "outputs": [
    {
     "name": "stdout",
     "output_type": "stream",
     "text": [
      "this is my print\n"
     ]
    }
   ],
   "source": [
    "pw=pwskills()"
   ]
  },
  {
   "cell_type": "code",
   "execution_count": 12,
   "id": "b6987838-f4f5-4548-b082-3a0eea4af42d",
   "metadata": {},
   "outputs": [
    {
     "data": {
      "text/plain": [
       "644546466"
      ]
     },
     "execution_count": 12,
     "metadata": {},
     "output_type": "execute_result"
    }
   ],
   "source": [
    "pw.mobile_num"
   ]
  },
  {
   "cell_type": "code",
   "execution_count": 9,
   "id": "e461fc9a-e4de-445a-a5b1-ee9f1f1667f1",
   "metadata": {},
   "outputs": [],
   "source": [
    "#init apne sai phle bhi kuch data ko call krta hai lets check\n",
    "# init sai phle ek dunder func call hota hai __new__\n",
    "class pwskills1:\n",
    "    def __new__(cls):\n",
    "        print('this is my new')\n",
    "        \n",
    "    \n",
    "    def __init__(self):\n",
    "        print('this is my init')\n",
    "        self.mobile_num=644546466  #ab isse yeb num assign hoga mobile_num \n",
    "                    #ke pass and usse self ke wjh sai assign hogya class ke sath\n",
    "    "
   ]
  },
  {
   "cell_type": "code",
   "execution_count": 8,
   "id": "11201d35-6ed2-4485-a8aa-6b05596f0d08",
   "metadata": {},
   "outputs": [
    {
     "name": "stdout",
     "output_type": "stream",
     "text": [
      "this is my new\n"
     ]
    }
   ],
   "source": [
    "pw1=pwskills1()  #yaha dekho init ke phle new wala hi call hua \n",
    "\n",
    "#init ke phle hamesa new call hota hai\n",
    "#new hi help krta hai instance banane mai ya oobj banane mai\n",
    "# hame lgta init krta hai lekin new krta hia\n"
   ]
  },
  {
   "cell_type": "code",
   "execution_count": 21,
   "id": "7f627d57-47de-401e-9f0f-62edba407b1d",
   "metadata": {},
   "outputs": [],
   "source": [
    "class pwskills2:\n",
    "    def __init__(self):\n",
    "  \n",
    "        self.mobile_num=644546466  \n",
    "    "
   ]
  },
  {
   "cell_type": "code",
   "execution_count": 11,
   "id": "d983fd65-7b51-478e-ade3-59f07fea1e46",
   "metadata": {},
   "outputs": [],
   "source": [
    "pw2=pwskills2()"
   ]
  },
  {
   "cell_type": "code",
   "execution_count": 13,
   "id": "7dc61085-8331-447c-81a7-60669f794ccc",
   "metadata": {},
   "outputs": [
    {
     "data": {
      "text/plain": [
       "<__main__.pwskills2 at 0x7fcbd63ebeb0>"
      ]
     },
     "execution_count": 13,
     "metadata": {},
     "output_type": "execute_result"
    }
   ],
   "source": [
    "pw2  #obj call krne sai ek hexadecimal code dedeta hai\n",
    "# let suppose mujhe ye hexadecimal code nhi cahiye kuch\n",
    "# write up(likh kr ajaige jo meaningfull ho) ban kr ajai jab bhi obj call kre\n",
    "# toh andar ek or dunder func hai call krlo  __str__  krke"
   ]
  },
  {
   "cell_type": "code",
   "execution_count": 23,
   "id": "2b9e6166-5942-4964-842e-cacbdde6c367",
   "metadata": {},
   "outputs": [
    {
     "name": "stdout",
     "output_type": "stream",
     "text": [
      "<__main__.pwskills2 object at 0x7fcbd63ebeb0>\n"
     ]
    }
   ],
   "source": [
    "print(pw2)  #yaha print krne sai same aa rha  upr jaise"
   ]
  },
  {
   "cell_type": "code",
   "execution_count": 15,
   "id": "25f8d5ce-005b-40a0-a5e6-46aa6176f95c",
   "metadata": {},
   "outputs": [],
   "source": [
    "class pwskills3:\n",
    "    def __init__(self):\n",
    "  \n",
    "        self.mobile_num=644546466  \n",
    "    def __str__(self):  #ye return krta hai ek particular string for a obj\n",
    "        return \"this is my magic call of str\""
   ]
  },
  {
   "cell_type": "code",
   "execution_count": 16,
   "id": "6cecf061-a479-4c6a-8434-5c81e8fe5e0a",
   "metadata": {},
   "outputs": [],
   "source": [
    "pw3=pwskills3()"
   ]
  },
  {
   "cell_type": "code",
   "execution_count": 18,
   "id": "33c99572-7da0-4778-8f63-feec58f0349a",
   "metadata": {},
   "outputs": [
    {
     "data": {
      "text/plain": [
       "<__main__.pwskills3 at 0x7fcbd635a5f0>"
      ]
     },
     "execution_count": 18,
     "metadata": {},
     "output_type": "execute_result"
    }
   ],
   "source": [
    "pw3 #parr abhi bhi a rha hexadecimal "
   ]
  },
  {
   "cell_type": "code",
   "execution_count": 20,
   "id": "45af38eb-edac-4c32-957c-6e54b00acc39",
   "metadata": {},
   "outputs": [
    {
     "name": "stdout",
     "output_type": "stream",
     "text": [
      "this is my magic call of str\n"
     ]
    }
   ],
   "source": [
    "print(pw3) iise aa jaa rha"
   ]
  },
  {
   "cell_type": "code",
   "execution_count": null,
   "id": "1c604ef0-f7b5-4f99-b396-e3b9cb1a7d5e",
   "metadata": {},
   "outputs": [],
   "source": []
  }
 ],
 "metadata": {
  "kernelspec": {
   "display_name": "Python 3 (ipykernel)",
   "language": "python",
   "name": "python3"
  },
  "language_info": {
   "codemirror_mode": {
    "name": "ipython",
    "version": 3
   },
   "file_extension": ".py",
   "mimetype": "text/x-python",
   "name": "python",
   "nbconvert_exporter": "python",
   "pygments_lexer": "ipython3",
   "version": "3.10.8"
  }
 },
 "nbformat": 4,
 "nbformat_minor": 5
}
