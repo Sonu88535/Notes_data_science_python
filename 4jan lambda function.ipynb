{
 "cells": [
  {
   "cell_type": "code",
   "execution_count": 2,
   "id": "7ca4b557-9158-4cb6-8b69-008066da3025",
   "metadata": {},
   "outputs": [],
   "source": [
    "#hame n to the power p nikalna hai uske liye function banana hai \n",
    "n=3 \n",
    "p=2"
   ]
  },
  {
   "cell_type": "code",
   "execution_count": 3,
   "id": "127c1ee3-f40d-4bdf-a036-86ec110bbc7a",
   "metadata": {},
   "outputs": [],
   "source": [
    "def test(n,p):\n",
    "    return n**p"
   ]
  },
  {
   "cell_type": "code",
   "execution_count": 5,
   "id": "72d91915-44d2-4355-876a-c538602323d7",
   "metadata": {},
   "outputs": [
    {
     "data": {
      "text/plain": [
       "9"
      ]
     },
     "execution_count": 5,
     "metadata": {},
     "output_type": "execute_result"
    }
   ],
   "source": [
    "test(3,2)"
   ]
  },
  {
   "cell_type": "code",
   "execution_count": 7,
   "id": "0d1a96f0-39bd-44aa-b4af-c4aa0e3f49b8",
   "metadata": {},
   "outputs": [
    {
     "data": {
      "text/plain": [
       "<function __main__.<lambda>(n, p)>"
      ]
     },
     "execution_count": 7,
     "metadata": {},
     "output_type": "execute_result"
    }
   ],
   "source": [
    "#upr wale same program ko lambda function sai krna hai \n",
    "# lambda ek reserved keyword hai python ke andar \n",
    "###lambda input9jo variable lete teh): output (jo return cahiye) then condition if have \n",
    "lambda n,p: n**p #ab fuction ban gya \n",
    "#lekin ye function ko call krne ke liye ek variable  mai store krna prega "
   ]
  },
  {
   "cell_type": "code",
   "execution_count": 10,
   "id": "10eb6635-8a56-4b4a-9dc0-8bca0153a5a9",
   "metadata": {},
   "outputs": [],
   "source": [
    "a=lambda n,p:n**p #now ab isko call krne ke liye a ko  call krna hoga \n",
    "# nature of this function is one linar function and also call as anonymous function\n",
    "# kyuki iska kio name hai  bs function banaya aur ek variable  mai store krdiya"
   ]
  },
  {
   "cell_type": "code",
   "execution_count": 11,
   "id": "20633993-7a0b-44ae-811d-b625244b06db",
   "metadata": {},
   "outputs": [
    {
     "data": {
      "text/plain": [
       "9"
      ]
     },
     "execution_count": 11,
     "metadata": {},
     "output_type": "execute_result"
    }
   ],
   "source": [
    "a(3,2)"
   ]
  },
  {
   "cell_type": "code",
   "execution_count": 14,
   "id": "0c3ad29c-dcde-47f2-a841-309c3050d7cf",
   "metadata": {},
   "outputs": [],
   "source": [
    "add=lambda x,y:x+y #again maine is function ko name nhi diya is function ko banaya \n",
    "# aur ek variable mai store kr diya issi liye ananymous function khte hao"
   ]
  },
  {
   "cell_type": "code",
   "execution_count": 15,
   "id": "5847c295-a447-48ed-abc4-b82330663c4f",
   "metadata": {},
   "outputs": [
    {
     "data": {
      "text/plain": [
       "5"
      ]
     },
     "execution_count": 15,
     "metadata": {},
     "output_type": "execute_result"
    }
   ],
   "source": [
    "add(3,2)"
   ]
  },
  {
   "cell_type": "code",
   "execution_count": 16,
   "id": "98a8eb25-4fbd-4834-b1c0-8acda1a61cdf",
   "metadata": {},
   "outputs": [],
   "source": [
    "# celcius to farenhite conversion function\n",
    "c_to_f= lambda c:(9/5)*c+32"
   ]
  },
  {
   "cell_type": "code",
   "execution_count": 17,
   "id": "d09b3a69-2494-4524-b66e-9f3148449741",
   "metadata": {},
   "outputs": [
    {
     "data": {
      "text/plain": [
       "113.0"
      ]
     },
     "execution_count": 17,
     "metadata": {},
     "output_type": "execute_result"
    }
   ],
   "source": [
    "c_to_f(45)"
   ]
  },
  {
   "cell_type": "code",
   "execution_count": 18,
   "id": "cb532bc5-2880-4d25-b611-3e6d30a503dc",
   "metadata": {},
   "outputs": [],
   "source": [
    "finding_max= lambda x,y: x if x>y else y"
   ]
  },
  {
   "cell_type": "code",
   "execution_count": 19,
   "id": "8b4d946f-f115-429c-a32d-22064b227ec0",
   "metadata": {},
   "outputs": [
    {
     "data": {
      "text/plain": [
       "5"
      ]
     },
     "execution_count": 19,
     "metadata": {},
     "output_type": "execute_result"
    }
   ],
   "source": [
    "finding_max(4,5)"
   ]
  },
  {
   "cell_type": "code",
   "execution_count": 20,
   "id": "09b5f38e-3586-4b31-a9d2-a3eb96902e8b",
   "metadata": {},
   "outputs": [
    {
     "data": {
      "text/plain": [
       "5424"
      ]
     },
     "execution_count": 20,
     "metadata": {},
     "output_type": "execute_result"
    }
   ],
   "source": [
    "finding_max(344,5424)"
   ]
  },
  {
   "cell_type": "code",
   "execution_count": 21,
   "id": "4f2f73e1-8b7f-4a95-a955-fe93187d9d47",
   "metadata": {},
   "outputs": [],
   "source": [
    "# lambda function likho jo apko length of string return kre\n",
    "s='pwskills'\n"
   ]
  },
  {
   "cell_type": "code",
   "execution_count": 22,
   "id": "3cd056b7-ee00-4e56-b0de-c239cf0e8fbe",
   "metadata": {},
   "outputs": [],
   "source": [
    "find_len=lambda s:len(s) #direct len() function sai find kr skte teh but hmko lambda function banana tha "
   ]
  },
  {
   "cell_type": "code",
   "execution_count": 23,
   "id": "0baa03c2-f911-4a68-a90e-77068e115c5f",
   "metadata": {},
   "outputs": [
    {
     "data": {
      "text/plain": [
       "8"
      ]
     },
     "execution_count": 23,
     "metadata": {},
     "output_type": "execute_result"
    }
   ],
   "source": [
    "find_len(s)"
   ]
  },
  {
   "cell_type": "code",
   "execution_count": null,
   "id": "87e1f7e4-42e3-41ab-93d5-4900366d145f",
   "metadata": {},
   "outputs": [],
   "source": []
  },
  {
   "cell_type": "code",
   "execution_count": null,
   "id": "e630270f-a61b-4194-81af-6448b2b684af",
   "metadata": {},
   "outputs": [],
   "source": []
  }
 ],
 "metadata": {
  "kernelspec": {
   "display_name": "Python 3 (ipykernel)",
   "language": "python",
   "name": "python3"
  },
  "language_info": {
   "codemirror_mode": {
    "name": "ipython",
    "version": 3
   },
   "file_extension": ".py",
   "mimetype": "text/x-python",
   "name": "python",
   "nbconvert_exporter": "python",
   "pygments_lexer": "ipython3",
   "version": "3.10.8"
  }
 },
 "nbformat": 4,
 "nbformat_minor": 5
}
