{
 "cells": [
  {
   "cell_type": "code",
   "execution_count": 1,
   "id": "a0ad4ca1-f023-44ce-9322-4fe51cf3dab4",
   "metadata": {},
   "outputs": [],
   "source": [
    "l=[1,2,3,4,5,]"
   ]
  },
  {
   "cell_type": "code",
   "execution_count": 4,
   "id": "e969fffe-5e77-458b-b741-b3a49fd34ce5",
   "metadata": {},
   "outputs": [
    {
     "name": "stdout",
     "output_type": "stream",
     "text": [
      "1 <class 'int'>\n",
      "2 <class 'int'>\n",
      "3 <class 'int'>\n",
      "4 <class 'int'>\n",
      "5 <class 'int'>\n"
     ]
    }
   ],
   "source": [
    "for i in l:\n",
    "    print(i,type(i))\n",
    "    #l list tha  but i list nhi hai vo int hai"
   ]
  },
  {
   "cell_type": "code",
   "execution_count": 5,
   "id": "6ed0d32a-efd1-4469-97cc-39a2d04c0ad5",
   "metadata": {},
   "outputs": [],
   "source": [
    "l1=['sudh','kumar','krish','naik']"
   ]
  },
  {
   "cell_type": "code",
   "execution_count": 7,
   "id": "832513d8-541b-4a1c-9d97-d147b55a5950",
   "metadata": {},
   "outputs": [
    {
     "name": "stdout",
     "output_type": "stream",
     "text": [
      "sudh <class 'str'>\n",
      "kumar <class 'str'>\n",
      "krish <class 'str'>\n",
      "naik <class 'str'>\n"
     ]
    }
   ],
   "source": [
    "for i in l1:\n",
    "    print(i,type(i))\n",
    "    #l1 list tha  but ab alg alg likha hai ab vo string hai"
   ]
  },
  {
   "cell_type": "code",
   "execution_count": 11,
   "id": "af4a8451-6caa-4708-b686-9932f1bbcab2",
   "metadata": {},
   "outputs": [
    {
     "name": "stdout",
     "output_type": "stream",
     "text": [
      "sudh\n",
      "kumar\n",
      "krish\n",
      "naik\n",
      "if for loop is able to complete itself then only else will execute\n"
     ]
    }
   ],
   "source": [
    "# python mai for else name ka bhi ek chiz hai jo aur kisi programming language mai nhi hai\n",
    "for i in l1:\n",
    "    print(i) #yaha gap isliye hai kyuki  ye block for loop ke andar hai  aur for loop ka chiz yehi\n",
    "              # katam hoga isliye next line pe sai gap nhi hai kyuki vo alag hai\n",
    "else : #yaha gap isliye nhi hai kyuki ye alag sai hai \n",
    "    #yaha pr else tbhi execute hoga jab for loop successfully execute hoga\n",
    "    print('if for loop is able to complete itself then only else will execute')\n",
    "    #isme phle for loop ko execute krega fir uske baad else ko bhi execute krega"
   ]
  },
  {
   "cell_type": "code",
   "execution_count": 12,
   "id": "616778e0-4383-49d8-8455-06ee56f532dc",
   "metadata": {},
   "outputs": [
    {
     "data": {
      "text/plain": [
       "['sudh', 'kumar', 'krish', 'naik']"
      ]
     },
     "execution_count": 12,
     "metadata": {},
     "output_type": "execute_result"
    }
   ],
   "source": [
    "l1"
   ]
  },
  {
   "cell_type": "code",
   "execution_count": 14,
   "id": "ae287b05-9013-4564-87b4-a03f9bf5a773",
   "metadata": {},
   "outputs": [
    {
     "name": "stdout",
     "output_type": "stream",
     "text": [
      "sudh\n"
     ]
    }
   ],
   "source": [
    "#for else mai else kha use nhi hoga ?\n",
    "for i in l1:\n",
    "    if i=='kumar':\n",
    "        break  #yahi rok dega and jispr break lga hai vo execute nhi hoga output m nhi ayega \n",
    "    print(i) #otherwise\n",
    "else:\n",
    "    print('execute this if loop is able to complete itslef') # yaha else execute nhi hua\n",
    "                                   # kyuki else tbhi execute hoga jab for loop pura ka pura execute krjaiga but yaha pr\n",
    "                            # complete nhi hua kumar ke baad break lg gya toh pura execute nhi hua isliye else execute nhi hua"
   ]
  },
  {
   "cell_type": "code",
   "execution_count": 25,
   "id": "2a429c57-7326-4dbf-b922-567e3cab60b3",
   "metadata": {},
   "outputs": [
    {
     "name": "stdout",
     "output_type": "stream",
     "text": [
      "sudh\n",
      "krish\n",
      "naik\n",
      "execute this if for loop is able to complete itself\n"
     ]
    }
   ],
   "source": [
    "for i in l1:\n",
    "    if i==\"kumar\":\n",
    "        continue #continue pr ate hi aage ke print(i) pe nhi jaiga vo direct for sai for pe chla jaiga turant \n",
    "                 #print(i) pe tb ja rha tha jab if i==\"kumar\" false ho rha tha \n",
    "    print(i)\n",
    "else:\n",
    "    print('execute this if for loop is able to complete itself') \n",
    "    #yaha pr else wala execute hogaya kyuki if wala khi bhi break nhi ho rha  sb \n",
    "    # execute ho rha kumar wla aate hi continue lga hai jiske wjah sia for loop pe fir sai chla ja rha hai break nhi ho rha  "
   ]
  },
  {
   "cell_type": "code",
   "execution_count": 26,
   "id": "8d3b0571-2d3c-4e1e-b26c-62840d0bdf97",
   "metadata": {},
   "outputs": [
    {
     "data": {
      "text/plain": [
       "range(0, 5)"
      ]
     },
     "execution_count": 26,
     "metadata": {},
     "output_type": "execute_result"
    }
   ],
   "source": [
    "range(5)# ye generator hai jo data ko generate krdeta hai \n",
    "        #range mai 5 diya hai toh ye 0 to 5 number generate krdega  excluding 5 (5 ko chor kr)"
   ]
  },
  {
   "cell_type": "code",
   "execution_count": 27,
   "id": "2bfce970-0ab2-4b55-800b-b67dd83aee2f",
   "metadata": {},
   "outputs": [
    {
     "data": {
      "text/plain": [
       "[0, 1, 2, 3, 4]"
      ]
     },
     "execution_count": 27,
     "metadata": {},
     "output_type": "execute_result"
    }
   ],
   "source": [
    "list(range(5))"
   ]
  },
  {
   "cell_type": "code",
   "execution_count": 28,
   "id": "29a17c92-c456-4c8a-9220-e6f013fb34e2",
   "metadata": {},
   "outputs": [
    {
     "data": {
      "text/plain": [
       "[0, 1, 2, 3, 4]"
      ]
     },
     "execution_count": 28,
     "metadata": {},
     "output_type": "execute_result"
    }
   ],
   "source": [
    "list(range(0,5,1))\n",
    "# 0 lower bound hai \n",
    "# 1 upper bound ha/i \n",
    "# last 1 jump hai"
   ]
  },
  {
   "cell_type": "code",
   "execution_count": 29,
   "id": "02a7839e-f17b-4e85-80f3-bc28eae6396d",
   "metadata": {},
   "outputs": [
    {
     "data": {
      "text/plain": [
       "range(0, 20, 2)"
      ]
     },
     "execution_count": 29,
     "metadata": {},
     "output_type": "execute_result"
    }
   ],
   "source": [
    "range(0,20,2) #2 ka jump hai  and data generate hogya hai but dhikhega nhi jab ham usse list mai nhi late "
   ]
  },
  {
   "cell_type": "code",
   "execution_count": 30,
   "id": "f9fcbbfb-ca2c-4e5a-a652-e4ae1918a238",
   "metadata": {},
   "outputs": [
    {
     "data": {
      "text/plain": [
       "[0, 2, 4, 6, 8, 10, 12, 14, 16, 18]"
      ]
     },
     "execution_count": 30,
     "metadata": {},
     "output_type": "execute_result"
    }
   ],
   "source": [
    "list(range (0,20,2))"
   ]
  },
  {
   "cell_type": "code",
   "execution_count": 31,
   "id": "5549433a-fb3f-4a68-897e-05ae198b3a2f",
   "metadata": {},
   "outputs": [
    {
     "data": {
      "text/plain": [
       "[-10, -9, -8, -7, -6, -5, -4, -3, -2, -1]"
      ]
     },
     "execution_count": 31,
     "metadata": {},
     "output_type": "execute_result"
    }
   ],
   "source": [
    "list(range(-10,0))#negative mai data produce krna hai tooh  and o upper bound hai toh usse ekk kam tk generate krega "
   ]
  },
  {
   "cell_type": "code",
   "execution_count": 2,
   "id": "b9720c9e-2513-4170-ba3e-1bc2a876023b",
   "metadata": {},
   "outputs": [
    {
     "name": "stdin",
     "output_type": "stream",
     "text": [
      "lower bound 2\n",
      "upper bound 20\n"
     ]
    },
    {
     "data": {
      "text/plain": [
       "[2, 4, 6, 8, 10, 12, 14, 16, 18]"
      ]
     },
     "execution_count": 2,
     "metadata": {},
     "output_type": "execute_result"
    }
   ],
   "source": [
    "list(range(int(input('lower bound')),int(input('upper bound')),2))\n",
    "#yha lower bound user dega aur upper bound bhi user dega and jump 2 ka set hai"
   ]
  },
  {
   "cell_type": "code",
   "execution_count": 3,
   "id": "5b42179e-81c9-4e66-be5b-bb989374b783",
   "metadata": {},
   "outputs": [
    {
     "name": "stdin",
     "output_type": "stream",
     "text": [
      "lower bound 2\n",
      "upper bound 30\n",
      "jump 3\n"
     ]
    },
    {
     "data": {
      "text/plain": [
       "[2, 5, 8, 11, 14, 17, 20, 23, 26, 29]"
      ]
     },
     "execution_count": 3,
     "metadata": {},
     "output_type": "execute_result"
    }
   ],
   "source": [
    "list(range(int(input('lower bound')),int(input('upper bound')),int(input('jump'))))\n",
    "#yha lower bound user dega aur upper bound bhi user dega and jump bhi user dega "
   ]
  },
  {
   "cell_type": "code",
   "execution_count": 32,
   "id": "e974eb90-b612-4543-945b-7527e5d96bf0",
   "metadata": {},
   "outputs": [
    {
     "data": {
      "text/plain": [
       "['sudh', 'kumar', 'krish', 'naik']"
      ]
     },
     "execution_count": 32,
     "metadata": {},
     "output_type": "execute_result"
    }
   ],
   "source": [
    "l1"
   ]
  },
  {
   "cell_type": "code",
   "execution_count": 34,
   "id": "29d2fa22-ece6-47b6-b5d8-c3db9cf5f5aa",
   "metadata": {},
   "outputs": [
    {
     "data": {
      "text/plain": [
       "4"
      ]
     },
     "execution_count": 34,
     "metadata": {},
     "output_type": "execute_result"
    }
   ],
   "source": [
    "#mujhe chaiye last sai start hokar suru tak jai l1\n",
    "len(l1)"
   ]
  },
  {
   "cell_type": "code",
   "execution_count": 35,
   "id": "d1e9d1f4-33b8-4753-a602-248e17b099c4",
   "metadata": {},
   "outputs": [
    {
     "data": {
      "text/plain": [
       "[0, 1, 2, 3]"
      ]
     },
     "execution_count": 35,
     "metadata": {},
     "output_type": "execute_result"
    }
   ],
   "source": [
    "list(range(len(l1))) #ek tarike sai ye total no. of index btta rha l1 mai"
   ]
  },
  {
   "cell_type": "code",
   "execution_count": 37,
   "id": "4dfb5722-e8b7-48af-9fc0-c9c75ea08670",
   "metadata": {},
   "outputs": [
    {
     "name": "stdout",
     "output_type": "stream",
     "text": [
      "sudh\n",
      "kumar\n",
      "krish\n",
      "naik\n"
     ]
    }
   ],
   "source": [
    "for i in range(len(l1)): #\n",
    "    print(l1[i]) "
   ]
  },
  {
   "cell_type": "code",
   "execution_count": 40,
   "id": "520f8bf2-cdc5-4a84-bea1-fe90edb49724",
   "metadata": {},
   "outputs": [
    {
     "data": {
      "text/plain": [
       "[]"
      ]
     },
     "execution_count": 40,
     "metadata": {},
     "output_type": "execute_result"
    }
   ],
   "source": [
    "list(range(len(l1),0)) #reverse krna ke liye kr rhe teh but blank output aa rha kyuki len(l1) jo ki 4 hai  h \n",
    "                      # waha sai 0 ke traf ja rhe but by default jump +1 hai isliye blank  aa rha "
   ]
  },
  {
   "cell_type": "code",
   "execution_count": 42,
   "id": "3ff6c4d2-2ec2-4b95-98e3-383f783613b1",
   "metadata": {},
   "outputs": [
    {
     "data": {
      "text/plain": [
       "[4, 3, 2, 1]"
      ]
     },
     "execution_count": 42,
     "metadata": {},
     "output_type": "execute_result"
    }
   ],
   "source": [
    "list(range(len(l1),0,-1))#but hame 3 to 0 jana tha then\""
   ]
  },
  {
   "cell_type": "code",
   "execution_count": 43,
   "id": "2b36517f-4859-49e3-bf89-31b08b4d0dfc",
   "metadata": {},
   "outputs": [
    {
     "data": {
      "text/plain": [
       "[3, 2, 1, 0]"
      ]
     },
     "execution_count": 43,
     "metadata": {},
     "output_type": "execute_result"
    }
   ],
   "source": [
    "list(range(len(l1)-1,-1,-1))"
   ]
  },
  {
   "cell_type": "code",
   "execution_count": 44,
   "id": "86a2bf3f-9f9c-4cee-8a78-3c7a947b03a2",
   "metadata": {},
   "outputs": [
    {
     "data": {
      "text/plain": [
       "['sudh', 'kumar', 'krish', 'naik']"
      ]
     },
     "execution_count": 44,
     "metadata": {},
     "output_type": "execute_result"
    }
   ],
   "source": [
    "l1"
   ]
  },
  {
   "cell_type": "code",
   "execution_count": 45,
   "id": "1093a044-4a9e-4f1b-88bd-d96943ca568f",
   "metadata": {},
   "outputs": [
    {
     "name": "stdout",
     "output_type": "stream",
     "text": [
      "naik\n",
      "krish\n",
      "kumar\n",
      "sudh\n"
     ]
    }
   ],
   "source": [
    "#rverse mai l1 k DATA cahiye\n",
    "for i in range(len(l1)-1,-1,-1):\n",
    "    print(l1[i])"
   ]
  },
  {
   "cell_type": "code",
   "execution_count": 47,
   "id": "3021adb8-f565-4c4f-a317-51246f593b99",
   "metadata": {},
   "outputs": [
    {
     "name": "stdout",
     "output_type": "stream",
     "text": [
      "naik\n",
      "krish\n",
      "kumar\n",
      "sudh\n"
     ]
    }
   ],
   "source": [
    "#ham reverse wala aese bhi kr skte hai \n",
    "for i in [3,2,1,0]:\n",
    "    print(l1[i])\n",
    "    #but ye wala hardcorded hai agr jada bada data agya agar toh difficult ho jaiga fir upr wale logic sai krna prega "
   ]
  },
  {
   "cell_type": "code",
   "execution_count": 48,
   "id": "21bbcdc7-c9a2-4aeb-a7da-153302d9ff62",
   "metadata": {},
   "outputs": [],
   "source": [
    "l2=[23,5,45,56,6,67,67,78,87,8998,9,9,8] #hmko vo data cahiye jo even index pr available hai "
   ]
  },
  {
   "cell_type": "code",
   "execution_count": 51,
   "id": "5da30e8d-3158-4253-b0b3-bbb66b6892c5",
   "metadata": {},
   "outputs": [
    {
     "data": {
      "text/plain": [
       "[0, 2, 4, 6, 8, 10]"
      ]
     },
     "execution_count": 51,
     "metadata": {},
     "output_type": "execute_result"
    }
   ],
   "source": [
    "list(range(0,len(l2),2))"
   ]
  },
  {
   "cell_type": "code",
   "execution_count": 63,
   "id": "75988b37-6014-4ebc-ab79-615cc542ca14",
   "metadata": {},
   "outputs": [
    {
     "name": "stdout",
     "output_type": "stream",
     "text": [
      "23\n",
      "45\n",
      "6\n",
      "67\n",
      "87\n",
      "9\n",
      "8\n"
     ]
    }
   ],
   "source": [
    "for i in range(0,len(l2),2):\n",
    "   # print(i) ye i ko print krga jo  0,2,4,6,8,10 ye print krdega i ka even krdega \n",
    "     print(l2[i])\n"
   ]
  },
  {
   "cell_type": "code",
   "execution_count": 64,
   "id": "226eb9ba-8532-4fdb-ba49-2e24a152e6d2",
   "metadata": {},
   "outputs": [
    {
     "ename": "IndexError",
     "evalue": "list index out of range",
     "output_type": "error",
     "traceback": [
      "\u001b[0;31m---------------------------------------------------------------------------\u001b[0m",
      "\u001b[0;31mIndexError\u001b[0m                                Traceback (most recent call last)",
      "Cell \u001b[0;32mIn[64], line 3\u001b[0m\n\u001b[1;32m      1\u001b[0m \u001b[38;5;28;01mfor\u001b[39;00m i \u001b[38;5;129;01min\u001b[39;00m l2:\n\u001b[1;32m      2\u001b[0m     \u001b[38;5;28;01mif\u001b[39;00m i\u001b[38;5;241m%\u001b[39m\u001b[38;5;241m2\u001b[39m\u001b[38;5;241m==\u001b[39m\u001b[38;5;241m0\u001b[39m:\n\u001b[0;32m----> 3\u001b[0m         \u001b[38;5;28mprint\u001b[39m(\u001b[43ml2\u001b[49m\u001b[43m[\u001b[49m\u001b[43mi\u001b[49m\u001b[43m]\u001b[49m)\n",
      "\u001b[0;31mIndexError\u001b[0m: list index out of range"
     ]
    }
   ],
   "source": [
    "for i in l2:\n",
    "    if i%2==0:\n",
    "        print(l2[i])"
   ]
  },
  {
   "cell_type": "code",
   "execution_count": 65,
   "id": "08e32bc0-3ec4-4a3d-b690-e89fa391ac50",
   "metadata": {},
   "outputs": [],
   "source": [
    "l=[1,2,3,4,7,8,98] # list mai jo data uska summation krke do"
   ]
  },
  {
   "cell_type": "code",
   "execution_count": 66,
   "id": "bebee41b-d5b1-4d5a-b245-a9e792ad3a0f",
   "metadata": {},
   "outputs": [
    {
     "data": {
      "text/plain": [
       "123"
      ]
     },
     "execution_count": 66,
     "metadata": {},
     "output_type": "execute_result"
    }
   ],
   "source": [
    "sum(l)#ye function sai bhi ajaiga "
   ]
  },
  {
   "cell_type": "code",
   "execution_count": 72,
   "id": "c1c14f09-3a40-4fe8-94bc-325b053f7ba3",
   "metadata": {},
   "outputs": [
    {
     "data": {
      "text/plain": [
       "123"
      ]
     },
     "execution_count": 72,
     "metadata": {},
     "output_type": "execute_result"
    }
   ],
   "source": [
    "result=0\n",
    "for i in l:\n",
    "    result=result+i # i=1-> r=0+1=2\n",
    "                            # r=1+2=3\n",
    "                            # r=3+3=6\n",
    "                            # r=6+4=10\n",
    "                            # r=10+7=17\n",
    "result"
   ]
  },
  {
   "cell_type": "code",
   "execution_count": 84,
   "id": "b0cfb75b-65fa-4a06-afe3-02338610ccab",
   "metadata": {},
   "outputs": [],
   "source": [
    "f = (1,2,3,4,4,5) #tuple"
   ]
  },
  {
   "cell_type": "code",
   "execution_count": 85,
   "id": "085eb9cc-dcda-4a51-94a0-b6774d0cb132",
   "metadata": {},
   "outputs": [
    {
     "name": "stdout",
     "output_type": "stream",
     "text": [
      "1\n",
      "2\n",
      "3\n",
      "4\n",
      "4\n",
      "5\n"
     ]
    }
   ],
   "source": [
    "for i in f:\n",
    "    print(i)"
   ]
  },
  {
   "cell_type": "code",
   "execution_count": 87,
   "id": "2a9ca61e-c3d8-4212-a023-0172bd78f4f4",
   "metadata": {},
   "outputs": [
    {
     "data": {
      "text/plain": [
       "19"
      ]
     },
     "execution_count": 87,
     "metadata": {},
     "output_type": "execute_result"
    }
   ],
   "source": [
    "#tuple ke andar jitne bhi data hai sbka sum cahiye \n",
    "result=0\n",
    "for i in f:\n",
    "    result=result+i\n",
    "result"
   ]
  },
  {
   "cell_type": "code",
   "execution_count": 88,
   "id": "946da4fc-5b2e-4e6f-8c48-96bc5a7814ee",
   "metadata": {},
   "outputs": [
    {
     "data": {
      "text/plain": [
       "19"
      ]
     },
     "execution_count": 88,
     "metadata": {},
     "output_type": "execute_result"
    }
   ],
   "source": [
    "sum(f) #direct fuctiion sai bhi sumation nikal sakte teh"
   ]
  },
  {
   "cell_type": "code",
   "execution_count": 89,
   "id": "1f2a56ba-0b2f-4f30-b06f-da048669e5d8",
   "metadata": {},
   "outputs": [],
   "source": [
    "s={1,2,3,4,5,\"sudh\",\"pwskills\"} #suppose set leliya hmne "
   ]
  },
  {
   "cell_type": "code",
   "execution_count": 90,
   "id": "cd72a957-32b5-426d-a207-3ce1b0f073aa",
   "metadata": {},
   "outputs": [
    {
     "name": "stdout",
     "output_type": "stream",
     "text": [
      "1\n",
      "2\n",
      "3\n",
      "4\n",
      "5\n",
      "pwskills\n",
      "sudh\n"
     ]
    }
   ],
   "source": [
    "for i in s:\n",
    "    print(i)"
   ]
  },
  {
   "cell_type": "code",
   "execution_count": 91,
   "id": "4f6948ab-3e4b-49f2-8746-ac1db1ead744",
   "metadata": {},
   "outputs": [],
   "source": [
    "s1='pwskills' #suppose hmne string leliya  and string mai data index mai store hota hai"
   ]
  },
  {
   "cell_type": "code",
   "execution_count": 92,
   "id": "ae3dae3e-ee38-456c-a72e-1c970a4c96e6",
   "metadata": {},
   "outputs": [
    {
     "name": "stdout",
     "output_type": "stream",
     "text": [
      "p\n",
      "w\n",
      "s\n",
      "k\n",
      "i\n",
      "l\n",
      "l\n",
      "s\n"
     ]
    }
   ],
   "source": [
    "for i in s1:\n",
    "    print(i)"
   ]
  },
  {
   "cell_type": "code",
   "execution_count": 97,
   "id": "43757b99-7f41-4087-a458-c35405844802",
   "metadata": {},
   "outputs": [],
   "source": [
    "d={\"name\":\"sudh\",\"class\":\"data science masters\",\"topic\":[\"python\",\"stats\",\"machine learning\",\"DL\",\"NLP\",\"resume\",\"interview\"]}\n",
    "#suppose hmne dictonary leliya "
   ]
  },
  {
   "cell_type": "code",
   "execution_count": 98,
   "id": "2af8a89e-26a9-4e63-a546-6d20d3546460",
   "metadata": {},
   "outputs": [],
   "source": [
    "d"
   ]
  },
  {
   "cell_type": "code",
   "execution_count": 100,
   "id": "cecbd479-5299-4be5-a0b2-9694aa58c408",
   "metadata": {},
   "outputs": [],
   "source": [
    "d[\"name\"]"
   ]
  },
  {
   "cell_type": "code",
   "execution_count": 101,
   "id": "bb3ae1b0-de25-4bfd-ae6d-ce35ca4106d3",
   "metadata": {},
   "outputs": [
    {
     "data": {
      "text/plain": [
       "dict_keys(['name', 'class', 'topic'])"
      ]
     },
     "execution_count": 101,
     "metadata": {},
     "output_type": "execute_result"
    }
   ],
   "source": [
    "d.keys()"
   ]
  },
  {
   "cell_type": "code",
   "execution_count": 102,
   "id": "fcb17ef8-bcdc-418d-93d5-80b2446bbb5c",
   "metadata": {},
   "outputs": [
    {
     "data": {
      "text/plain": [
       "dict_values(['sudh', 'data science masters', ['python', 'stats', 'machine learning', 'DL', 'NLP', 'resume', 'interview']])"
      ]
     },
     "execution_count": 102,
     "metadata": {},
     "output_type": "execute_result"
    }
   ],
   "source": [
    "d.values()"
   ]
  },
  {
   "cell_type": "code",
   "execution_count": 103,
   "id": "fa18bac1-e518-4bba-b986-3d708ea6f8f9",
   "metadata": {},
   "outputs": [
    {
     "data": {
      "text/plain": [
       "dict_items([('name', 'sudh'), ('class', 'data science masters'), ('topic', ['python', 'stats', 'machine learning', 'DL', 'NLP', 'resume', 'interview'])])"
      ]
     },
     "execution_count": 103,
     "metadata": {},
     "output_type": "execute_result"
    }
   ],
   "source": [
    "d.items() # item nikalte hai toh key and values dono la kar deta hai in the form of tuple"
   ]
  },
  {
   "cell_type": "code",
   "execution_count": 104,
   "id": "f56e78cb-8e82-431a-8c1e-b4a1bd79ab4a",
   "metadata": {},
   "outputs": [
    {
     "name": "stdout",
     "output_type": "stream",
     "text": [
      "sudh\n",
      "data science masters\n",
      "['python', 'stats', 'machine learning', 'DL', 'NLP', 'resume', 'interview']\n"
     ]
    }
   ],
   "source": [
    "for i in d.keys():#keys ke basis pr ek ek values ko print kro\n",
    "    print(d[i]) #value nikale ke liye hm d of keys (d[\"keys\"]) karte hai toh us keys ka value ka nikal jata hai"
   ]
  },
  {
   "cell_type": "code",
   "execution_count": 106,
   "id": "bcfbc377-48b8-44f6-bcd6-e7c4f0e948c1",
   "metadata": {},
   "outputs": [],
   "source": [
    "d.items()"
   ]
  },
  {
   "cell_type": "code",
   "execution_count": 108,
   "id": "ec4eb308-1996-4e7f-aa12-9b7314c7e781",
   "metadata": {},
   "outputs": [],
   "source": [
    "for i in d.items():\n",
    "    print()"
   ]
  },
  {
   "cell_type": "code",
   "execution_count": null,
   "id": "a11cb953-6de6-4739-83aa-9147cefc4e9c",
   "metadata": {},
   "outputs": [],
   "source": []
  }
 ],
 "metadata": {
  "kernelspec": {
   "display_name": "Python 3 (ipykernel)",
   "language": "python",
   "name": "python3"
  },
  "language_info": {
   "codemirror_mode": {
    "name": "ipython",
    "version": 3
   },
   "file_extension": ".py",
   "mimetype": "text/x-python",
   "name": "python",
   "nbconvert_exporter": "python",
   "pygments_lexer": "ipython3",
   "version": "3.10.8"
  }
 },
 "nbformat": 4,
 "nbformat_minor": 5
}
