{
 "cells": [
  {
   "cell_type": "code",
   "execution_count": 1,
   "id": "bb64ad1d-b537-47f3-81a4-b1044604d942",
   "metadata": {},
   "outputs": [
    {
     "name": "stdout",
     "output_type": "stream",
     "text": [
      "this is my print\n"
     ]
    }
   ],
   "source": [
    "print(\"this is my print\")"
   ]
  },
  {
   "cell_type": "code",
   "execution_count": 2,
   "id": "d4484c57-a9f4-4591-b8fd-834db9240883",
   "metadata": {},
   "outputs": [],
   "source": [
    "# ye upr wala print console mai likh kr agya let suppose kuch bhi\n",
    "# print ho rha hai  program mai kio error aa rha hai ya bhi program ko ham debug kr rhe hai \n",
    "# or ye agr console mai print ho rha hai and then agr future mai cahege investigate krna ki kaha pr  kya execute hua \n",
    "# kaha pr kya click hua kaha pr kya action call kiya gya ya  fir program kaha pr ja kr crass hua hai kaha par ja kr error diya hai \n",
    "# ye aap nnhi jaan paoge kyuki ye sirf console mai available hai aur ye chla jaiga ye apke mainmemory mai store hota hia \n",
    "# aur ye basically chla jaiga \n",
    "# toh iska permanent solution kya hai \n",
    "# kaha pr ham jjo chix print kre ya fir jo bhi chiz cahte hai store krna for a future investigation usko ham kaise rakhege\n",
    "# us uska upayy ye hai ki suppose hamare pass kio file ho jai aur uske andr ham ye share ke ke sare chizo ko store kr paye \n",
    "# even in future i will be do investigation at any point of time toh isi chiz ko dhyan mai rakhte hue ham log dicuss krege\n",
    "# login module\n",
    "\n",
    "# print na use krke login us ekre jada acha rhta hai industry purpose ke hisab sai \n",
    "# ye ek file bana kr use mai rakh dega"
   ]
  },
  {
   "cell_type": "code",
   "execution_count": 2,
   "id": "7a1bb64a-a3b5-43bb-af33-e8c5d2a653fc",
   "metadata": {},
   "outputs": [],
   "source": [
    "import logging  #ye package available hai "
   ]
  },
  {
   "cell_type": "code",
   "execution_count": 3,
   "id": "da6dcd8f-d3f3-4f5c-8879-225365986d08",
   "metadata": {},
   "outputs": [],
   "source": [
    "# login ke liye basicconfiguration set krege import krane ke bad\n",
    "# logging.basicConfig(kis file ke andr mujhe log krna hia basically iska signature **kwargs deta hai)\n",
    "logging.basicConfig(filename=\"test.log\",level=logging.INFO)\n",
    "\n",
    "# (filename=\"test.log\") jo bhi aap print mai kr rhe ho usko is file mai sstore krna hia \n",
    "# fir uske bad level decide krte hai\n"
   ]
  },
  {
   "cell_type": "code",
   "execution_count": 4,
   "id": "b31847dd-07bd-471e-b2ac-6977ea38b7b3",
   "metadata": {},
   "outputs": [],
   "source": [
    "logging.info('log this line of ececutation') #basically ye ek tarike ka print hi hai"
   ]
  },
  {
   "cell_type": "code",
   "execution_count": 5,
   "id": "91e19bd7-56b6-499f-bbd0-a7b6d99d4c9f",
   "metadata": {},
   "outputs": [],
   "source": [
    "logging.info(\"this is my print\")"
   ]
  },
  {
   "cell_type": "code",
   "execution_count": 15,
   "id": "9b39ddcd-df83-4feb-99aa-58b6a0f1de85",
   "metadata": {},
   "outputs": [],
   "source": [
    "# 1. NOTSET\n",
    "# 2. DEBUG\n",
    "# 3. INFO\n",
    "# 4. WARNING\n",
    "# 5. ERROR\n",
    "# 6. CRITICAL\n",
    "#  ye 6 logging ke level hai \n",
    "#     let suppose hamne yaaha info set kiya hai toh info aur info ke neeche jitne bhi chiz cahege ham log kr payege\n",
    "#     infoke upr wale chizo ko log nhi kr payege "
   ]
  },
  {
   "cell_type": "code",
   "execution_count": 6,
   "id": "ded81c23-ce19-49ea-96cb-4f6d9ddf14fa",
   "metadata": {},
   "outputs": [],
   "source": [
    "logging.debug(\"this is maessage\") #toh ye mera log nhi hua hai file mai kyuki ye info\n",
    "\n",
    "# ke upr ka hai aur hamne info set kiya tha\n"
   ]
  },
  {
   "cell_type": "code",
   "execution_count": 7,
   "id": "789c15de-db09-4cc2-930b-8e96f0574802",
   "metadata": {},
   "outputs": [],
   "source": [
    "logging.warning(\"snkfsbf\") #ye log hogya kyuki ye info ke neche tha"
   ]
  },
  {
   "cell_type": "code",
   "execution_count": 9,
   "id": "935e03ae-e7ab-4420-9e8e-6556a20da9e7",
   "metadata": {},
   "outputs": [],
   "source": [
    "logging.error(\"this is my error\")"
   ]
  },
  {
   "cell_type": "code",
   "execution_count": 10,
   "id": "2aae3de6-a6cb-4369-a895-356b736a449a",
   "metadata": {},
   "outputs": [],
   "source": [
    "logging.critical(\"this is critical message\")"
   ]
  },
  {
   "cell_type": "code",
   "execution_count": 14,
   "id": "22f07136-9888-45ad-add3-601b78fbd145",
   "metadata": {},
   "outputs": [
    {
     "data": {
      "text/plain": [
       "<function logging.shutdown(handlerList=[<weakref at 0x7fb397c17e20; to 'StreamHandler' at 0x7fb397c48220>, <weakref at 0x7fb397c4f880; to 'StreamHandler' at 0x7fb399ae6e30>, <weakref at 0x7fb397c4e520; to 'FileHandler' at 0x7fb397cc7340>])>"
      ]
     },
     "execution_count": 14,
     "metadata": {},
     "output_type": "execute_result"
    }
   ],
   "source": [
    "logging.shutdown #agr shutdown nhi krege toh new file nhi bana payege"
   ]
  },
  {
   "cell_type": "code",
   "execution_count": 1,
   "id": "cf3efd2f-edd1-473c-aff8-2ac055694c3f",
   "metadata": {},
   "outputs": [],
   "source": [
    "import logging"
   ]
  },
  {
   "cell_type": "code",
   "execution_count": 2,
   "id": "96c9a747-6381-4c10-81ca-1147639ab723",
   "metadata": {},
   "outputs": [],
   "source": [
    "# jab ab log kr rhe hai toh at the of logging ham diff diff type of configuration of def kr skte hai \n",
    "# file ke andar jo data store ho rha hai vo kis trh sai store hoga basically usko bhi ham define kr skte hai\n",
    "logging.basicConfig(filename='test1.log',level=logging.DEBUG,format= '%(asctime)s %(message)s')\n",
    "#s for string \n",
    "# message joo ham likh rhe \n",
    "# format =file jo data bana rha hai store kr rhe hai basically usme kya kya chiz \n",
    "# store ho like usme mere system ka time bhi store ho ham cahte hai kuch aur infomation\n",
    "#and message usme store ho"
   ]
  },
  {
   "cell_type": "code",
   "execution_count": 3,
   "id": "8b186c9f-8110-48c7-a775-2450c8cca045",
   "metadata": {},
   "outputs": [],
   "source": [
    "logging.info(\"this is my info\")\n",
    "logging.error(\"this is my error\")\n",
    "logging.critical(\"this is my critical\")"
   ]
  },
  {
   "cell_type": "code",
   "execution_count": null,
   "id": "d7715e0a-0473-41fa-bb88-8f12696efb28",
   "metadata": {},
   "outputs": [],
   "source": [
    "logging.shutdown"
   ]
  },
  {
   "cell_type": "code",
   "execution_count": 3,
   "id": "023cf556-2a0e-4cfe-9e73-9eb7c824b656",
   "metadata": {},
   "outputs": [],
   "source": [
    "import logging"
   ]
  },
  {
   "cell_type": "code",
   "execution_count": 4,
   "id": "9982692e-0e5b-4725-ad57-de475468eff5",
   "metadata": {},
   "outputs": [],
   "source": [
    "logging.basicConfig(filename=\"test2.log\",level=logging.DEBUG, format= '%(asctime)s %(name)s %(levelname)s %(message)s')\n",
    "# level= info,error,critical\n",
    "# name(jis system sai aya hai) =root"
   ]
  },
  {
   "cell_type": "code",
   "execution_count": 5,
   "id": "a21880cb-a5a2-4b86-b5e8-a4cb535d104a",
   "metadata": {},
   "outputs": [],
   "source": [
    "logging.info(\"this is my info\")\n",
    "logging.error(\"this is my error\")\n",
    "logging.critical(\"this is my critical\")"
   ]
  },
  {
   "cell_type": "code",
   "execution_count": 6,
   "id": "1711ccdb-2002-461e-877a-f49ab86e2e0e",
   "metadata": {},
   "outputs": [],
   "source": [
    "# jo bhi int hai usse seperate list mai rakh do and jo bhi name hai usse seperate list mai rakh do\n",
    "l1_int=[]\n",
    "l2_str=[]\n",
    "l=[1,2,3,4,[2,3,4],'sudh','kumar']\n",
    "for i in l:\n",
    "    if type(i)==list:\n",
    "        for j in i:\n",
    "            if type(j)==int:\n",
    "                l1_int.append(j)\n",
    "    elif type(i)==int:\n",
    "        l1_int.append(i)\n",
    "    else:\n",
    "        if type(i)== str:\n",
    "            l2_str.append(i)\n"
   ]
  },
  {
   "cell_type": "code",
   "execution_count": 7,
   "id": "d58386db-de6c-4498-8120-292a46b8e58e",
   "metadata": {},
   "outputs": [
    {
     "data": {
      "text/plain": [
       "[1, 2, 3, 4, 2, 3, 4]"
      ]
     },
     "execution_count": 7,
     "metadata": {},
     "output_type": "execute_result"
    }
   ],
   "source": [
    "l1_int"
   ]
  },
  {
   "cell_type": "code",
   "execution_count": 8,
   "id": "2a447f65-5d7f-43c8-9a75-9a2f6504c471",
   "metadata": {},
   "outputs": [
    {
     "data": {
      "text/plain": [
       "['sudh', 'kumar']"
      ]
     },
     "execution_count": 8,
     "metadata": {},
     "output_type": "execute_result"
    }
   ],
   "source": [
    "l2_str"
   ]
  },
  {
   "cell_type": "code",
   "execution_count": 16,
   "id": "b55b12d6-e2d6-412a-b5cf-8de70300c7a5",
   "metadata": {},
   "outputs": [],
   "source": [
    "# let suppose hame yaha logging module implement krna hai\n",
    "# and yaha har ek step mai message dena hai\n",
    "# logging wala already bana hua hai\n",
    "l=[1,2,3,4,[2,3,4],'sudh','kumar']\n",
    "\n",
    "l1_int=[]\n",
    "l2_str=[]\n",
    "\n",
    "for i in l:\n",
    "    logging.info(\"we are iterating through our list and our local var is i\" +str(l)) \n",
    "    #sirf l list ko dalte toh nhi hota +str(l) krna hoga\n",
    "    if type(i)==list:\n",
    "        logging.info(\"i am inside id statement and i am trying to check list type\" +str(i))\n",
    "        for j in i:\n",
    "            logging.info(\"i am in another for loop for list inside list element\" +str(j))\n",
    "            if type(j)==int:\n",
    "                logging.info(\"i am inside if statement\")\n",
    "                l1_int.append(j)\n",
    "    elif type(i)==int:\n",
    "        l1_int.append(i)\n",
    "    else:\n",
    "        if type(i)== str:\n",
    "            l2_str.append(i)\n"
   ]
  },
  {
   "cell_type": "code",
   "execution_count": 20,
   "id": "98e2c7b8-a6bb-4606-bc26-19fce7faecf0",
   "metadata": {},
   "outputs": [],
   "source": [
    "# let suppose hame yaha logging module implement krna hai\n",
    "# and yaha har ek step mai message dena hai\n",
    "# logging wala already bana hua hai\n",
    "l=[1,2,3,4,[2,3,4],'sudh','kumar']\n",
    "\n",
    "l1_int=[]\n",
    "l2_str=[]\n",
    "\n",
    "for i in l:\n",
    "    logging.info(\"we are iterating through our list and our local var is {}\" .format(l))  \n",
    "    #ham inverted comma ke andar {} ye laga kr and then \n",
    "    # inverted comma ke bahat ye likh kr .format(and jo dalna hai)\n",
    "    # bhi kr skte hai \n",
    "    # or\n",
    "    #sirf l list ko dalte toh nhi hota +str(l) krna hoga\n",
    "    if type(i)==list:\n",
    "        logging.info(\"i am inside id statement and i am trying to check list type\" +str(i))\n",
    "        for j in i:\n",
    "            logging.info(\"i am in another for loop for list inside list element\" +str(j))\n",
    "            if type(j)==int:\n",
    "                logging.info(\"i am inside if statement\")\n",
    "                l1_int.append(j)\n",
    "    elif type(i)==int:\n",
    "        l1_int.append(i)\n",
    "    else:\n",
    "        if type(i)== str:\n",
    "            l2_str.append(i)\n",
    "logging.info(\"my final result for int is {l1} and str is {l2}\" .format(l1=l1_int,l2=l2_str))"
   ]
  },
  {
   "cell_type": "code",
   "execution_count": null,
   "id": "3aedd7c6-b818-45bf-ad09-fab61c7fcbf7",
   "metadata": {},
   "outputs": [],
   "source": [
    "# ab jo bhi program likhege sb logging ke form mai likhna print ke jagah"
   ]
  }
 ],
 "metadata": {
  "kernelspec": {
   "display_name": "Python 3 (ipykernel)",
   "language": "python",
   "name": "python3"
  },
  "language_info": {
   "codemirror_mode": {
    "name": "ipython",
    "version": 3
   },
   "file_extension": ".py",
   "mimetype": "text/x-python",
   "name": "python",
   "nbconvert_exporter": "python",
   "pygments_lexer": "ipython3",
   "version": "3.10.8"
  }
 },
 "nbformat": 4,
 "nbformat_minor": 5
}
