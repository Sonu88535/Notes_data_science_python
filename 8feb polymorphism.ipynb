{
 "cells": [
  {
   "cell_type": "code",
   "execution_count": 1,
   "id": "a0bf12a1-76b1-4909-a72e-f3dec904165b",
   "metadata": {},
   "outputs": [],
   "source": [
    "#ek entity jisla behaviour different different ho skta hai different different circumstances mai \n",
    "#jaise mai ek hi student ho skta hu kisika bhai ho skta ho bhai husband ho skta hu kiska son ho skta hu \n",
    "# toh polymorphism isse criteria pr kaam krtta hai"
   ]
  },
  {
   "cell_type": "code",
   "execution_count": 3,
   "id": "cefde5ee-5966-47c8-a022-6738ad362cb2",
   "metadata": {},
   "outputs": [],
   "source": [
    "def test(a,b):\n",
    "    return a+b"
   ]
  },
  {
   "cell_type": "code",
   "execution_count": 4,
   "id": "589a16b5-27d2-49ab-a985-61d85ae944b9",
   "metadata": {},
   "outputs": [
    {
     "data": {
      "text/plain": [
       "7"
      ]
     },
     "execution_count": 4,
     "metadata": {},
     "output_type": "execute_result"
    }
   ],
   "source": [
    "test(3,4) #yahha ye add krde rha "
   ]
  },
  {
   "cell_type": "code",
   "execution_count": 7,
   "id": "c9dc46fe-6846-484b-9e68-cf62a832262c",
   "metadata": {},
   "outputs": [
    {
     "data": {
      "text/plain": [
       "'sonu vishwaakarma'"
      ]
     },
     "execution_count": 7,
     "metadata": {},
     "output_type": "execute_result"
    }
   ],
   "source": [
    "test('sonu',' vishwaakarma') #yaha ye add nhi kr rha yaha ye concinate krde rha   that means func same hai but behaviur diff ho ja rha "
   ]
  },
  {
   "cell_type": "code",
   "execution_count": 8,
   "id": "9834f879-b8a4-4958-b3fa-72748979310b",
   "metadata": {},
   "outputs": [],
   "source": [
    "class data_science:\n",
    "    def syllabus(self):\n",
    "        print('this is my syllabus for data science')"
   ]
  },
  {
   "cell_type": "code",
   "execution_count": 9,
   "id": "209d5c5b-e981-4c72-a8ae-23f1d6f34511",
   "metadata": {},
   "outputs": [],
   "source": [
    "class web_dev:\n",
    "    def syllabus(self):\n",
    "        print('this is my syllabus for web dev')"
   ]
  },
  {
   "cell_type": "code",
   "execution_count": null,
   "id": "8e6e1fbd-e2f2-461f-85ed-b36aafae19b1",
   "metadata": {},
   "outputs": [],
   "source": [
    "def class_percer(class_obj):\n",
    "    for i in class_obj:\n",
    "        i.syllabus()"
   ]
  },
  {
   "cell_type": "code",
   "execution_count": 11,
   "id": "0edac210-08cc-4612-b8a5-4f9aa86bcc80",
   "metadata": {},
   "outputs": [],
   "source": [
    "data_science=data_science() #objct banaya"
   ]
  },
  {
   "cell_type": "code",
   "execution_count": 12,
   "id": "3f6532a2-b19e-4722-a122-c474ce2d1a70",
   "metadata": {},
   "outputs": [],
   "source": [
    "web_dev=web_dev() # object banya webdev kka"
   ]
  },
  {
   "cell_type": "code",
   "execution_count": null,
   "id": "104bbc4c-b078-46ef-a861-27bfed0ef582",
   "metadata": {},
   "outputs": [],
   "source": [
    "class_obj=[data_science,web_dev] #dono obj ko class obj mai rakh diya  \n",
    "                         #class obj data le rha as a list"
   ]
  },
  {
   "cell_type": "code",
   "execution_count": 14,
   "id": "42a0c9df-f3d0-4862-a9d8-094869340193",
   "metadata": {},
   "outputs": [
    {
     "name": "stdout",
     "output_type": "stream",
     "text": [
      "this is my syllabus for data science\n",
      "this is my syllabus for web dev\n"
     ]
    }
   ],
   "source": [
    "class_percer(class_obj)"
   ]
  },
  {
   "cell_type": "code",
   "execution_count": null,
   "id": "abfe2355-fd1b-493e-9d03-d4ec3e21eb00",
   "metadata": {},
   "outputs": [],
   "source": [
    "# mai syllabus ko call kr pa rha jo ki diff diff class mai available hai"
   ]
  }
 ],
 "metadata": {
  "kernelspec": {
   "display_name": "Python 3 (ipykernel)",
   "language": "python",
   "name": "python3"
  },
  "language_info": {
   "codemirror_mode": {
    "name": "ipython",
    "version": 3
   },
   "file_extension": ".py",
   "mimetype": "text/x-python",
   "name": "python",
   "nbconvert_exporter": "python",
   "pygments_lexer": "ipython3",
   "version": "3.10.8"
  }
 },
 "nbformat": 4,
 "nbformat_minor": 5
}
