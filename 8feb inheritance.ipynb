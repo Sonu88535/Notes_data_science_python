{
 "cells": [
  {
   "cell_type": "code",
   "execution_count": 1,
   "id": "f74d55f9-7dd8-4301-9fa8-4da500cbf0e1",
   "metadata": {},
   "outputs": [],
   "source": [
    "# Inheritance: Inheritance allows one class to inherit the properties and methods of another class.\n",
    "# # This is useful for creating hierarchies of classes with shared functionality,\n",
    "# # and for creating specialized classes based on more general ones."
   ]
  },
  {
   "cell_type": "code",
   "execution_count": 2,
   "id": "44994d54-ec35-4987-b25a-e443ac8b39b6",
   "metadata": {},
   "outputs": [],
   "source": [
    "# Inheritance means ki hmlog apne parents , ancestors ya famillly members \n",
    "# sai inheritate krte hai kuch kuch properties  in simlar manner programming ke andar bhi \n",
    "# ye same concept bhi applicable hote hai \n",
    "# for example  apne ek class banaya usme kuch properties available hoga jaise kuch variable hoga \n",
    "# ya fir kuch method hoga ya fir kuch function hoga us class ke andar us same method ko\n",
    "# same function koo same variable ko reuse krna hai kisi or class mai bina create kiye hue dubara \n",
    "# kyuki bar bar create krne sai code ki length badege compplexity badege no of module badege \n",
    "# toh acha ye hoga ki jo phle already class  banaya hai ussi ham kisi trh sai hm dusre class mai \n",
    "# le aye paa paye  aur phir usse ham waha reuse kr paye toh isse hamare liye program likhna ashan ho jaiga\n",
    "# aur isshi ko basically ham bolte hai inheritance"
   ]
  },
  {
   "cell_type": "code",
   "execution_count": 5,
   "id": "e9dc041f-4e69-4280-abce-e3e388950eea",
   "metadata": {},
   "outputs": [],
   "source": [
    "class test:                            #parent class hai ye \n",
    "    def test_meth(self):\n",
    "        return \"this is my first class\"\n",
    "    "
   ]
  },
  {
   "cell_type": "code",
   "execution_count": 6,
   "id": "a565a519-d9ed-4066-bc4d-afeabaea8860",
   "metadata": {},
   "outputs": [],
   "source": [
    "class child_test(test): #yaha is class ke andar purana class daal diya        #ye child class hai \n",
    "    pass  \n",
    "#upr ek parent class bana liya  aur isme child class bana liya child class mai parent class ko call krdiya \n",
    "#fir us child class ke obj ke jariye mai kio bhi property access kr sakta hu test class ka i.e parent class ka "
   ]
  },
  {
   "cell_type": "code",
   "execution_count": 7,
   "id": "f4e945d2-9eb5-4b38-b0e0-1100db89926e",
   "metadata": {},
   "outputs": [],
   "source": [
    "class_test_obj=child_test()\n",
    "#obj banaya child_test class wale ka isme toh kuch tha hi nhi sirf pass likha hai \n",
    "#fir bhi iske help sai test sai test wala class ka property use kr paa rha "
   ]
  },
  {
   "cell_type": "code",
   "execution_count": 8,
   "id": "92cfaa85-1886-45b6-838e-69cc3f1c14a5",
   "metadata": {},
   "outputs": [
    {
     "data": {
      "text/plain": [
       "'this is my first class'"
      ]
     },
     "execution_count": 8,
     "metadata": {},
     "output_type": "execute_result"
    }
   ],
   "source": [
    "class_test_obj.test_meth() # yaha pr ish obj"
   ]
  },
  {
   "cell_type": "code",
   "execution_count": 9,
   "id": "6fb54c00-63fe-45f7-99c1-7630158eeed9",
   "metadata": {},
   "outputs": [],
   "source": [
    "# multilevel inheritance\n",
    "# suppose 3 class hai class 1 , class 2 and class 3 \n",
    "# class 2 inheritate th property of class 1\n",
    "# class 3 inheritate the property of class 2\n",
    "# indirectly class 3 inheritate the property of class 1 \n"
   ]
  },
  {
   "cell_type": "code",
   "execution_count": 10,
   "id": "b85eb8e8-b948-4f8d-95fd-8c1667712773",
   "metadata": {},
   "outputs": [],
   "source": [
    "#multilevel inheritate\n",
    "class class1:\n",
    "    def test_class(slef):\n",
    "        return \"this is a math from class1\"\n",
    "    "
   ]
  },
  {
   "cell_type": "code",
   "execution_count": 11,
   "id": "1ebc6bde-7183-451b-8781-d44fec347c4b",
   "metadata": {},
   "outputs": [],
   "source": [
    "class class2(class1): #class1 isme call krne sai class 2 mai sare property aajati hai class1 ki\n",
    "    def test_class2(self):\n",
    "        return \"this is the method of class2\""
   ]
  },
  {
   "cell_type": "code",
   "execution_count": 12,
   "id": "991dfda1-ff45-4aa0-a5b4-c340ff17915d",
   "metadata": {},
   "outputs": [],
   "source": [
    "class class3(class2):\n",
    "    pass"
   ]
  },
  {
   "cell_type": "code",
   "execution_count": 14,
   "id": "6d8d0b05-a2f4-40eb-92ab-a6c01adb50fe",
   "metadata": {},
   "outputs": [],
   "source": [
    "obj_class3=class3()"
   ]
  },
  {
   "cell_type": "code",
   "execution_count": 15,
   "id": "6ba5e9a8-6dd3-4081-a9a0-96bef6ce70de",
   "metadata": {},
   "outputs": [
    {
     "data": {
      "text/plain": [
       "'this is a math from class1'"
      ]
     },
     "execution_count": 15,
     "metadata": {},
     "output_type": "execute_result"
    }
   ],
   "source": [
    "obj_class3.test_class()"
   ]
  },
  {
   "cell_type": "code",
   "execution_count": 16,
   "id": "68f45d24-ab7e-46b1-b8ff-18156d772699",
   "metadata": {},
   "outputs": [
    {
     "data": {
      "text/plain": [
       "'this is the method of class2'"
      ]
     },
     "execution_count": 16,
     "metadata": {},
     "output_type": "execute_result"
    }
   ],
   "source": [
    "obj_class3.test_class2() \n",
    "#obj_class3 ke baad . laaga kr tab daba kr dekho dono class\n",
    "# ke property access kr paa rhe class3 ke obj sai"
   ]
  },
  {
   "cell_type": "code",
   "execution_count": 18,
   "id": "412f370b-e2ad-451f-b269-17a41628dbb2",
   "metadata": {},
   "outputs": [],
   "source": [
    " # multiple inheritance \n",
    "# suppose 3 class hai class 1 , class 2 and class 3 \n",
    "# yaha class 3 directly access kr pa rha property of class 1 and 2\n",
    "# isme 2 seperate class banana prega or 3rd class mai call krlenge "
   ]
  },
  {
   "cell_type": "code",
   "execution_count": 19,
   "id": "66f63c54-abb1-4f94-8f86-dbe7a4addad3",
   "metadata": {},
   "outputs": [],
   "source": [
    "# multiple inheritate\n",
    "class class1:\n",
    "    def test_class1(self):\n",
    "        return \"this is a class1\"\n",
    "    "
   ]
  },
  {
   "cell_type": "code",
   "execution_count": 21,
   "id": "d8bb29ea-3304-4778-8ca7-d97edf2246b7",
   "metadata": {},
   "outputs": [],
   "source": [
    "class class2:\n",
    "    def test_class2(self):\n",
    "        return \"this is a class2\""
   ]
  },
  {
   "cell_type": "code",
   "execution_count": 22,
   "id": "7f3eb6ec-0429-4c40-bad0-2a240585e2b8",
   "metadata": {},
   "outputs": [],
   "source": [
    "class class3(class1,class2):\n",
    "    pass"
   ]
  },
  {
   "cell_type": "code",
   "execution_count": 29,
   "id": "1ff5dda2-8a7b-4413-9513-7c8449c86a05",
   "metadata": {},
   "outputs": [],
   "source": [
    "obj_class3=class3()"
   ]
  },
  {
   "cell_type": "code",
   "execution_count": 30,
   "id": "db165f39-79d1-4415-87f9-0a4cc75866af",
   "metadata": {},
   "outputs": [
    {
     "data": {
      "text/plain": [
       "'this is a class1'"
      ]
     },
     "execution_count": 30,
     "metadata": {},
     "output_type": "execute_result"
    }
   ],
   "source": [
    "obj_class3.test_class1()"
   ]
  },
  {
   "cell_type": "code",
   "execution_count": 32,
   "id": "e3d2424a-9709-4a9c-a982-2d8bfeeb1477",
   "metadata": {},
   "outputs": [
    {
     "data": {
      "text/plain": [
       "'this is a class2'"
      ]
     },
     "execution_count": 32,
     "metadata": {},
     "output_type": "execute_result"
    }
   ],
   "source": [
    "obj_class3.test_class2()\n",
    "#ab yaha dono class access kr paa rhe "
   ]
  },
  {
   "cell_type": "code",
   "execution_count": null,
   "id": "22b9ec1e-5041-453f-9f64-e0a873f16d01",
   "metadata": {},
   "outputs": [],
   "source": []
  }
 ],
 "metadata": {
  "kernelspec": {
   "display_name": "Python 3 (ipykernel)",
   "language": "python",
   "name": "python3"
  },
  "language_info": {
   "codemirror_mode": {
    "name": "ipython",
    "version": 3
   },
   "file_extension": ".py",
   "mimetype": "text/x-python",
   "name": "python",
   "nbconvert_exporter": "python",
   "pygments_lexer": "ipython3",
   "version": "3.10.8"
  }
 },
 "nbformat": 4,
 "nbformat_minor": 5
}
