{
 "cells": [
  {
   "cell_type": "code",
   "execution_count": 1,
   "id": "1f1621e3-b3bf-411c-8b96-3b6a4989ce96",
   "metadata": {},
   "outputs": [],
   "source": [
    "a=10"
   ]
  },
  {
   "cell_type": "code",
   "execution_count": 2,
   "id": "5bd348d5-5624-404e-ab07-8801f2490efe",
   "metadata": {},
   "outputs": [
    {
     "ename": "ZeroDivisionError",
     "evalue": "division by zero",
     "output_type": "error",
     "traceback": [
      "\u001b[0;31m---------------------------------------------------------------------------\u001b[0m",
      "\u001b[0;31mZeroDivisionError\u001b[0m                         Traceback (most recent call last)",
      "Cell \u001b[0;32mIn[2], line 1\u001b[0m\n\u001b[0;32m----> 1\u001b[0m \u001b[43ma\u001b[49m\u001b[38;5;241;43m/\u001b[39;49m\u001b[38;5;241;43m0\u001b[39;49m\n",
      "\u001b[0;31mZeroDivisionError\u001b[0m: division by zero"
     ]
    }
   ],
   "source": [
    "a/0"
   ]
  },
  {
   "cell_type": "code",
   "execution_count": 5,
   "id": "49ded6a5-2be1-46a9-a757-261fc8d2e67b",
   "metadata": {},
   "outputs": [
    {
     "ename": "FileNotFoundError",
     "evalue": "[Errno 2] No such file or directory: 'text.txt'",
     "output_type": "error",
     "traceback": [
      "\u001b[0;31m---------------------------------------------------------------------------\u001b[0m",
      "\u001b[0;31mFileNotFoundError\u001b[0m                         Traceback (most recent call last)",
      "Cell \u001b[0;32mIn[5], line 1\u001b[0m\n\u001b[0;32m----> 1\u001b[0m f\u001b[38;5;241m=\u001b[39m\u001b[38;5;28;43mopen\u001b[39;49m\u001b[43m(\u001b[49m\u001b[38;5;124;43m\"\u001b[39;49m\u001b[38;5;124;43mtext.txt\u001b[39;49m\u001b[38;5;124;43m\"\u001b[39;49m\u001b[43m,\u001b[49m\u001b[38;5;124;43m\"\u001b[39;49m\u001b[38;5;124;43mr\u001b[39;49m\u001b[38;5;124;43m\"\u001b[39;49m\u001b[43m)\u001b[49m \u001b[38;5;66;03m#file hai hi nhi toh aur ham open kr rhe read mode mai isliye error agya\u001b[39;00m\n\u001b[1;32m      2\u001b[0m \u001b[38;5;66;03m#and agr fist line mai error agya toh nect line ko execute nhi krne degaa\u001b[39;00m\n\u001b[1;32m      3\u001b[0m \u001b[38;5;28mprint\u001b[39m(\u001b[38;5;124m\"\u001b[39m\u001b[38;5;124mthis is my print\u001b[39m\u001b[38;5;124m\"\u001b[39m)\n",
      "File \u001b[0;32m/opt/conda/lib/python3.10/site-packages/IPython/core/interactiveshell.py:282\u001b[0m, in \u001b[0;36m_modified_open\u001b[0;34m(file, *args, **kwargs)\u001b[0m\n\u001b[1;32m    275\u001b[0m \u001b[38;5;28;01mif\u001b[39;00m file \u001b[38;5;129;01min\u001b[39;00m {\u001b[38;5;241m0\u001b[39m, \u001b[38;5;241m1\u001b[39m, \u001b[38;5;241m2\u001b[39m}:\n\u001b[1;32m    276\u001b[0m     \u001b[38;5;28;01mraise\u001b[39;00m \u001b[38;5;167;01mValueError\u001b[39;00m(\n\u001b[1;32m    277\u001b[0m         \u001b[38;5;124mf\u001b[39m\u001b[38;5;124m\"\u001b[39m\u001b[38;5;124mIPython won\u001b[39m\u001b[38;5;124m'\u001b[39m\u001b[38;5;124mt let you open fd=\u001b[39m\u001b[38;5;132;01m{\u001b[39;00mfile\u001b[38;5;132;01m}\u001b[39;00m\u001b[38;5;124m by default \u001b[39m\u001b[38;5;124m\"\u001b[39m\n\u001b[1;32m    278\u001b[0m         \u001b[38;5;124m\"\u001b[39m\u001b[38;5;124mas it is likely to crash IPython. If you know what you are doing, \u001b[39m\u001b[38;5;124m\"\u001b[39m\n\u001b[1;32m    279\u001b[0m         \u001b[38;5;124m\"\u001b[39m\u001b[38;5;124myou can use builtins\u001b[39m\u001b[38;5;124m'\u001b[39m\u001b[38;5;124m open.\u001b[39m\u001b[38;5;124m\"\u001b[39m\n\u001b[1;32m    280\u001b[0m     )\n\u001b[0;32m--> 282\u001b[0m \u001b[38;5;28;01mreturn\u001b[39;00m \u001b[43mio_open\u001b[49m\u001b[43m(\u001b[49m\u001b[43mfile\u001b[49m\u001b[43m,\u001b[49m\u001b[43m \u001b[49m\u001b[38;5;241;43m*\u001b[39;49m\u001b[43margs\u001b[49m\u001b[43m,\u001b[49m\u001b[43m \u001b[49m\u001b[38;5;241;43m*\u001b[39;49m\u001b[38;5;241;43m*\u001b[39;49m\u001b[43mkwargs\u001b[49m\u001b[43m)\u001b[49m\n",
      "\u001b[0;31mFileNotFoundError\u001b[0m: [Errno 2] No such file or directory: 'text.txt'"
     ]
    }
   ],
   "source": [
    "f=open(\"text.txt\",\"r\") #file hai hi nhi toh aur ham open kr rhe read mode mai isliye error agya\n",
    "#and agr fist line mai error agya toh nect line ko execute nhi krne degaa\n",
    "# kyuki python sequential mode mai code execute krta hai line by line\n",
    "print(\"this is my print\")"
   ]
  },
  {
   "cell_type": "code",
   "execution_count": 6,
   "id": "fdd6b747-bcb0-48d7-9435-a10d326f4892",
   "metadata": {},
   "outputs": [],
   "source": [
    "# # toh ham isko kaise handle kyuki kyuki bahut badi code rhge aur beech mai khai error agya toh fir execute nhi krega\n",
    "# # toh isko ham kaise handle kare\n",
    "# # toh issi ko handle krne ke liye exception handling ka use krege\n",
    "# exception handling ke andar basically blocks hote hai \n",
    "# jo bhi mera code hai jaha mere ko lag rha error ho skta hai usse \n",
    "#  ham rakdenge exception handling ke andar means  try block ke andar "
   ]
  },
  {
   "cell_type": "code",
   "execution_count": 3,
   "id": "84561739-ae67-4581-809d-aeb3148a4dfe",
   "metadata": {},
   "outputs": [
    {
     "name": "stdout",
     "output_type": "stream",
     "text": [
      "this is my except block [Errno 2] No such file or directory: 'text.txt'\n"
     ]
    },
    {
     "data": {
      "text/plain": [
       "9"
      ]
     },
     "execution_count": 3,
     "metadata": {},
     "output_type": "execute_result"
    }
   ],
   "source": [
    "try:\n",
    "    f=open(\"text.txt\",\"r\") #run hogya toh thk hai warna usse bhej denge except block ke pass\n",
    "except Exception as e:\n",
    "    print(\"this is my except block\",e)\n",
    "    \n",
    "a=4+5\n",
    "a\n",
    "    "
   ]
  },
  {
   "cell_type": "code",
   "execution_count": 1,
   "id": "a2a9628f-7fdd-40fa-b0cc-d1dad58341a1",
   "metadata": {},
   "outputs": [],
   "source": [
    "# # jaha error tha vha likh ke dede rha but uske aage wale ko error nhi de rha run kra de rha \n",
    "# jab bhi kio code likhege toh usse try block ke andar hi rakhege even in func mai bhi\n",
    "# try agr error gen hua toh \n",
    "# except usko handle krne ke liye"
   ]
  },
  {
   "cell_type": "code",
   "execution_count": 10,
   "id": "de6a5723-21bd-472a-a22a-e2c50495bd3d",
   "metadata": {},
   "outputs": [
    {
     "name": "stdout",
     "output_type": "stream",
     "text": [
      "this will be excuted once your try will execute without error\n"
     ]
    }
   ],
   "source": [
    "try:\n",
    "    f=open(\"text.txt\",\"w\")\n",
    "    f.write(\"write into my file\") #now ab yaha file ko write mode mai open kiya kio error nhi aya \n",
    "    # toh ye ab except ke andar nhi ja rha except ke andar tbhi jaiga jab mera error ajaiga try block k e andar\n",
    "    # cahe yaha close krdo ya fir bahar\n",
    "except Exception as e:\n",
    "    print(\"this is my except block\",e)\n",
    "    \n",
    "# else block vo block hai jo execute krega khud ko agr try block sucessfully excute hua hai toh\n",
    "# agr try block crash hokar except mai aya hai toh mera try block excute nhi hoga\n",
    "else:\n",
    "    f.close()\n",
    "    print(\"this will be excuted once your try will execute without error\")"
   ]
  },
  {
   "cell_type": "code",
   "execution_count": 12,
   "id": "196e31fe-3f3c-4432-af32-d31069826e4e",
   "metadata": {},
   "outputs": [
    {
     "name": "stdout",
     "output_type": "stream",
     "text": [
      "this is my except block [Errno 2] No such file or directory: 'text1.txt'\n"
     ]
    }
   ],
   "source": [
    "try:\n",
    "    f=open(\"text1.txt\",\"r\")\n",
    "    f.write(\"write into my file\")  \n",
    "    \n",
    "except Exception as e:\n",
    "    print(\"this is my except block\",e)\n",
    "    \n",
    "\n",
    "else:\n",
    "    f.close()\n",
    "    print(\"this will be excuted once your try will execute without error\")"
   ]
  },
  {
   "cell_type": "code",
   "execution_count": 13,
   "id": "d94316e6-a40e-469b-9f19-28dd5f602178",
   "metadata": {},
   "outputs": [],
   "source": [
    "#now abb try ke andar bhi try likh sakte  ho except ke andar hi try bhi likh skte ho"
   ]
  },
  {
   "cell_type": "code",
   "execution_count": 14,
   "id": "33c57d95-bb5b-4b9b-a54b-bbc39e33868a",
   "metadata": {},
   "outputs": [],
   "source": [
    "# total 4 block hote hai\n",
    "# 1-try \n",
    "# 2-except\n",
    "# 3-else\n",
    "# 4-finally"
   ]
  },
  {
   "cell_type": "code",
   "execution_count": 17,
   "id": "d0a9d0aa-e6f6-4822-b183-e229287bbcac",
   "metadata": {},
   "outputs": [
    {
     "name": "stdout",
     "output_type": "stream",
     "text": [
      "finally will execute itself in any situation\n"
     ]
    }
   ],
   "source": [
    "try:\n",
    "    f=open(\"text2.txt\",'w')\n",
    "    f.write(\"write something\")\n",
    "    f.close()\n",
    "finally:\n",
    "    print(\"finally will execute itself in any situation\")"
   ]
  },
  {
   "cell_type": "code",
   "execution_count": 19,
   "id": "64ef3f18-f03e-45ad-bd86-6b6a4312d233",
   "metadata": {},
   "outputs": [
    {
     "name": "stdout",
     "output_type": "stream",
     "text": [
      "finally will execute itself in any situation\n"
     ]
    },
    {
     "ename": "FileNotFoundError",
     "evalue": "[Errno 2] No such file or directory: 'text3.txt'",
     "output_type": "error",
     "traceback": [
      "\u001b[0;31m---------------------------------------------------------------------------\u001b[0m",
      "\u001b[0;31mFileNotFoundError\u001b[0m                         Traceback (most recent call last)",
      "Cell \u001b[0;32mIn[19], line 3\u001b[0m\n\u001b[1;32m      1\u001b[0m \u001b[38;5;66;03m#finally wala execute hoga kisi bhi situation mai \u001b[39;00m\n\u001b[1;32m      2\u001b[0m \u001b[38;5;28;01mtry\u001b[39;00m:\n\u001b[0;32m----> 3\u001b[0m     f\u001b[38;5;241m=\u001b[39m\u001b[38;5;28;43mopen\u001b[39;49m\u001b[43m(\u001b[49m\u001b[38;5;124;43m\"\u001b[39;49m\u001b[38;5;124;43mtext3.txt\u001b[39;49m\u001b[38;5;124;43m\"\u001b[39;49m\u001b[43m,\u001b[49m\u001b[38;5;124;43m'\u001b[39;49m\u001b[38;5;124;43mr\u001b[39;49m\u001b[38;5;124;43m'\u001b[39;49m\u001b[43m)\u001b[49m\n\u001b[1;32m      4\u001b[0m     f\u001b[38;5;241m.\u001b[39mwrite(\u001b[38;5;124m\"\u001b[39m\u001b[38;5;124mwrite something\u001b[39m\u001b[38;5;124m\"\u001b[39m)\n\u001b[1;32m      5\u001b[0m     f\u001b[38;5;241m.\u001b[39mclose()\n",
      "File \u001b[0;32m/opt/conda/lib/python3.10/site-packages/IPython/core/interactiveshell.py:282\u001b[0m, in \u001b[0;36m_modified_open\u001b[0;34m(file, *args, **kwargs)\u001b[0m\n\u001b[1;32m    275\u001b[0m \u001b[38;5;28;01mif\u001b[39;00m file \u001b[38;5;129;01min\u001b[39;00m {\u001b[38;5;241m0\u001b[39m, \u001b[38;5;241m1\u001b[39m, \u001b[38;5;241m2\u001b[39m}:\n\u001b[1;32m    276\u001b[0m     \u001b[38;5;28;01mraise\u001b[39;00m \u001b[38;5;167;01mValueError\u001b[39;00m(\n\u001b[1;32m    277\u001b[0m         \u001b[38;5;124mf\u001b[39m\u001b[38;5;124m\"\u001b[39m\u001b[38;5;124mIPython won\u001b[39m\u001b[38;5;124m'\u001b[39m\u001b[38;5;124mt let you open fd=\u001b[39m\u001b[38;5;132;01m{\u001b[39;00mfile\u001b[38;5;132;01m}\u001b[39;00m\u001b[38;5;124m by default \u001b[39m\u001b[38;5;124m\"\u001b[39m\n\u001b[1;32m    278\u001b[0m         \u001b[38;5;124m\"\u001b[39m\u001b[38;5;124mas it is likely to crash IPython. If you know what you are doing, \u001b[39m\u001b[38;5;124m\"\u001b[39m\n\u001b[1;32m    279\u001b[0m         \u001b[38;5;124m\"\u001b[39m\u001b[38;5;124myou can use builtins\u001b[39m\u001b[38;5;124m'\u001b[39m\u001b[38;5;124m open.\u001b[39m\u001b[38;5;124m\"\u001b[39m\n\u001b[1;32m    280\u001b[0m     )\n\u001b[0;32m--> 282\u001b[0m \u001b[38;5;28;01mreturn\u001b[39;00m \u001b[43mio_open\u001b[49m\u001b[43m(\u001b[49m\u001b[43mfile\u001b[49m\u001b[43m,\u001b[49m\u001b[43m \u001b[49m\u001b[38;5;241;43m*\u001b[39;49m\u001b[43margs\u001b[49m\u001b[43m,\u001b[49m\u001b[43m \u001b[49m\u001b[38;5;241;43m*\u001b[39;49m\u001b[38;5;241;43m*\u001b[39;49m\u001b[43mkwargs\u001b[49m\u001b[43m)\u001b[49m\n",
      "\u001b[0;31mFileNotFoundError\u001b[0m: [Errno 2] No such file or directory: 'text3.txt'"
     ]
    }
   ],
   "source": [
    "#finally wala execute hoga kisi bhi situation mai\n",
    "# waisa kam jo mujhe krna hi krna hi krna hai cahe coding block crash\n",
    "# kyu na ho jai toh waisa chize ham yaha likhte hai\n",
    "try:\n",
    "    f=open(\"text3.txt\",'r')\n",
    "    f.write(\"write something\")\n",
    "    f.close()\n",
    "finally:\n",
    "    print(\"finally will execute itself in any situation\")"
   ]
  },
  {
   "cell_type": "code",
   "execution_count": null,
   "id": "b28d9eeb-dda7-4f9b-a8da-7dc05e12e8a8",
   "metadata": {},
   "outputs": [],
   "source": []
  }
 ],
 "metadata": {
  "kernelspec": {
   "display_name": "Python 3 (ipykernel)",
   "language": "python",
   "name": "python3"
  },
  "language_info": {
   "codemirror_mode": {
    "name": "ipython",
    "version": 3
   },
   "file_extension": ".py",
   "mimetype": "text/x-python",
   "name": "python",
   "nbconvert_exporter": "python",
   "pygments_lexer": "ipython3",
   "version": "3.10.8"
  }
 },
 "nbformat": 4,
 "nbformat_minor": 5
}
