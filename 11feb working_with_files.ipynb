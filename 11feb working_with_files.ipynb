{
 "cells": [
  {
   "cell_type": "code",
   "execution_count": 36,
   "id": "d951c56c-ddcf-4f83-8432-f80288c3ac14",
   "metadata": {},
   "outputs": [],
   "source": [
    "#for file creating\n",
    "f=open(\"test.txt\",'w')\n",
    "\n"
   ]
  },
  {
   "cell_type": "code",
   "execution_count": 20,
   "id": "8b37a3fc-3e52-4027-bbc3-1cb1997a5bec",
   "metadata": {},
   "outputs": [
    {
     "data": {
      "text/plain": [
       "'/home/jovyan/work'"
      ]
     },
     "execution_count": 20,
     "metadata": {},
     "output_type": "execute_result"
    }
   ],
   "source": [
    "pwd #present working directory jaha file present mai hai"
   ]
  },
  {
   "cell_type": "code",
   "execution_count": 21,
   "id": "d8817bac-1d31-41ea-beb3-f56cf5ae3a09",
   "metadata": {},
   "outputs": [
    {
     "name": "stdout",
     "output_type": "stream",
     "text": [
      " 10feb_assignment.ipynb                       8feb_assignment.ipynb\n",
      " 10feb_class_methods.ipynb                   '8feb encapsulation.ipynb'\n",
      " 10feb_decorators.ipynb                      '8feb inheritance.ipynb'\n",
      "'10feb property decorator.ipynb'             '8feb polymorphism.ipynb'\n",
      "'10feb special(magic% dunder) method.ipynb'   9feb_assignment.ipynb\n",
      "'10feb_static methods.ipynb'                 'assignment 1.ipynb'\n",
      "'2 jan for loop.ipynb'                       'assignment 2.ipynb'\n",
      "'3feb assignment.ipynb'                      'assignment 3.ipynb'\n",
      "'3jan comprehension.ipynb'                    assignment5.ipynb\n",
      "'3jan function.ipynb'                         oops.ipynb\n",
      "'3jan while loop.ipynb'                       README.md\n",
      "'4feb assignment.ipynb'                       revision_0.ipynb\n",
      "'4jan generator function.ipynb'              'revision 1.ipynb'\n",
      "'4jan lambda function.ipynb'                  revision1.ipynb\n",
      "'4jan map,filter,reduce.ipynb'               'revision 2.ipynb'\n",
      " 5feb_assg.ipynb                              revisionn4.ipynb\n",
      "'5feb oops.ipynb'                             rough1.ipynb\n",
      " 6feb_asssignment.ipynb                       test.txt\n",
      "'7feb assignment.ipynb'                      'working with.ipynb'\n",
      "'8feb abstraction.ipynb'                      \u001b[0m\u001b[01;34mworktest\u001b[0m/\n"
     ]
    }
   ],
   "source": [
    "ls  #isse name show krdega "
   ]
  },
  {
   "cell_type": "code",
   "execution_count": 26,
   "id": "729d8695-db81-4da1-9ad8-be16b77140df",
   "metadata": {},
   "outputs": [],
   "source": [
    "#changing directory \n",
    "# cd worktest\n",
    "\n",
    "# isse directory change kr skte hai ye correct hai pta nhi q nhi ho rha \n",
    "\n",
    "# pta nhi q agr isme  comment kr rhe toh execute nhi ho rha "
   ]
  },
  {
   "cell_type": "code",
   "execution_count": 38,
   "id": "31dbdfc0-317a-40e0-bba0-faddaa91e1f6",
   "metadata": {},
   "outputs": [
    {
     "name": "stdout",
     "output_type": "stream",
     "text": [
      "[Errno 2] No such file or directory: 'worktest'\n",
      "/home/jovyan/work/worktest\n"
     ]
    }
   ],
   "source": [
    "cd worktest"
   ]
  },
  {
   "cell_type": "code",
   "execution_count": null,
   "id": "96ef01ed-ac0e-4e9b-b45a-361cafdfd25f",
   "metadata": {},
   "outputs": [],
   "source": [
    "# now ab fir sai ls krege toh jitne file available hoge dikha dega \n",
    "# ls means list"
   ]
  },
  {
   "cell_type": "code",
   "execution_count": 39,
   "id": "9f725d80-31ce-47f6-9ba2-a85cfe80371d",
   "metadata": {},
   "outputs": [
    {
     "name": "stdout",
     "output_type": "stream",
     "text": [
      "test.txt\n"
     ]
    }
   ],
   "source": [
    "ls\n"
   ]
  },
  {
   "cell_type": "code",
   "execution_count": 40,
   "id": "7d475b02-04d8-4270-a83d-6f7abdb26972",
   "metadata": {},
   "outputs": [
    {
     "data": {
      "text/plain": [
       "30"
      ]
     },
     "execution_count": 40,
     "metadata": {},
     "output_type": "execute_result"
    }
   ],
   "source": [
    "# test.txt toh create kr liya ab usme kuch likhana hai \n",
    "f.write(\"this is my first file to write\")\n",
    "# isko run krwane ke bad  bhi file blank rhega \n",
    "# jab close krege tb hi jakr file mai vo chiz likhega "
   ]
  },
  {
   "cell_type": "code",
   "execution_count": 41,
   "id": "3616bd09-78c4-4571-aa4a-df2049d1036b",
   "metadata": {},
   "outputs": [],
   "source": [
    "f.close()"
   ]
  },
  {
   "cell_type": "code",
   "execution_count": 43,
   "id": "7199df8b-2c04-4abb-a276-a0fb8714b9f0",
   "metadata": {},
   "outputs": [],
   "source": [
    "f=open(\"test.txt\",'w')"
   ]
  },
  {
   "cell_type": "code",
   "execution_count": 44,
   "id": "af541ada-52bd-41c3-bf48-11dc4b0290e5",
   "metadata": {},
   "outputs": [
    {
     "data": {
      "text/plain": [
       "15"
      ]
     },
     "execution_count": 44,
     "metadata": {},
     "output_type": "execute_result"
    }
   ],
   "source": [
    "f.write(\"this is my file\")"
   ]
  },
  {
   "cell_type": "code",
   "execution_count": 45,
   "id": "2d7f88c5-591c-4c62-866a-2cbaf1dec8d9",
   "metadata": {},
   "outputs": [],
   "source": [
    "f.close()"
   ]
  },
  {
   "cell_type": "code",
   "execution_count": 46,
   "id": "1891fed9-75d1-4804-98d1-9454ba13a6b9",
   "metadata": {},
   "outputs": [],
   "source": [
    "# ab agr jakr dekhege toh purana wala hath gya hai  aur jo new write kiya hia file mai vo show kr rha \n",
    "# kyuki mode w chose kiya tha vo \n",
    "# 'w'       open for writing, truncating the file first\n",
    "# truncating mtlb purana likha hua ko del kredeag and uske baad wrtie krega\n"
   ]
  },
  {
   "cell_type": "code",
   "execution_count": 48,
   "id": "af6537e6-8398-484f-83bb-8df642c0a771",
   "metadata": {},
   "outputs": [],
   "source": [
    "# now file ko fir sai open krlete hai jaha file ko truncate na kre\n",
    "# a'       open for writing, appending to the end of the file if it exists\n",
    "# thoh ye purana wala data ko nhi uuraygea \n",
    "f=open(\"test.txt\",\"a\")"
   ]
  },
  {
   "cell_type": "code",
   "execution_count": 49,
   "id": "b9a179c8-979c-4d9e-a379-ebd34a866ec7",
   "metadata": {},
   "outputs": [
    {
     "data": {
      "text/plain": [
       "765"
      ]
     },
     "execution_count": 49,
     "metadata": {},
     "output_type": "execute_result"
    }
   ],
   "source": [
    "f.write(\"Data Science Masters course is highly curated and uniquely designed according to the latest industry standards. This program instills students the skills essential to knowledge discovery efforts to identify standard, novel, and truly differentiated solutions and decision-making, including skills in managing, querying, analyzing, visualizing, and extracting meaning from extremely large data sets. This trending program provides students with the statistical, mathematical and computational skills needed to meet the large-scale data science challenges of today's professional world. You will learn all the stack required to work in data science industry including cloud infrastructure and real-time industry projects. This course will be taught in Hindi language.\")"
   ]
  },
  {
   "cell_type": "code",
   "execution_count": 53,
   "id": "1ec49297-02df-47c6-82b7-f83e6a331999",
   "metadata": {},
   "outputs": [],
   "source": [
    "f.close()"
   ]
  },
  {
   "cell_type": "code",
   "execution_count": 60,
   "id": "22c60ee6-9307-4e31-b9d9-3a61223d631b",
   "metadata": {},
   "outputs": [],
   "source": [
    "# suppose read krna hai\n",
    "f=open(\"test.txt\",\"r\")"
   ]
  },
  {
   "cell_type": "code",
   "execution_count": 61,
   "id": "81d8e371-abdc-4d01-be5b-0ec9aeae3e45",
   "metadata": {},
   "outputs": [
    {
     "data": {
      "text/plain": [
       "\"this is my fileData Science Masters course is highly curated and uniquely designed according to the latest industry standards. This program instills students the skills essential to knowledge discovery efforts to identify standard, novel, and truly differentiated solutions and decision-making, including skills in managing, querying, analyzing, visualizing, and extracting meaning from extremely large data sets. This trending program provides students with the statistical, mathematical and computational skills needed to meet the large-scale data science challenges of today's professional world. You will learn all the stack required to work in data science industry including cloud infrastructure and real-time industry projects. This course will be taught in Hindi language.\""
      ]
     },
     "execution_count": 61,
     "metadata": {},
     "output_type": "execute_result"
    }
   ],
   "source": [
    "f.read()"
   ]
  },
  {
   "cell_type": "code",
   "execution_count": 63,
   "id": "3c090d39-dbfb-4df6-a2b9-a2631c6b4891",
   "metadata": {},
   "outputs": [
    {
     "data": {
      "text/plain": [
       "''"
      ]
     },
     "execution_count": 63,
     "metadata": {},
     "output_type": "execute_result"
    }
   ],
   "source": [
    "# line by line read krna hai toh vo bhi kr payege\n",
    "f.readline()"
   ]
  },
  {
   "cell_type": "code",
   "execution_count": 64,
   "id": "b018d7d4-19fd-42c6-8882-3f0719e77c97",
   "metadata": {},
   "outputs": [],
   "source": [
    "# ye blank de rha q kya reason hai\n",
    "# jab bhi read call krege toh pointer read krna start krta hai sbse phle sai jaise ki \n",
    "# hamne list m allready pdha hai waha data indexes m store hota hai tph yaa bhi aesa hi hai\n",
    "# toh yaha pointer 1st sai read krega and jaise ji last pe gya  toh pointer ab last pe hai \n",
    "# waha ke bad data available hi nhi hai jab yaha ke bad data available hi nhi hai toh data read kaisee krege\n",
    "# toh ham seek ka use krege file_variable_name.seek(0) krege toh pointer\n",
    "# last ke baad automatic zeroth position pr chla jaiga \n"
   ]
  },
  {
   "cell_type": "code",
   "execution_count": 65,
   "id": "0c25efd6-afe0-471a-a417-2e7f19b1b9d9",
   "metadata": {},
   "outputs": [
    {
     "data": {
      "text/plain": [
       "0"
      ]
     },
     "execution_count": 65,
     "metadata": {},
     "output_type": "execute_result"
    }
   ],
   "source": [
    "f.seek(0)"
   ]
  },
  {
   "cell_type": "code",
   "execution_count": 66,
   "id": "74e4cc4a-b80e-40d9-bf43-15e70a384701",
   "metadata": {},
   "outputs": [
    {
     "data": {
      "text/plain": [
       "\"this is my fileData Science Masters course is highly curated and uniquely designed according to the latest industry standards. This program instills students the skills essential to knowledge discovery efforts to identify standard, novel, and truly differentiated solutions and decision-making, including skills in managing, querying, analyzing, visualizing, and extracting meaning from extremely large data sets. This trending program provides students with the statistical, mathematical and computational skills needed to meet the large-scale data science challenges of today's professional world. You will learn all the stack required to work in data science industry including cloud infrastructure and real-time industry projects. This course will be taught in Hindi language.\""
      ]
     },
     "execution_count": 66,
     "metadata": {},
     "output_type": "execute_result"
    }
   ],
   "source": [
    "f.readline()"
   ]
  },
  {
   "cell_type": "code",
   "execution_count": 67,
   "id": "4d8c4ab2-89b3-4b3d-9a95-63f8d032a63b",
   "metadata": {},
   "outputs": [],
   "source": [
    "# dekkho ab agya  lekin agr fir readline execute \n",
    "# krege toh fir sai seek execute krna prega\n"
   ]
  },
  {
   "cell_type": "code",
   "execution_count": 68,
   "id": "97bbdd96-6907-4a9c-bc33-a63e09591bcc",
   "metadata": {},
   "outputs": [
    {
     "data": {
      "text/plain": [
       "''"
      ]
     },
     "execution_count": 68,
     "metadata": {},
     "output_type": "execute_result"
    }
   ],
   "source": [
    "f.readline() #dekhp blank aaya kyuki seek execute dubara nnhi kiya"
   ]
  },
  {
   "cell_type": "code",
   "execution_count": 69,
   "id": "e3d46849-7bf0-4d1c-87f1-1b4a4a8cda25",
   "metadata": {},
   "outputs": [
    {
     "data": {
      "text/plain": [
       "10"
      ]
     },
     "execution_count": 69,
     "metadata": {},
     "output_type": "execute_result"
    }
   ],
   "source": [
    "f.seek(10) #suppose 10th position data read krna hao toh"
   ]
  },
  {
   "cell_type": "code",
   "execution_count": 70,
   "id": "f34fe417-c676-4362-ac73-820f9329fc2d",
   "metadata": {},
   "outputs": [
    {
     "data": {
      "text/plain": [
       "\" fileData Science Masters course is highly curated and uniquely designed according to the latest industry standards. This program instills students the skills essential to knowledge discovery efforts to identify standard, novel, and truly differentiated solutions and decision-making, including skills in managing, querying, analyzing, visualizing, and extracting meaning from extremely large data sets. This trending program provides students with the statistical, mathematical and computational skills needed to meet the large-scale data science challenges of today's professional world. You will learn all the stack required to work in data science industry including cloud infrastructure and real-time industry projects. This course will be taught in Hindi language.\""
      ]
     },
     "execution_count": 70,
     "metadata": {},
     "output_type": "execute_result"
    }
   ],
   "source": [
    "f.readline()"
   ]
  },
  {
   "cell_type": "code",
   "execution_count": 73,
   "id": "537c5fc6-90ba-42f6-b8a4-f67588b81729",
   "metadata": {},
   "outputs": [],
   "source": [
    "data1=open(\"test.txt\",\"r\")"
   ]
  },
  {
   "cell_type": "code",
   "execution_count": 74,
   "id": "657c040d-d851-4986-a005-36df3cb9054e",
   "metadata": {},
   "outputs": [
    {
     "name": "stdout",
     "output_type": "stream",
     "text": [
      "this is my fileData Science Masters course is highly curated and uniquely designed according to the latest industry standards. This program instills students the skills essential to knowledge discovery efforts to identify standard, novel, and truly differentiated solutions and decision-making, including skills in managing, querying, analyzing, visualizing, and extracting meaning from extremely large data sets. This trending program provides students with the statistical, mathematical and computational skills needed to meet the large-scale data science challenges of today's professional world. You will learn all the stack required to work in data science industry including cloud infrastructure and real-time industry projects. This course will be taught in Hindi language.\n"
     ]
    }
   ],
   "source": [
    "# for loop ke help sai one by one line by line data ko read kre \n",
    "for i in data1:\n",
    "    print(i)"
   ]
  },
  {
   "cell_type": "code",
   "execution_count": 75,
   "id": "24906a70-7f68-4775-93c2-4c90f358e6a1",
   "metadata": {},
   "outputs": [],
   "source": [
    "# jo file create kiya hai test.txt iska file ka size pta chl jai\n",
    "import os #os means operating system"
   ]
  },
  {
   "cell_type": "code",
   "execution_count": 76,
   "id": "f96755f5-d0ac-4aab-b6a6-ef47e15c5251",
   "metadata": {},
   "outputs": [
    {
     "data": {
      "text/plain": [
       "780"
      ]
     },
     "execution_count": 76,
     "metadata": {},
     "output_type": "execute_result"
    }
   ],
   "source": [
    "os.path.getsize(\"test.txt\") #ye byte mai size dika rha"
   ]
  },
  {
   "cell_type": "code",
   "execution_count": 77,
   "id": "14c7e036-1faf-4085-b86a-ede10bcbcafa",
   "metadata": {},
   "outputs": [],
   "source": [
    "# supose file del krna hai toh lekin method use krne ke phle import os execute krwa lena\n",
    "os.remove(\"test.txt\")\n",
    "# ab file del hogya "
   ]
  },
  {
   "cell_type": "code",
   "execution_count": 79,
   "id": "d0b12e43-cb15-448f-bb20-8d9e6d06f8ec",
   "metadata": {},
   "outputs": [],
   "source": [
    "# ab kuch or operation krne hai toh new file bna lete hai\n",
    "f=open(\"test1.txt\",\"w\")"
   ]
  },
  {
   "cell_type": "code",
   "execution_count": 80,
   "id": "7cc47a06-3002-4844-986f-02e3972ef9e7",
   "metadata": {},
   "outputs": [
    {
     "data": {
      "text/plain": [
       "780"
      ]
     },
     "execution_count": 80,
     "metadata": {},
     "output_type": "execute_result"
    }
   ],
   "source": [
    "f.write(\"this is my fileData Science Masters course is highly curated and uniquely designed according to the latest industry standards. This program instills students the skills essential to knowledge discovery efforts to identify standard, novel, and truly differentiated solutions and decision-making, including skills in managing, querying, analyzing, visualizing, and extracting meaning from extremely large data sets. This trending program provides students with the statistical, mathematical and computational skills needed to meet the large-scale data science challenges of today's professional world. You will learn all the stack required to work in data science industry including cloud infrastructure and real-time industry projects. This course will be taught in Hindi language.\")"
   ]
  },
  {
   "cell_type": "code",
   "execution_count": 81,
   "id": "cc0d7b23-5de5-48f6-aef1-ecc78d7a3b67",
   "metadata": {},
   "outputs": [],
   "source": [
    "f.close()"
   ]
  },
  {
   "cell_type": "code",
   "execution_count": 83,
   "id": "7a77f2db-5e45-4b4d-aec1-7fb9b350cff9",
   "metadata": {},
   "outputs": [],
   "source": [
    "# mere pass jo file available hai test1.txt isko rename krna hai\n",
    "# toh vo bhi kr skte hai os model ke throw\n",
    "# os.rename(\"old_file_name\",\"new_file_name\")\n",
    "os.rename(\"test1.txt\",\"new.txt\")"
   ]
  },
  {
   "cell_type": "code",
   "execution_count": 84,
   "id": "5dacf05e-df22-427d-aa82-fda0011adc59",
   "metadata": {},
   "outputs": [],
   "source": [
    "# supose file  ke multiple copies create krne hai toh import shutil import krege phle\n",
    "import shutil"
   ]
  },
  {
   "cell_type": "code",
   "execution_count": 86,
   "id": "216ec01c-a298-4301-9769-c02ff4378cf4",
   "metadata": {},
   "outputs": [
    {
     "data": {
      "text/plain": [
       "'copy_new.txt'"
      ]
     },
     "execution_count": 86,
     "metadata": {},
     "output_type": "execute_result"
    }
   ],
   "source": [
    "shutil.copy(\"new.txt\",\"copy_new.txt\")"
   ]
  },
  {
   "cell_type": "code",
   "execution_count": 89,
   "id": "272dd979-8925-4969-ad74-e7d0077175f9",
   "metadata": {},
   "outputs": [
    {
     "name": "stdout",
     "output_type": "stream",
     "text": [
      "this is my fileData Science Masters course is highly curated and uniquely designed according to the latest industry standards. This program instills students the skills essential to knowledge discovery efforts to identify standard, novel, and truly differentiated solutions and decision-making, including skills in managing, querying, analyzing, visualizing, and extracting meaning from extremely large data sets. This trending program provides students with the statistical, mathematical and computational skills needed to meet the large-scale data science challenges of today's professional world. You will learn all the stack required to work in data science industry including cloud infrastructure and real-time industry projects. This course will be taught in Hindi language.\n"
     ]
    }
   ],
   "source": [
    "# there is a another method for copy\n",
    "with open(\"new.txt\",\"r\") as g:  # f kuch nhi bs ek alias hai kuchh bhi krna hoga toh f ko lekar krege\n",
    "    print(g.read())    #g.read() read krwaya aur print ke help sai print krke dediya"
   ]
  },
  {
   "cell_type": "code",
   "execution_count": null,
   "id": "dc353c2f-bcb7-466a-813e-ba6e92ef281c",
   "metadata": {},
   "outputs": [],
   "source": []
  }
 ],
 "metadata": {
  "kernelspec": {
   "display_name": "Python 3 (ipykernel)",
   "language": "python",
   "name": "python3"
  },
  "language_info": {
   "codemirror_mode": {
    "name": "ipython",
    "version": 3
   },
   "file_extension": ".py",
   "mimetype": "text/x-python",
   "name": "python",
   "nbconvert_exporter": "python",
   "pygments_lexer": "ipython3",
   "version": "3.10.8"
  }
 },
 "nbformat": 4,
 "nbformat_minor": 5
}
