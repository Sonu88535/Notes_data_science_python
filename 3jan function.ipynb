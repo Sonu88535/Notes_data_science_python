{
 "cells": [
  {
   "cell_type": "code",
   "execution_count": 1,
   "id": "4979f6df-4357-4bbb-9fcc-8218e7f7e334",
   "metadata": {},
   "outputs": [],
   "source": [
    "#function banayege "
   ]
  },
  {
   "cell_type": "code",
   "execution_count": 2,
   "id": "670c029a-f357-4b8e-8777-dc6eb2260993",
   "metadata": {},
   "outputs": [],
   "source": [
    "def test():  #def means define and test name ka ek function bana rha hu\n",
    "    #agr sirf def test() krke chor denge means sirf initalize krke chor denge toh  toh ye error generate krega syntax error  \n",
    "    # kyuki intialize krke defined krna krna prega  warna syntax error dega \n",
    "    pass  #agr hm cah rhe ke define  na kre sirf intialize krke chor de and error na bataye toh pass likh kr chor do"
   ]
  },
  {
   "cell_type": "code",
   "execution_count": 5,
   "id": "1f07fc82-22db-4be2-a4ca-b1188ce3f50d",
   "metadata": {},
   "outputs": [],
   "source": [
    "def test1():\n",
    "    print('this is my very very first function') # now ab agr isse execute krte ho toh kio outcome nhi milega \n",
    "                                                 # outcome ke liye function ko call krna prega "
   ]
  },
  {
   "cell_type": "code",
   "execution_count": 6,
   "id": "d6a9a58d-af7d-4b2b-b10f-f619eca87885",
   "metadata": {},
   "outputs": [
    {
     "name": "stdout",
     "output_type": "stream",
     "text": [
      "this is my very very first function\n"
     ]
    }
   ],
   "source": [
    "test1() #yaha function call kiya and output agya "
   ]
  },
  {
   "cell_type": "code",
   "execution_count": 7,
   "id": "aad5b845-1bb4-4157-8c6a-5661d90518c6",
   "metadata": {},
   "outputs": [
    {
     "name": "stdout",
     "output_type": "stream",
     "text": [
      "this is my very very first function\n"
     ]
    },
    {
     "ename": "TypeError",
     "evalue": "unsupported operand type(s) for +: 'NoneType' and 'str'",
     "output_type": "error",
     "traceback": [
      "\u001b[0;31m---------------------------------------------------------------------------\u001b[0m",
      "\u001b[0;31mTypeError\u001b[0m                                 Traceback (most recent call last)",
      "Cell \u001b[0;32mIn[7], line 1\u001b[0m\n\u001b[0;32m----> 1\u001b[0m \u001b[43mtest1\u001b[49m\u001b[43m(\u001b[49m\u001b[43m)\u001b[49m\u001b[38;5;241;43m+\u001b[39;49m\u001b[38;5;124;43m\"\u001b[39;49m\u001b[38;5;124;43msudh\u001b[39;49m\u001b[38;5;124;43m\"\u001b[39;49m \u001b[38;5;66;03m# ye add krega ki nhi  \u001b[39;00m\n\u001b[1;32m      3\u001b[0m             \u001b[38;5;66;03m# ye add nhi krega error dega \u001b[39;00m\n",
      "\u001b[0;31mTypeError\u001b[0m: unsupported operand type(s) for +: 'NoneType' and 'str'"
     ]
    }
   ],
   "source": [
    "test1()+\"sudh\" # ye add krega ki nhi kyuki test1() ke andar ek string  hai  toh hame lag rha ki test1() ek string  \n",
    "\n",
    "            # ye add nhi krega error dega kyuki test1() string nhi hai bs vo dekhne s lag rha kyuki  useke andar string hai \n",
    "             # test1() ka data type none type hai"
   ]
  },
  {
   "cell_type": "code",
   "execution_count": 8,
   "id": "f0fbc651-5a61-48ba-98cf-613943ff65a9",
   "metadata": {},
   "outputs": [],
   "source": [
    "def test2():\n",
    "    return\"this is my very first return\" #isme jo bhi likhoge exact vhi return krdega \n",
    "                                # ye yaha string de rha \n",
    "                                  # agar yaha int doge toh int return krega  string doge toh string return krega \n",
    "                                # jo bhi data type doge vhi return krega like list dic tuple"
   ]
  },
  {
   "cell_type": "code",
   "execution_count": 9,
   "id": "b7458f5f-fd2d-4824-a9ed-8c367401833f",
   "metadata": {},
   "outputs": [
    {
     "data": {
      "text/plain": [
       "'this is my very first return'"
      ]
     },
     "execution_count": 9,
     "metadata": {},
     "output_type": "execute_result"
    }
   ],
   "source": [
    "test2()"
   ]
  },
  {
   "cell_type": "code",
   "execution_count": 12,
   "id": "fb997c46-544b-4366-8826-af5eb64b122e",
   "metadata": {},
   "outputs": [
    {
     "data": {
      "text/plain": [
       "'this is my very first return  sudh'"
      ]
     },
     "execution_count": 12,
     "metadata": {},
     "output_type": "execute_result"
    }
   ],
   "source": [
    "test2()+ \"  sudh\" #yaha returnn ke wjh sai test2() string ban gya ab usme string easily add ho rha "
   ]
  },
  {
   "cell_type": "code",
   "execution_count": 13,
   "id": "c7ef7414-c0a8-4e95-a53d-ff4c70dd3273",
   "metadata": {},
   "outputs": [],
   "source": [
    "def test3():\n",
    "    return 'sudh', 23,345.56,[1,2,3,3] #multile data type return kr rha "
   ]
  },
  {
   "cell_type": "code",
   "execution_count": 14,
   "id": "c3ff9e2a-b27e-4615-9028-b2a6695b8422",
   "metadata": {},
   "outputs": [
    {
     "data": {
      "text/plain": [
       "('sudh', 23, 345.56, [1, 2, 3, 3])"
      ]
     },
     "execution_count": 14,
     "metadata": {},
     "output_type": "execute_result"
    }
   ],
   "source": [
    "test3() #yaha sb tuple ke andar return krdega "
   ]
  },
  {
   "cell_type": "code",
   "execution_count": 16,
   "id": "65aa5368-6512-40bc-bffa-e28af2673776",
   "metadata": {},
   "outputs": [],
   "source": [
    "#agar multiple data type ko alag alag variable mai dalna hai  toh vo bhi kar sakte hai \n",
    "a,b,c,d=test3()"
   ]
  },
  {
   "cell_type": "code",
   "execution_count": 17,
   "id": "7bbe8b1a-478e-441b-a0a6-b26b6cf151c3",
   "metadata": {},
   "outputs": [
    {
     "data": {
      "text/plain": [
       "'sudh'"
      ]
     },
     "execution_count": 17,
     "metadata": {},
     "output_type": "execute_result"
    }
   ],
   "source": [
    "a"
   ]
  },
  {
   "cell_type": "code",
   "execution_count": 18,
   "id": "801d3385-4b87-4ef2-8481-d121aac25dc7",
   "metadata": {},
   "outputs": [
    {
     "data": {
      "text/plain": [
       "23"
      ]
     },
     "execution_count": 18,
     "metadata": {},
     "output_type": "execute_result"
    }
   ],
   "source": [
    "b"
   ]
  },
  {
   "cell_type": "code",
   "execution_count": 19,
   "id": "3397e317-4a84-4309-9df9-4af451ec5cc3",
   "metadata": {},
   "outputs": [
    {
     "data": {
      "text/plain": [
       "345.56"
      ]
     },
     "execution_count": 19,
     "metadata": {},
     "output_type": "execute_result"
    }
   ],
   "source": [
    "c"
   ]
  },
  {
   "cell_type": "code",
   "execution_count": 20,
   "id": "e51ba2a4-b2a5-482b-899b-efca11df7cc9",
   "metadata": {},
   "outputs": [
    {
     "data": {
      "text/plain": [
       "[1, 2, 3, 3]"
      ]
     },
     "execution_count": 20,
     "metadata": {},
     "output_type": "execute_result"
    }
   ],
   "source": [
    "d"
   ]
  },
  {
   "cell_type": "code",
   "execution_count": 21,
   "id": "35eaaa78-99f3-46dc-9aa4-428a5b0a262b",
   "metadata": {},
   "outputs": [],
   "source": [
    "# #declare kar sakte hai variable ko alag alag bhi and sath msi bhi \n",
    "# a=1\n",
    "# c=3\n",
    "# or\n",
    "# a,c=1,3 \n",
    "# dono ekhi kaam krega "
   ]
  },
  {
   "cell_type": "code",
   "execution_count": 25,
   "id": "dbb5b825-fa0f-4861-aeba-3f23af1afc88",
   "metadata": {},
   "outputs": [],
   "source": [
    "def test4():\n",
    "    a=6+6/7\n",
    "    return a"
   ]
  },
  {
   "cell_type": "code",
   "execution_count": 26,
   "id": "72d6df34-9e8c-4e92-8142-2dc6b9a8915a",
   "metadata": {},
   "outputs": [
    {
     "data": {
      "text/plain": [
       "6.857142857142857"
      ]
     },
     "execution_count": 26,
     "metadata": {},
     "output_type": "execute_result"
    }
   ],
   "source": [
    "test4()"
   ]
  },
  {
   "cell_type": "code",
   "execution_count": 27,
   "id": "8c99f0e5-abf8-4da3-b7f8-49b6ddb36ca1",
   "metadata": {},
   "outputs": [],
   "source": [
    " # abhi tak upr jo bhi DATA  dale hai vo toh ham dale hai hardcore data dale hai but ham cah rhe ki user dale data ko  \\\n",
    "def test5(a,b,c): #jo anddar a b c hai vo user sai mangega data\n",
    "    d=a+b/c\n",
    "    return d"
   ]
  },
  {
   "cell_type": "code",
   "execution_count": 28,
   "id": "2ab3e00f-c71f-42f6-bdd9-ec05f8f4b903",
   "metadata": {},
   "outputs": [
    {
     "ename": "TypeError",
     "evalue": "test5() missing 3 required positional arguments: 'a', 'b', and 'c'",
     "output_type": "error",
     "traceback": [
      "\u001b[0;31m---------------------------------------------------------------------------\u001b[0m",
      "\u001b[0;31mTypeError\u001b[0m                                 Traceback (most recent call last)",
      "Cell \u001b[0;32mIn[28], line 1\u001b[0m\n\u001b[0;32m----> 1\u001b[0m \u001b[43mtest5\u001b[49m\u001b[43m(\u001b[49m\u001b[43m)\u001b[49m\n",
      "\u001b[0;31mTypeError\u001b[0m: test5() missing 3 required positional arguments: 'a', 'b', and 'c'"
     ]
    }
   ],
   "source": [
    "test5() #yaha error islilye aya ki kyuki hmne abc ki value  nhi di "
   ]
  },
  {
   "cell_type": "code",
   "execution_count": 29,
   "id": "cf1c812b-eb7b-411e-92bc-89470623378c",
   "metadata": {},
   "outputs": [
    {
     "data": {
      "text/plain": [
       "2.625"
      ]
     },
     "execution_count": 29,
     "metadata": {},
     "output_type": "execute_result"
    }
   ],
   "source": [
    "test5(2,5,8)"
   ]
  },
  {
   "cell_type": "code",
   "execution_count": 30,
   "id": "2d1ff57e-27af-4cd4-bc7c-8cf45e8db0d4",
   "metadata": {},
   "outputs": [],
   "source": [
    "def test6(a,b):\n",
    "    return a+b"
   ]
  },
  {
   "cell_type": "code",
   "execution_count": 31,
   "id": "9006da6d-220d-4d23-a5f8-d8f048c0ca60",
   "metadata": {},
   "outputs": [
    {
     "data": {
      "text/plain": [
       "7"
      ]
     },
     "execution_count": 31,
     "metadata": {},
     "output_type": "execute_result"
    }
   ],
   "source": [
    "test6(3,4) #dono integer tha toh output dediya"
   ]
  },
  {
   "cell_type": "code",
   "execution_count": 33,
   "id": "6968ccdf-6daa-486b-8b0b-3e2bf9ab369b",
   "metadata": {},
   "outputs": [
    {
     "data": {
      "text/plain": [
       "'sudh kumar'"
      ]
     },
     "execution_count": 33,
     "metadata": {},
     "output_type": "execute_result"
    }
   ],
   "source": [
    "test6('sudh',' kumar') #yaha pass bhi dono bhi dono ko add kediya kyuki hamne return use kiya tha "
   ]
  },
  {
   "cell_type": "code",
   "execution_count": 34,
   "id": "684f9140-8611-4a48-991a-d39f3705a863",
   "metadata": {},
   "outputs": [
    {
     "data": {
      "text/plain": [
       "[1, 2, 3, 4, 5, 4, 5, 6]"
      ]
     },
     "execution_count": 34,
     "metadata": {},
     "output_type": "execute_result"
    }
   ],
   "source": [
    "test6([1,2,3,4,5],[4,5,6])"
   ]
  },
  {
   "cell_type": "code",
   "execution_count": 35,
   "id": "c5f1b832-908e-4dfb-9ec3-8a24ffe7ae55",
   "metadata": {},
   "outputs": [],
   "source": [
    "#fuction banane sai ham bar bar nhi likh kr dikhana padhta ek bar bana lo fir bar bar use krte rho"
   ]
  },
  {
   "cell_type": "code",
   "execution_count": 4,
   "id": "088cdacf-476f-466c-bdd0-3bb4a3ec50c2",
   "metadata": {},
   "outputs": [],
   "source": [
    "l=[1,2,3,4,'sudh', 'kumar',[1,2,3,4,5,6]]"
   ]
  },
  {
   "cell_type": "code",
   "execution_count": 5,
   "id": "915d4daf-360f-4d5b-8f56-95853f9af663",
   "metadata": {},
   "outputs": [],
   "source": [
    "# ye upr ek list l available haina toh ek function likh do jisse kio bhi list pass kroge na toh \n",
    "# usme jo int ya float value available haina uske ek or list \n",
    "# mai nikal kr dede\n",
    " \n",
    "    \n",
    "#without function\n",
    "l1=[]\n",
    "for i in l :\n",
    "    if type(i)== int or type(i)==float:\n",
    "        l1.append(i)"
   ]
  },
  {
   "cell_type": "code",
   "execution_count": 6,
   "id": "13a2c329-3e81-4f89-9add-0c2c9fed0544",
   "metadata": {},
   "outputs": [
    {
     "data": {
      "text/plain": [
       "[1, 2, 3, 4]"
      ]
     },
     "execution_count": 6,
     "metadata": {},
     "output_type": "execute_result"
    }
   ],
   "source": [
    "l1"
   ]
  },
  {
   "cell_type": "code",
   "execution_count": 16,
   "id": "a54ab515-a0ac-44a3-8975-291dd1933dc4",
   "metadata": {},
   "outputs": [],
   "source": [
    "#now creating function for that \n",
    "\n",
    "def test7(l): #jaruri nhi yaah l hii rakhe braket mai\n",
    "    # aap kio bhi variable rakh sakte hai aur yaha kio aur variable rakhege toh for wale mai bhi vahi variabe rakhna prega\n",
    "    l1=[]\n",
    "    for i in l:\n",
    "        if type(i)==int or type(i)==float:\n",
    "            l1.append(i)\n",
    "    return l1\n"
   ]
  },
  {
   "cell_type": "code",
   "execution_count": 13,
   "id": "bb1f0fb9-d644-438d-a7fb-86ad363d00ab",
   "metadata": {},
   "outputs": [
    {
     "data": {
      "text/plain": [
       "[1, 2, 3, 4]"
      ]
     },
     "execution_count": 13,
     "metadata": {},
     "output_type": "execute_result"
    }
   ],
   "source": [
    "test7(l)"
   ]
  },
  {
   "cell_type": "code",
   "execution_count": 14,
   "id": "07ad40ee-702f-4e7a-a4b2-e02acff9ddbd",
   "metadata": {},
   "outputs": [],
   "source": [
    "# list l sai list nikalna hai sirf \n",
    "# without using function\n",
    "l2=[]\n",
    "for i in l:\n",
    "    if type(i)==list:\n",
    "        l2.append(i)"
   ]
  },
  {
   "cell_type": "code",
   "execution_count": 15,
   "id": "bdeca7fb-2229-4130-8d22-157e05dde5a7",
   "metadata": {},
   "outputs": [
    {
     "data": {
      "text/plain": [
       "[[1, 2, 3, 4, 5, 6]]"
      ]
     },
     "execution_count": 15,
     "metadata": {},
     "output_type": "execute_result"
    }
   ],
   "source": [
    "l2\n"
   ]
  },
  {
   "cell_type": "code",
   "execution_count": 65,
   "id": "8fe4e3db-aca6-4f78-a095-028fa8dfad40",
   "metadata": {},
   "outputs": [],
   "source": [
    "# list l ke andar jitne int or float hai unke ek list mai dalo and us list ke andar jo list\n",
    "# hai usme bhi check karo agr usme int or float hai toh usko bhi nikal kr ussi list mai lao\n",
    "def test8(a):\n",
    "    l2=[]\n",
    "    for i in a:\n",
    "        if type(i)==list:\n",
    "            for j in i :\n",
    "                l2.append(j)\n",
    "        else:\n",
    "             if type(i)==int or type(i)==float:\n",
    "                l2.append(i)\n",
    "    return l2\n"
   ]
  },
  {
   "cell_type": "code",
   "execution_count": 66,
   "id": "9f14c679-21fc-430b-8f02-4e59123d8a56",
   "metadata": {},
   "outputs": [
    {
     "data": {
      "text/plain": [
       "[1, 2, 3, 4, 1, 2, 3, 4, 5, 6]"
      ]
     },
     "execution_count": 66,
     "metadata": {},
     "output_type": "execute_result"
    }
   ],
   "source": [
    "test8(l) "
   ]
  },
  {
   "cell_type": "code",
   "execution_count": null,
   "id": "69c54f74-5222-4728-9c01-b952d215b465",
   "metadata": {},
   "outputs": [],
   "source": [
    "#sir method  jo upr hai vhi wala hai\n",
    "def test8(a):\n",
    "    l=[]\n",
    "    for i in a:\n",
    "        if type(i)==list:\n",
    "            for j in i:\n",
    "                l.append(j)\n",
    "        else:\n",
    "            if type(i)==int or type(i)==float:\n",
    "                l.append(i)\n",
    "    return l"
   ]
  },
  {
   "cell_type": "code",
   "execution_count": 43,
   "id": "a5b0bfd9-ad90-44e9-8a5e-eb1bce3c3787",
   "metadata": {},
   "outputs": [
    {
     "data": {
      "text/plain": [
       "[1, 2, 3, 4, 1, 2, 3, 4, 5, 6]"
      ]
     },
     "execution_count": 43,
     "metadata": {},
     "output_type": "execute_result"
    }
   ],
   "source": [
    "test8(l)"
   ]
  },
  {
   "cell_type": "code",
   "execution_count": 69,
   "id": "78ff2ae4-205c-460f-9900-105801894d9b",
   "metadata": {},
   "outputs": [],
   "source": [
    "def test9(a):\n",
    "    \n",
    "    '''this is my function to extract num data from list''' #ye docstring hai\n",
    "                                          # jab shift + tab dabao ge toh ye bta dega ki ye function krta kya hai  \n",
    "      # agr aese krke nhi likhaoge toh ye nhi btayega ki ye krta kya hai jab ham shift+tab dabyege kyuki ye function hm khud banaye hai\n",
    "    l2=[]\n",
    "    for i in a:\n",
    "        if type(i)==list:\n",
    "            for j in i :\n",
    "                l2.append(j)\n",
    "        else:\n",
    "             if type(i)==int or type(i)==float:\n",
    "                l2.append(i)\n",
    "        return l2"
   ]
  },
  {
   "cell_type": "code",
   "execution_count": null,
   "id": "7f7f7fd0-d712-4b7c-b5df-db0b27c953de",
   "metadata": {},
   "outputs": [],
   "source": [
    "test9()"
   ]
  },
  {
   "cell_type": "code",
   "execution_count": 70,
   "id": "2f5b5123-becd-454e-8e18-e7a54f57d0f6",
   "metadata": {},
   "outputs": [],
   "source": [
    "def test10(a,b): #suppose agr ham 10 arguements pass krne ho toh kya kya bar bar likhege \n",
    "    return a+b"
   ]
  },
  {
   "cell_type": "code",
   "execution_count": 71,
   "id": "07e37c1c-2f26-43b1-8672-a536799f5797",
   "metadata": {},
   "outputs": [
    {
     "data": {
      "text/plain": [
       "5"
      ]
     },
     "execution_count": 71,
     "metadata": {},
     "output_type": "execute_result"
    }
   ],
   "source": [
    "test10(2,3)"
   ]
  },
  {
   "cell_type": "code",
   "execution_count": 72,
   "id": "ae0ea57c-b2c6-4e6a-bc71-59274760c50a",
   "metadata": {},
   "outputs": [],
   "source": [
    "def test11(*args):#ye use kro ab kitne bhi arguemnens dalo  but ye tuple ke andar dega \n",
    "       # starickargs (*args) ka matlb hota hai ki you can pass n numner of arguements inside a function\n",
    "        # *args jaruri nhi ki ye hi likhe app *sonu bhi likha sakte hai but * lagana compulsory hai\n",
    "    return args"
   ]
  },
  {
   "cell_type": "code",
   "execution_count": 73,
   "id": "27b5eaba-39e2-4807-b0e4-a520a9902154",
   "metadata": {},
   "outputs": [
    {
     "data": {
      "text/plain": [
       "()"
      ]
     },
     "execution_count": 73,
     "metadata": {},
     "output_type": "execute_result"
    }
   ],
   "source": [
    "test11() #tuple dega"
   ]
  },
  {
   "cell_type": "code",
   "execution_count": 74,
   "id": "77ed884f-5583-47ae-a9ab-21657a19d079",
   "metadata": {},
   "outputs": [
    {
     "data": {
      "text/plain": [
       "(1, 2, 3)"
      ]
     },
     "execution_count": 74,
     "metadata": {},
     "output_type": "execute_result"
    }
   ],
   "source": [
    "test11(1,2,3)"
   ]
  },
  {
   "cell_type": "code",
   "execution_count": 75,
   "id": "64865f45-3151-4eb0-9e55-10b47d18ce66",
   "metadata": {},
   "outputs": [
    {
     "data": {
      "text/plain": [
       "(1, 2, 3, 'sudh', 'kumar', [1, 2, 3, 4, 4])"
      ]
     },
     "execution_count": 75,
     "metadata": {},
     "output_type": "execute_result"
    }
   ],
   "source": [
    "test11(1,2,3,'sudh','kumar',[1,2,3,4,4])"
   ]
  },
  {
   "cell_type": "code",
   "execution_count": 90,
   "id": "4323fd24-7208-4378-b886-b2876deae007",
   "metadata": {},
   "outputs": [],
   "source": [
    "def test12(*sonu):\n",
    "    return sonu"
   ]
  },
  {
   "cell_type": "code",
   "execution_count": 91,
   "id": "604a7b93-2823-4394-99b8-ad98edd5f439",
   "metadata": {},
   "outputs": [
    {
     "data": {
      "text/plain": [
       "(2, 34, 4, 5, 5, 4)"
      ]
     },
     "execution_count": 91,
     "metadata": {},
     "output_type": "execute_result"
    }
   ],
   "source": [
    "test12(2,34,4,5,5,4)"
   ]
  },
  {
   "cell_type": "code",
   "execution_count": 97,
   "id": "b847d669-4391-4a10-ba8c-bbba8219504b",
   "metadata": {},
   "outputs": [],
   "source": [
    "def test13(*args,a):\n",
    "    return args , a"
   ]
  },
  {
   "cell_type": "code",
   "execution_count": 98,
   "id": "b9e92ab3-6929-4813-b481-758b519528aa",
   "metadata": {},
   "outputs": [
    {
     "ename": "TypeError",
     "evalue": "test13() missing 1 required keyword-only argument: 'a'",
     "output_type": "error",
     "traceback": [
      "\u001b[0;31m---------------------------------------------------------------------------\u001b[0m",
      "\u001b[0;31mTypeError\u001b[0m                                 Traceback (most recent call last)",
      "Cell \u001b[0;32mIn[98], line 1\u001b[0m\n\u001b[0;32m----> 1\u001b[0m \u001b[43mtest13\u001b[49m\u001b[43m(\u001b[49m\u001b[38;5;241;43m1\u001b[39;49m\u001b[43m,\u001b[49m\u001b[38;5;241;43m2\u001b[39;49m\u001b[43m,\u001b[49m\u001b[38;5;241;43m3\u001b[39;49m\u001b[43m,\u001b[49m\u001b[38;5;241;43m4\u001b[39;49m\u001b[43m)\u001b[49m\n",
      "\u001b[0;31mTypeError\u001b[0m: test13() missing 1 required keyword-only argument: 'a'"
     ]
    }
   ],
   "source": [
    "test13(1,2,3,4) #multiple arguement use krne ke baad bhi a arguement dediya hai \n",
    "     # isliye ye confuse ho rha hai ki args ka hai ya a ka hai last wala 4\n",
    "#simply ye confuse hogya toh ham isko simply sahi kr skte hai test13(1,2,3,a=4)"
   ]
  },
  {
   "cell_type": "code",
   "execution_count": 99,
   "id": "9284ecf3-95a1-44b5-acbf-6316f4646c81",
   "metadata": {},
   "outputs": [
    {
     "data": {
      "text/plain": [
       "((1, 2, 3), 4)"
      ]
     },
     "execution_count": 99,
     "metadata": {},
     "output_type": "execute_result"
    }
   ],
   "source": [
    "test13(1,2,3,a=4)"
   ]
  },
  {
   "cell_type": "code",
   "execution_count": 100,
   "id": "42bab63c-a3e4-415a-8c86-c90bf91eab5f",
   "metadata": {},
   "outputs": [
    {
     "ename": "SyntaxError",
     "evalue": "non-default argument follows default argument (867418063.py, line 1)",
     "output_type": "error",
     "traceback": [
      "\u001b[0;36m  Cell \u001b[0;32mIn[100], line 1\u001b[0;36m\u001b[0m\n\u001b[0;31m    def test14(a=23,b=1,c,d):\u001b[0m\n\u001b[0m                        ^\u001b[0m\n\u001b[0;31mSyntaxError\u001b[0m\u001b[0;31m:\u001b[0m non-default argument follows default argument\n"
     ]
    }
   ],
   "source": [
    "def test14(a=23,b=1,c,d): #c ,d aage likhn warna error ayega \n",
    "    return a,b,c,d"
   ]
  },
  {
   "cell_type": "code",
   "execution_count": 106,
   "id": "66cd17c7-8f2d-47f4-9ea4-e0680101a79d",
   "metadata": {},
   "outputs": [],
   "source": [
    "def test14(c,d,a=23,b=1):\n",
    "    return a,b,c,d"
   ]
  },
  {
   "cell_type": "code",
   "execution_count": 102,
   "id": "751a0307-6c6e-43a8-bef4-94397cb97627",
   "metadata": {},
   "outputs": [
    {
     "ename": "TypeError",
     "evalue": "test14() missing 2 required positional arguments: 'c' and 'd'",
     "output_type": "error",
     "traceback": [
      "\u001b[0;31m---------------------------------------------------------------------------\u001b[0m",
      "\u001b[0;31mTypeError\u001b[0m                                 Traceback (most recent call last)",
      "Cell \u001b[0;32mIn[102], line 1\u001b[0m\n\u001b[0;32m----> 1\u001b[0m \u001b[43mtest14\u001b[49m\u001b[43m(\u001b[49m\u001b[43m)\u001b[49m\n",
      "\u001b[0;31mTypeError\u001b[0m: test14() missing 2 required positional arguments: 'c' and 'd'"
     ]
    }
   ],
   "source": [
    "test14() #yaha or a or b ki value toh pta hai c or d ki nhi pta toh uski value mang rha "
   ]
  },
  {
   "cell_type": "code",
   "execution_count": 107,
   "id": "ef85eda2-7e0a-4a88-b73c-c0cb9d5f75bb",
   "metadata": {},
   "outputs": [
    {
     "data": {
      "text/plain": [
       "(23, 1, 2, 4)"
      ]
     },
     "execution_count": 107,
     "metadata": {},
     "output_type": "execute_result"
    }
   ],
   "source": [
    "test14(2,4) #yaha output mai return ke order s print kiya hai"
   ]
  },
  {
   "cell_type": "code",
   "execution_count": 109,
   "id": "6edfb856-2053-4a0b-aa5f-3c727a22f086",
   "metadata": {},
   "outputs": [
    {
     "data": {
      "text/plain": [
       "(463, 1, 3, 5)"
      ]
     },
     "execution_count": 109,
     "metadata": {},
     "output_type": "execute_result"
    }
   ],
   "source": [
    "test14(3,5,a=463) #a ka value ham change krna cah rhe teh \n",
    "# default value tab lega jab ham overwrite nhi krega agr overwrite krege toh new vale lelega"
   ]
  },
  {
   "cell_type": "code",
   "execution_count": 110,
   "id": "4e26ba8d-4b0a-4d93-b2be-7b0f24179691",
   "metadata": {},
   "outputs": [],
   "source": [
    "# suppose user ko n number data cahiye dict format mai use **\n",
    "def test15(**kwargs):\n",
    "    return kwargs"
   ]
  },
  {
   "cell_type": "code",
   "execution_count": 111,
   "id": "68e4b3db-fee6-4dc7-b1ab-ae57ef813064",
   "metadata": {},
   "outputs": [
    {
     "data": {
      "text/plain": [
       "{}"
      ]
     },
     "execution_count": 111,
     "metadata": {},
     "output_type": "execute_result"
    }
   ],
   "source": [
    "test15() #dict return kr rha hai"
   ]
  },
  {
   "cell_type": "code",
   "execution_count": 112,
   "id": "09fcb448-ec10-481b-8c3e-087e53278d93",
   "metadata": {},
   "outputs": [
    {
     "data": {
      "text/plain": [
       "dict"
      ]
     },
     "execution_count": 112,
     "metadata": {},
     "output_type": "execute_result"
    }
   ],
   "source": [
    "type(test15())"
   ]
  },
  {
   "cell_type": "code",
   "execution_count": 113,
   "id": "8d3420aa-f81d-49fd-a2df-779307b5b392",
   "metadata": {},
   "outputs": [
    {
     "data": {
      "text/plain": [
       "{'a': [2, 43, 4, 3], 'b': 'sonu', 'c': 34.344}"
      ]
     },
     "execution_count": 113,
     "metadata": {},
     "output_type": "execute_result"
    }
   ],
   "source": [
    "test15(a=[2,43,4,3],b='sonu',c=34.344) #key=value format mai likhna dict mai value dalne ke liye"
   ]
  },
  {
   "cell_type": "code",
   "execution_count": null,
   "id": "eff35c2a-20ab-401a-b0f8-164543db011a",
   "metadata": {},
   "outputs": [],
   "source": []
  }
 ],
 "metadata": {
  "kernelspec": {
   "display_name": "Python 3 (ipykernel)",
   "language": "python",
   "name": "python3"
  },
  "language_info": {
   "codemirror_mode": {
    "name": "ipython",
    "version": 3
   },
   "file_extension": ".py",
   "mimetype": "text/x-python",
   "name": "python",
   "nbconvert_exporter": "python",
   "pygments_lexer": "ipython3",
   "version": "3.10.8"
  }
 },
 "nbformat": 4,
 "nbformat_minor": 5
}
