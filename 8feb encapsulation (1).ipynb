{
 "cells": [
  {
   "cell_type": "code",
   "execution_count": 1,
   "id": "267796cc-5501-4b88-b5b3-764b8bc1543b",
   "metadata": {},
   "outputs": [],
   "source": [
    "# Encapsulation: \n",
    "# Encapsulation refers to the practice of hiding the internal details of an object from the outside world,\n",
    "# and only exposing a public interface for interacting with the object.\n",
    "# This helps to ensure that the object's state is not inadvertently modified by external code, \n",
    "# and provides a way to enforce the rules governing the object's behavior.\n"
   ]
  },
  {
   "cell_type": "code",
   "execution_count": 1,
   "id": "0d7862d1-b44b-4e41-84a6-6f6d020a5cb8",
   "metadata": {},
   "outputs": [],
   "source": [
    "class test:\n",
    "    def __init__(self ,a ,b):\n",
    "        self.a=a\n",
    "        self.b=b"
   ]
  },
  {
   "cell_type": "code",
   "execution_count": 3,
   "id": "da808ccb-d5eb-490e-9263-138aeb646353",
   "metadata": {},
   "outputs": [],
   "source": [
    "t=test(12,850)"
   ]
  },
  {
   "cell_type": "code",
   "execution_count": 4,
   "id": "ae1c9edd-4cad-4ea1-bc69-6b87e5316f9a",
   "metadata": {},
   "outputs": [],
   "source": [
    "t.a=5211515"
   ]
  },
  {
   "cell_type": "code",
   "execution_count": 6,
   "id": "f1a37cfd-9b6c-4a3c-9868-f5c0200237da",
   "metadata": {},
   "outputs": [
    {
     "data": {
      "text/plain": [
       "5211515"
      ]
     },
     "execution_count": 6,
     "metadata": {},
     "output_type": "execute_result"
    }
   ],
   "source": [
    "t.a \n",
    "#yaha tab dabane  sai instance jo a,b likha  hai show krne lgta hai \n",
    "# now ab isko call krne pr 12 nhi aa rha kyuki nai isko externally \n",
    "# access krke modified kr pa rh  ab modified value de rha hai\n",
    "# toh ham isse kaise prevent kre jo t dot click krne ke baad instance(a,b) \n",
    "# aata hai kyuki agr user ko ye dikhne lagega toh user isse modifed krdega ?\n",
    "# toh encalpsulation isse ko rokhta hai taki jo chiz private rakhna cahta hai vo user ko na dikhe\n",
    "# toh ham iske help sai variable ko wrap kar denge taki user ko ye directly \n",
    "# na dekh paye sirf vhi chizz access kr paye jo ham usse dikhana cahte hai"
   ]
  },
  {
   "cell_type": "code",
   "execution_count": 5,
   "id": "5fca48f1-5ffe-4403-8807-cd0cd0663f0c",
   "metadata": {},
   "outputs": [],
   "source": [
    "class car:\n",
    "    def __init__(self,year,make, model,speed):\n",
    "        self.__year=year \n",
    "        #yaha year ke phle__ isliye likha hai taki compiler smjh jai ki\n",
    "        # is variable ko user sai chipa kr rakhna hai \n",
    "        self.__make=make\n",
    "        self.__model=model\n",
    "        self.__speed=0 #agr speed nhi daloge toh by default 0 lelega'"
   ]
  },
  {
   "cell_type": "code",
   "execution_count": 13,
   "id": "66ca8c74-acdb-4301-b25c-4e7079fc3643",
   "metadata": {},
   "outputs": [],
   "source": [
    "c=car(2021,'toyota','innova',12)"
   ]
  },
  {
   "cell_type": "code",
   "execution_count": 15,
   "id": "9260abfa-1a59-42b2-9473-b632e50e158f",
   "metadata": {},
   "outputs": [],
   "source": [
    "# c. ab tab dabane pr instance nhi show kr \n",
    " "
   ]
  },
  {
   "cell_type": "code",
   "execution_count": 7,
   "id": "400e1b2f-97e7-4f0b-bc83-a09fbe1a4880",
   "metadata": {},
   "outputs": [
    {
     "ename": "AttributeError",
     "evalue": "'car' object has no attribute 'year'",
     "output_type": "error",
     "traceback": [
      "\u001b[0;31m---------------------------------------------------------------------------\u001b[0m",
      "\u001b[0;31mAttributeError\u001b[0m                            Traceback (most recent call last)",
      "Cell \u001b[0;32mIn[7], line 1\u001b[0m\n\u001b[0;32m----> 1\u001b[0m \u001b[43mc\u001b[49m\u001b[38;5;241;43m.\u001b[39;49m\u001b[43myear\u001b[49m \u001b[38;5;66;03m# ye error dega\u001b[39;00m\n",
      "\u001b[0;31mAttributeError\u001b[0m: 'car' object has no attribute 'year'"
     ]
    }
   ],
   "source": [
    "c.year # ye error dega"
   ]
  },
  {
   "cell_type": "code",
   "execution_count": 8,
   "id": "84e33f93-3f5b-42c2-ba11-218ebe1cecd1",
   "metadata": {},
   "outputs": [
    {
     "ename": "AttributeError",
     "evalue": "'car' object has no attribute '__year'",
     "output_type": "error",
     "traceback": [
      "\u001b[0;31m---------------------------------------------------------------------------\u001b[0m",
      "\u001b[0;31mAttributeError\u001b[0m                            Traceback (most recent call last)",
      "Cell \u001b[0;32mIn[8], line 1\u001b[0m\n\u001b[0;32m----> 1\u001b[0m \u001b[43mc\u001b[49m\u001b[38;5;241;43m.\u001b[39;49m\u001b[43m__year\u001b[49m \n\u001b[1;32m      2\u001b[0m \u001b[38;5;66;03m#abhi bhi error dega \u001b[39;00m\n",
      "\u001b[0;31mAttributeError\u001b[0m: 'car' object has no attribute '__year'"
     ]
    }
   ],
   "source": [
    "c.__year \n",
    "#abhi bhi error dega "
   ]
  },
  {
   "cell_type": "code",
   "execution_count": 9,
   "id": "f4cd5f26-4c76-4fa8-b26d-754c8626e9d1",
   "metadata": {},
   "outputs": [
    {
     "data": {
      "text/plain": [
       "2021"
      ]
     },
     "execution_count": 9,
     "metadata": {},
     "output_type": "execute_result"
    }
   ],
   "source": [
    "c._car__year  #yaha ham isko directly access nhi kr pa rhe phle  c. phir underscore\n",
    "# class fir underscore underscore jo cahiye tb  access kr payege but directly access nhi kr pa rhe "
   ]
  },
  {
   "cell_type": "code",
   "execution_count": 10,
   "id": "a436fde6-965e-4e85-90e4-2e6c60034918",
   "metadata": {},
   "outputs": [],
   "source": [
    "class car:\n",
    "    def __init__(self,year,make, model,speed):\n",
    "        self.__year=year \n",
    "        self.__make=make\n",
    "        self.__model=model\n",
    "        self.__speed=0 \n",
    "        \n",
    "    def set_speed(self,speed):\n",
    "        self.__speed =0 if speed <0 else speed\n",
    "    def get_speed(self):\n",
    "        return self.__speed"
   ]
  },
  {
   "cell_type": "code",
   "execution_count": 14,
   "id": "08f05cba-adc2-44f1-b6f7-01d044bdabe7",
   "metadata": {},
   "outputs": [],
   "source": [
    "c=car(2021,'toyota','innova',12) \n",
    "#upr class mai kuch changement kiya tha function def krke\n",
    "# toh object(jo c banaya hai) fir sai banana prega warna error ayega "
   ]
  },
  {
   "cell_type": "code",
   "execution_count": 23,
   "id": "0ecd92af-9d4e-4447-a819-614fd932d4b0",
   "metadata": {},
   "outputs": [],
   "source": [
    "c.set_speed(-3455) \n",
    "#c. ke bad tab dabao jo chiz unhide hai vo ajiaga jaise upr wale mai\n",
    "# get_speed and set_speed hide nhi kiya hai  is c. ke bad tab daba rhe toh dikha de rha\n",
    "# aur jisme hide kiye hai usme c. ke bad tab dabane penhi ayega jaise ki year , make ,model  "
   ]
  },
  {
   "cell_type": "code",
   "execution_count": 20,
   "id": "20a825b1-e33c-49b5-81e6-b48a4421c70f",
   "metadata": {},
   "outputs": [
    {
     "data": {
      "text/plain": [
       "0"
      ]
     },
     "execution_count": 20,
     "metadata": {},
     "output_type": "execute_result"
    }
   ],
   "source": [
    "c.get_speed()"
   ]
  },
  {
   "cell_type": "code",
   "execution_count": 21,
   "id": "933f6c9a-f0fd-458e-a23a-bcd3d78bd821",
   "metadata": {},
   "outputs": [],
   "source": [
    "c.set_speed(34)"
   ]
  },
  {
   "cell_type": "code",
   "execution_count": 22,
   "id": "4da19675-0f1c-4f29-bfe8-f0c253060df1",
   "metadata": {},
   "outputs": [
    {
     "data": {
      "text/plain": [
       "34"
      ]
     },
     "execution_count": 22,
     "metadata": {},
     "output_type": "execute_result"
    }
   ],
   "source": [
    "c.get_speed()"
   ]
  },
  {
   "cell_type": "code",
   "execution_count": 39,
   "id": "32e0ed5b-9a1e-4226-959d-f43b17c1fdf0",
   "metadata": {},
   "outputs": [],
   "source": [
    "class bank_account:\n",
    "    def __init__(self,balance):\n",
    "        self.__balance=balance\n",
    "    def deposit(self,amount):\n",
    "        self.__balance+=amount\n",
    "    def withdraw(self,amount):\n",
    "        if self.__balance>=amount:\n",
    "            self.__balance-=amount\n",
    "            return True\n",
    "        else:\n",
    "            return False\n",
    "    def get_bal(self):\n",
    "        return self.__balance\n",
    "    "
   ]
  },
  {
   "cell_type": "code",
   "execution_count": 40,
   "id": "69f0bf67-73c3-4011-9911-57bd88081532",
   "metadata": {},
   "outputs": [],
   "source": [
    "sonu=bank_account(1000)"
   ]
  },
  {
   "cell_type": "code",
   "execution_count": 41,
   "id": "ac69e4a9-ddeb-45cb-a316-e5027cae1841",
   "metadata": {},
   "outputs": [],
   "source": [
    "sonu.deposit(5000)"
   ]
  },
  {
   "cell_type": "code",
   "execution_count": 42,
   "id": "c21f6327-7f4d-47a2-ad4b-ec3d546b78e5",
   "metadata": {},
   "outputs": [
    {
     "data": {
      "text/plain": [
       "6000"
      ]
     },
     "execution_count": 42,
     "metadata": {},
     "output_type": "execute_result"
    }
   ],
   "source": [
    "sonu.get_bal()"
   ]
  },
  {
   "cell_type": "code",
   "execution_count": 43,
   "id": "f8a0da8d-d64e-46bb-872b-6235e3672692",
   "metadata": {},
   "outputs": [
    {
     "data": {
      "text/plain": [
       "True"
      ]
     },
     "execution_count": 43,
     "metadata": {},
     "output_type": "execute_result"
    }
   ],
   "source": [
    "sonu.withdraw(200)"
   ]
  },
  {
   "cell_type": "code",
   "execution_count": 33,
   "id": "52c00bbe-e872-4f7e-b0a7-7bb3ee1c7b07",
   "metadata": {},
   "outputs": [
    {
     "data": {
      "text/plain": [
       "5800"
      ]
     },
     "execution_count": 33,
     "metadata": {},
     "output_type": "execute_result"
    }
   ],
   "source": [
    "sonu.get_bal()"
   ]
  },
  {
   "cell_type": "code",
   "execution_count": 38,
   "id": "3bb1f5d9-db46-4334-9f86-da5df8daa509",
   "metadata": {},
   "outputs": [],
   "source": [
    "# class bank_account:\n",
    "#     def __init__(self,balance):\n",
    "#         self.__balance=balance\n",
    "#     def deposit(self,amount):\n",
    "#         self.__balance=self.__balance+amount\n",
    "#     def withdraw(self,amount):\n",
    "#         if self.__balance>=amount:\n",
    "#             self.__balance=self.__balance-amount\n",
    "#             return True\n",
    "#         else:\n",
    "#             return False\n",
    "#     def get_bal(self):\n",
    "#         return self.__balance\n",
    "    \n",
    "    \n",
    "    #upr wale code ko aese bhi likh sakte hai "
   ]
  },
  {
   "cell_type": "code",
   "execution_count": 44,
   "id": "b98ac939-6632-4772-8d6b-550eaa8b8afb",
   "metadata": {},
   "outputs": [
    {
     "data": {
      "text/plain": [
       "5800"
      ]
     },
     "execution_count": 44,
     "metadata": {},
     "output_type": "execute_result"
    }
   ],
   "source": [
    "sonu.get_bal()"
   ]
  },
  {
   "cell_type": "code",
   "execution_count": 45,
   "id": "4abc913e-cb30-4752-9f96-82c7c2fb6683",
   "metadata": {},
   "outputs": [
    {
     "data": {
      "text/plain": [
       "False"
      ]
     },
     "execution_count": 45,
     "metadata": {},
     "output_type": "execute_result"
    }
   ],
   "source": [
    "sonu.withdraw(10000)"
   ]
  },
  {
   "cell_type": "code",
   "execution_count": 46,
   "id": "b923f7af-528e-4c8b-8b36-07bfc4a10b37",
   "metadata": {},
   "outputs": [
    {
     "data": {
      "text/plain": [
       "5800"
      ]
     },
     "execution_count": 46,
     "metadata": {},
     "output_type": "execute_result"
    }
   ],
   "source": [
    "sonu.get_bal()"
   ]
  },
  {
   "cell_type": "code",
   "execution_count": null,
   "id": "0fe61848-3cad-44f3-8c62-e455705aef97",
   "metadata": {},
   "outputs": [],
   "source": []
  }
 ],
 "metadata": {
  "kernelspec": {
   "display_name": "Python 3 (ipykernel)",
   "language": "python",
   "name": "python3"
  },
  "language_info": {
   "codemirror_mode": {
    "name": "ipython",
    "version": 3
   },
   "file_extension": ".py",
   "mimetype": "text/x-python",
   "name": "python",
   "nbconvert_exporter": "python",
   "pygments_lexer": "ipython3",
   "version": "3.10.8"
  }
 },
 "nbformat": 4,
 "nbformat_minor": 5
}
