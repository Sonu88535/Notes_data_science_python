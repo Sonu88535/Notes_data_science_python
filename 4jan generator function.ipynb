{
 "cells": [
  {
   "cell_type": "code",
   "execution_count": 1,
   "id": "c5a6aea6-ce36-4052-a827-90268f413255",
   "metadata": {},
   "outputs": [
    {
     "data": {
      "text/plain": [
       "range(0, 10)"
      ]
     },
     "execution_count": 1,
     "metadata": {},
     "output_type": "execute_result"
    }
   ],
   "source": [
    "range(10) #range(10) krne ke bad jo output deta hai vo object hota hai \n",
    " # ab agr uske andar sai data nikalna hai toh for i in range(10) likhna prega"
   ]
  },
  {
   "cell_type": "code",
   "execution_count": 3,
   "id": "d236587f-9117-4c82-ac10-285f66abde86",
   "metadata": {},
   "outputs": [
    {
     "name": "stdout",
     "output_type": "stream",
     "text": [
      "0\n",
      "1\n",
      "2\n",
      "3\n",
      "4\n",
      "5\n",
      "6\n",
      "7\n",
      "8\n",
      "9\n"
     ]
    }
   ],
   "source": [
    "for i in range(10): #so is data dena ke propose mai data\n",
    "    # ek bar mai nhi de derha  ye ek ek krke nikal kr de rha hai\n",
    "    print(i)"
   ]
  },
  {
   "cell_type": "code",
   "execution_count": 4,
   "id": "8ff83d0f-ee15-4509-8937-5884ea508e5e",
   "metadata": {},
   "outputs": [],
   "source": [
    "#let suppose apne ek function likha jo apko result de rha list \n",
    "# toh list mai millions of elements hai toh jitne bari list hai utni \n",
    "# jada memory consumption krega main memory mai \n",
    "# so memory consumption ko reduce krna hai toh hmlog generator function bana skte hai  \n",
    "# generator function output generate krte jata hai continously bina without holding anything in memory"
   ]
  },
  {
   "cell_type": "code",
   "execution_count": 5,
   "id": "9f2f2328-1937-4ce1-80ad-a9ea83a13257",
   "metadata": {},
   "outputs": [],
   "source": [
    "# fibbonacci series using generator function\n",
    "def test_fib(n):\n",
    "    a,b=0,1\n",
    "    for i in range(n):\n",
    "        yield a #yield helps in to create generator function\n",
    "           #upr a =0 tha vo  yield kr rha hai \n",
    "            #yaha pr kio return nhi hai  yaha yield kaam kr rha data ko throw krne mai \n",
    "        a,b=b,a+b\n",
    "        \n",
    "        \n",
    "#suppose ek list hai jisme million of data hai \n",
    "# toh phle usme data dale ge fir vo output mai data dega tohh  bbahut time \n",
    " # lagega toh vaha generator function use krege  vo data list mai dalega\n",
    "    # and output deta jaiga ussi time "
   ]
  },
  {
   "cell_type": "code",
   "execution_count": 7,
   "id": "0406fd5c-469f-4092-af5e-341a645a6cac",
   "metadata": {},
   "outputs": [
    {
     "data": {
      "text/plain": [
       "<generator object test_fib at 0x7f12c681dee0>"
      ]
     },
     "execution_count": 7,
     "metadata": {},
     "output_type": "execute_result"
    }
   ],
   "source": [
    "test_fib(10) #ye output nhi dega ye generator object dega\n",
    "          # mtlb ye generate krega jab tm isse loop mai call krega"
   ]
  },
  {
   "cell_type": "code",
   "execution_count": 8,
   "id": "4f7fd414-fd1d-49a8-aaba-61f30899e03f",
   "metadata": {},
   "outputs": [
    {
     "name": "stdout",
     "output_type": "stream",
     "text": [
      "0\n",
      "1\n",
      "1\n",
      "2\n",
      "3\n",
      "5\n",
      "8\n",
      "13\n",
      "21\n",
      "34\n"
     ]
    }
   ],
   "source": [
    "for i in test_fib(10):\n",
    "    print(i)"
   ]
  },
  {
   "cell_type": "code",
   "execution_count": 9,
   "id": "68ca2850-d80f-43f8-9edb-2cf472a9bc76",
   "metadata": {},
   "outputs": [],
   "source": [
    "def test_fib1():\n",
    "    a,b=0,1\n",
    "    while True: #while loop kam kb krta hai jjab whleloop true hota hai \n",
    "                 # hamne likh diya ki tm hamesa true raho\n",
    "        yield a  #generator function bana skte using yield"
   ]
  },
  {
   "cell_type": "code",
   "execution_count": 11,
   "id": "2bcd7dfd-6985-4985-9e50-b2000d78d02c",
   "metadata": {},
   "outputs": [],
   "source": [
    "fib=test_fib1() #iska  phle object bana liya \n",
    "                #isko interator banarha hai"
   ]
  },
  {
   "cell_type": "code",
   "execution_count": 12,
   "id": "c9218516-f071-4a25-9102-a0eed8a533ee",
   "metadata": {},
   "outputs": [
    {
     "name": "stdout",
     "output_type": "stream",
     "text": [
      "0\n",
      "1\n",
      "1\n",
      "2\n",
      "3\n",
      "5\n",
      "8\n",
      "13\n",
      "21\n",
      "34\n"
     ]
    }
   ],
   "source": [
    "for i in  range(10):\n",
    "    print(next(fib))"
   ]
  },
  {
   "cell_type": "code",
   "execution_count": 13,
   "id": "cf205a96-8877-47d9-b9af-7064a1fce7a6",
   "metadata": {},
   "outputs": [],
   "source": [
    "s=\"sudh\" #isme sai ek ek data nikalo"
   ]
  },
  {
   "cell_type": "code",
   "execution_count": 15,
   "id": "99f841d4-74b1-4000-845c-6027dbc35a26",
   "metadata": {},
   "outputs": [
    {
     "name": "stdout",
     "output_type": "stream",
     "text": [
      "s\n",
      "u\n",
      "d\n",
      "h\n"
     ]
    }
   ],
   "source": [
    "for i in s : #for loop interally phle hi length calculate kr leta hai  ki kaha sai kaha tk jana hai \n",
    "    # and for loop bhi yehi kr rha hi ki phle iter mai pass kr rha hai uske baad next next kr rha\n",
    "    print(i)"
   ]
  },
  {
   "cell_type": "code",
   "execution_count": 16,
   "id": "8b729566-5007-4509-af46-f1bfa2a571ba",
   "metadata": {},
   "outputs": [
    {
     "data": {
      "text/plain": [
       "'sudh'"
      ]
     },
     "execution_count": 16,
     "metadata": {},
     "output_type": "execute_result"
    }
   ],
   "source": [
    "s\n"
   ]
  },
  {
   "cell_type": "code",
   "execution_count": 17,
   "id": "51725c7a-6413-499d-b036-f0abf62f4697",
   "metadata": {},
   "outputs": [
    {
     "ename": "TypeError",
     "evalue": "'str' object is not an iterator",
     "output_type": "error",
     "traceback": [
      "\u001b[0;31m---------------------------------------------------------------------------\u001b[0m",
      "\u001b[0;31mTypeError\u001b[0m                                 Traceback (most recent call last)",
      "Cell \u001b[0;32mIn[17], line 1\u001b[0m\n\u001b[0;32m----> 1\u001b[0m \u001b[38;5;28;43mnext\u001b[39;49m\u001b[43m(\u001b[49m\u001b[43ms\u001b[49m\u001b[43m)\u001b[49m\n",
      "\u001b[0;31mTypeError\u001b[0m: 'str' object is not an iterator"
     ]
    }
   ],
   "source": [
    "next(s) #string ek aesa object or variable nhi hai jisme app next next ja sakte ho (iterator)\n",
    "# toh string mai next le jane ka kam for loop krta hai\n",
    "\n",
    "#bydefault string ek aesa object hai jisme hm next next data pr nhi ja skte \n",
    "#next tbhi kam krega jab object iterator ho\n"
   ]
  },
  {
   "cell_type": "code",
   "execution_count": 18,
   "id": "de3d40f4-1fdf-40a1-8369-b086c810b58f",
   "metadata": {},
   "outputs": [],
   "source": [
    "s1=iter(s) #yaha string object ko iterator bana rhe hai and jab iterator ban gya tb next() use kr skte hai \n",
    "# iterator banane ke liye phle string  ko dalte hai iter function mai \n"
   ]
  },
  {
   "cell_type": "code",
   "execution_count": 19,
   "id": "e3609e98-faca-4468-9521-757740e4131f",
   "metadata": {},
   "outputs": [
    {
     "data": {
      "text/plain": [
       "'s'"
      ]
     },
     "execution_count": 19,
     "metadata": {},
     "output_type": "execute_result"
    }
   ],
   "source": [
    "next(s1) #ab ye next le ja paa rha "
   ]
  },
  {
   "cell_type": "code",
   "execution_count": 21,
   "id": "6918b74a-afa0-4a36-b369-2e34dfb2ed94",
   "metadata": {},
   "outputs": [
    {
     "data": {
      "text/plain": [
       "'u'"
      ]
     },
     "execution_count": 21,
     "metadata": {},
     "output_type": "execute_result"
    }
   ],
   "source": [
    "next(s1)"
   ]
  },
  {
   "cell_type": "code",
   "execution_count": 22,
   "id": "ecb48bc6-c8dc-4145-89ca-10abb3616460",
   "metadata": {},
   "outputs": [
    {
     "data": {
      "text/plain": [
       "'d'"
      ]
     },
     "execution_count": 22,
     "metadata": {},
     "output_type": "execute_result"
    }
   ],
   "source": [
    "next(s1)"
   ]
  },
  {
   "cell_type": "code",
   "execution_count": 23,
   "id": "d7a184f5-ab78-45ab-8e3b-b62e5dbd663f",
   "metadata": {},
   "outputs": [
    {
     "data": {
      "text/plain": [
       "'h'"
      ]
     },
     "execution_count": 23,
     "metadata": {},
     "output_type": "execute_result"
    }
   ],
   "source": [
    "next(s1)"
   ]
  },
  {
   "cell_type": "code",
   "execution_count": 35,
   "id": "89892ee7-e05f-412d-9064-d760c3b5e08a",
   "metadata": {},
   "outputs": [
    {
     "ename": "StopIteration",
     "evalue": "",
     "output_type": "error",
     "traceback": [
      "\u001b[0;31m---------------------------------------------------------------------------\u001b[0m",
      "\u001b[0;31mStopIteration\u001b[0m                             Traceback (most recent call last)",
      "Cell \u001b[0;32mIn[35], line 1\u001b[0m\n\u001b[0;32m----> 1\u001b[0m \u001b[38;5;28;43mnext\u001b[39;49m\u001b[43m(\u001b[49m\u001b[43ms1\u001b[49m\u001b[43m)\u001b[49m  \n",
      "\u001b[0;31mStopIteration\u001b[0m: "
     ]
    }
   ],
   "source": [
    "next(s1)   #error isliye aa rha kyuki h ke age ab kio object nhi tha "
   ]
  },
  {
   "cell_type": "code",
   "execution_count": 30,
   "id": "19df39ca-3e55-418b-bf94-49156b3885a2",
   "metadata": {},
   "outputs": [
    {
     "ename": "TypeError",
     "evalue": "'int' object is not an iterator",
     "output_type": "error",
     "traceback": [
      "\u001b[0;31m---------------------------------------------------------------------------\u001b[0m",
      "\u001b[0;31mTypeError\u001b[0m                                 Traceback (most recent call last)",
      "Cell \u001b[0;32mIn[30], line 1\u001b[0m\n\u001b[0;32m----> 1\u001b[0m \u001b[38;5;28;43mnext\u001b[39;49m\u001b[43m(\u001b[49m\u001b[38;5;241;43m45\u001b[39;49m\u001b[43m)\u001b[49m\n",
      "\u001b[0;31mTypeError\u001b[0m: 'int' object is not an iterator"
     ]
    }
   ],
   "source": [
    "next(45) #int object inteable nhi hai"
   ]
  },
  {
   "cell_type": "code",
   "execution_count": 32,
   "id": "a3a346b7-500d-41d9-a752-3abf63792a3f",
   "metadata": {},
   "outputs": [
    {
     "ename": "TypeError",
     "evalue": "'int' object is not iterable",
     "output_type": "error",
     "traceback": [
      "\u001b[0;31m---------------------------------------------------------------------------\u001b[0m",
      "\u001b[0;31mTypeError\u001b[0m                                 Traceback (most recent call last)",
      "Cell \u001b[0;32mIn[32], line 1\u001b[0m\n\u001b[0;32m----> 1\u001b[0m \u001b[38;5;28;43miter\u001b[39;49m\u001b[43m(\u001b[49m\u001b[38;5;241;43m45\u001b[39;49m\u001b[43m)\u001b[49m\n",
      "\u001b[0;31mTypeError\u001b[0m: 'int' object is not iterable"
     ]
    }
   ],
   "source": [
    "iter(45) #toh isko iterator  bana rhe hai but\n",
    "   # ye iterator nhi ban skta kyuki int object interable hota hi nhi hai\n",
    "         \n",
    "    # list ,tuple , string  ye sb iterable tha by default \n",
    "    # but int nhi hai toh usse iterator bana nhi skte \n",
    "    # , list , tuple, string in sb ko bana skte hai iterator.\n",
    "    "
   ]
  },
  {
   "cell_type": "code",
   "execution_count": null,
   "id": "589bd253-79ed-4e6f-84d7-c7ecc5aae770",
   "metadata": {},
   "outputs": [],
   "source": [
    "# interator aesa hai jisme ham next next krke ja skte hai  aur usko nikal skte hai usko fetch kr skte hai \n",
    "# interable vo hai jisko iterator mai convert kr skte hai\n"
   ]
  }
 ],
 "metadata": {
  "kernelspec": {
   "display_name": "Python 3 (ipykernel)",
   "language": "python",
   "name": "python3"
  },
  "language_info": {
   "codemirror_mode": {
    "name": "ipython",
    "version": 3
   },
   "file_extension": ".py",
   "mimetype": "text/x-python",
   "name": "python",
   "nbconvert_exporter": "python",
   "pygments_lexer": "ipython3",
   "version": "3.10.8"
  }
 },
 "nbformat": 4,
 "nbformat_minor": 5
}
