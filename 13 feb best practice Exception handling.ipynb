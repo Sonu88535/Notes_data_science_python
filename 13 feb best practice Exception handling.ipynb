{
 "cells": [
  {
   "cell_type": "code",
   "execution_count": 3,
   "id": "87f132d3-93aa-47f2-a658-6ac594173354",
   "metadata": {},
   "outputs": [
    {
     "name": "stdout",
     "output_type": "stream",
     "text": [
      "division by zero\n"
     ]
    }
   ],
   "source": [
    "#use always a specific exception \n",
    "try:\n",
    "    10/0\n",
    "except Exception as e: #ye tareka sahi nhi hia although ye mrthod glt nhi \n",
    "    # hia but ye tareka use nhi krege\n",
    "    print(e)"
   ]
  },
  {
   "cell_type": "code",
   "execution_count": 4,
   "id": "35e1783a-c94b-4ebc-99e2-7b0ff0d020c1",
   "metadata": {},
   "outputs": [
    {
     "name": "stdout",
     "output_type": "stream",
     "text": [
      "division by zero\n"
     ]
    }
   ],
   "source": [
    "try:\n",
    "    10/0\n",
    "except ZeroDivisionError as e:\n",
    "    print(e)\n",
    "    \n",
    "    # ye lagao tph acha tha always use a specific exception don't use generic one \n",
    "    "
   ]
  },
  {
   "cell_type": "code",
   "execution_count": 9,
   "id": "192bfbcb-4b7e-4cfa-b05d-0db72633419c",
   "metadata": {},
   "outputs": [
    {
     "name": "stdout",
     "output_type": "stream",
     "text": [
      " i am trying to handle a zerodivision error division by zero\n"
     ]
    }
   ],
   "source": [
    "#print always a proper message\n",
    "try:\n",
    "    10/0\n",
    "except ZeroDivisionError as e:\n",
    "    print(' i am trying to handle a zerodivision error' ,e )"
   ]
  },
  {
   "cell_type": "code",
   "execution_count": 12,
   "id": "4318f010-3b76-477d-8dcf-41c8f02d2180",
   "metadata": {},
   "outputs": [],
   "source": [
    "#always try to log your error\n",
    "import logging\n",
    "logging.basicConfig(filename=\"error.log\",level=logging.ERROR)\n",
    "try:\n",
    "    10/0\n",
    "except ZeroDivisionError as e:\n",
    "    logging.error(' i am trying to handle a zerodivision error {}' .format(e) )"
   ]
  },
  {
   "cell_type": "code",
   "execution_count": 14,
   "id": "8f9fbb86-819a-46b4-a44b-ffa5e895518d",
   "metadata": {},
   "outputs": [],
   "source": [
    "#always avoid to write a multiple exception handling\n",
    "import logging\n",
    "logging.basicConfig(filename=\"error.log\",level=logging.ERROR)\n",
    "try:\n",
    "    10/0\n",
    "except FileNotFoundError as e:\n",
    "    logging.error(' i am handling file not found {}' .format(e) )\n",
    "except AttributeError as e:\n",
    "    logging.error(' i am handling atribute error {}' .format(e) )\n",
    "except ZeroDivisionError as e:\n",
    "    logging.error(' i am trying to handle a zerodivision error {}' .format(e) )\n",
    "    \n",
    "# sb kuch ek hi jagah daal diya jo ki good practice nhi hai\n",
    "# file mai jaakr dekhoge toh last wla hi hua rhega kyuki upr do usko handle hi nhi kr skte "
   ]
  },
  {
   "cell_type": "code",
   "execution_count": 18,
   "id": "bdf8c5b3-b369-49dc-866b-1556de3e04cd",
   "metadata": {},
   "outputs": [],
   "source": [
    "#always try to document all the error\n",
    "#cleanup all the resources \n",
    "import logging\n",
    "logging.basicConfig(filename=\"error.log\",level=logging.ERROR)\n",
    "try:\n",
    "    with open(\"text2.txt\",\"w\") as f:\n",
    "        f.write(\"this id my data to file\")\n",
    "except FileNotFoundError as e:\n",
    "    logging.error(' i am handling file not found {}' .format(e) )\n",
    "    \n",
    "finally: \n",
    "    f.close()  #close krna hi h krna hai file ko chae erro ho ya na ho"
   ]
  },
  {
   "cell_type": "code",
   "execution_count": null,
   "id": "13dfc895-0399-4f5d-93d1-7cd6017296e2",
   "metadata": {},
   "outputs": [],
   "source": []
  }
 ],
 "metadata": {
  "kernelspec": {
   "display_name": "Python 3 (ipykernel)",
   "language": "python",
   "name": "python3"
  },
  "language_info": {
   "codemirror_mode": {
    "name": "ipython",
    "version": 3
   },
   "file_extension": ".py",
   "mimetype": "text/x-python",
   "name": "python",
   "nbconvert_exporter": "python",
   "pygments_lexer": "ipython3",
   "version": "3.10.8"
  }
 },
 "nbformat": 4,
 "nbformat_minor": 5
}
