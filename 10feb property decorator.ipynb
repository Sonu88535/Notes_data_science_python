{
 "cells": [
  {
   "cell_type": "code",
   "execution_count": 1,
   "id": "3144e63f-3752-4dc1-8cc1-500ad4c5e039",
   "metadata": {},
   "outputs": [],
   "source": [
    "#Property Decorator-Getter,Setter and Deletes"
   ]
  },
  {
   "cell_type": "code",
   "execution_count": 2,
   "id": "337af8e6-321a-4814-ae0b-dc8899a825b8",
   "metadata": {},
   "outputs": [],
   "source": [
    "class pwskills:\n",
    "    def __init__(self,course_price,course_name):\n",
    "        self.__course_price=course_price  #single underscore means variable protected\n",
    "                                        #double underscore means variable private\n",
    "        self.course_name=course_name"
   ]
  },
  {
   "cell_type": "code",
   "execution_count": 3,
   "id": "39793af8-5b39-47ed-b9e4-dcd9cab9f12e",
   "metadata": {},
   "outputs": [],
   "source": [
    "pw=pwskills(3500,\"data science master\")"
   ]
  },
  {
   "cell_type": "code",
   "execution_count": 4,
   "id": "e0d23905-0816-4654-95bc-57b1366a088b",
   "metadata": {},
   "outputs": [
    {
     "data": {
      "text/plain": [
       "'data science master'"
      ]
     },
     "execution_count": 4,
     "metadata": {},
     "output_type": "execute_result"
    }
   ],
   "source": [
    "pw.course_name"
   ]
  },
  {
   "cell_type": "code",
   "execution_count": 7,
   "id": "2b4a33cd-142f-4221-8cb5-b7509f247792",
   "metadata": {},
   "outputs": [
    {
     "ename": "AttributeError",
     "evalue": "'pwskills' object has no attribute '__course_price'",
     "output_type": "error",
     "traceback": [
      "\u001b[0;31m---------------------------------------------------------------------------\u001b[0m",
      "\u001b[0;31mAttributeError\u001b[0m                            Traceback (most recent call last)",
      "Cell \u001b[0;32mIn[7], line 3\u001b[0m\n\u001b[1;32m      1\u001b[0m \u001b[38;5;66;03m# pw. tab dabane par course price nhi aa rha kyuki private kiya hia \u001b[39;00m\n\u001b[1;32m      2\u001b[0m \u001b[38;5;66;03m# and\u001b[39;00m\n\u001b[0;32m----> 3\u001b[0m \u001b[43mpw\u001b[49m\u001b[38;5;241;43m.\u001b[39;49m\u001b[43m__course_price\u001b[49m \u001b[38;5;66;03m#ye likhne sai bhi nhi ayega \u001b[39;00m\n",
      "\u001b[0;31mAttributeError\u001b[0m: 'pwskills' object has no attribute '__course_price'"
     ]
    }
   ],
   "source": [
    "# pw. tab dabane par course price nhi aa rha kyuki private kiya hia \n",
    "# and\n",
    "pw.__course_price #ye likhne sai bhi nhi ayega "
   ]
  },
  {
   "cell_type": "code",
   "execution_count": 8,
   "id": "7738cb97-df50-42b5-8ca6-e4c967f4e149",
   "metadata": {},
   "outputs": [],
   "source": [
    "# filhal mai creator hu toh mujhe pta hai  \n",
    "# par kisi or ko code dunga toh vo acess nhi kr skta"
   ]
  },
  {
   "cell_type": "code",
   "execution_count": 11,
   "id": "dd3eaaf1-2971-4188-b2bf-01b451c7f9c6",
   "metadata": {},
   "outputs": [
    {
     "data": {
      "text/plain": [
       "3500"
      ]
     },
     "execution_count": 11,
     "metadata": {},
     "output_type": "execute_result"
    }
   ],
   "source": [
    "# access krne ke liye singleunderscore classname phir course price likhna prega tb access hoga\n",
    "# tab dabane pe ayega tb underscore classname likh kr \n",
    "pw._pwskills__course_price"
   ]
  },
  {
   "cell_type": "code",
   "execution_count": 43,
   "id": "975a238d-d83b-4231-89d5-70a9b518e9c4",
   "metadata": {},
   "outputs": [],
   "source": [
    "# now ab agr iska access mujhe user ko dena hia in terms of \n",
    "# modifying this one toh kaise denege\n",
    "\n",
    "class pwskills2:\n",
    "    def __init__(self,course_price,course_name):\n",
    "        self.__course_price=course_price  \n",
    "        self.course_name=course_name\n",
    "        \n",
    "    @property  #ye decorator property hai ksi fun ke upr lagega\n",
    "               # ab ham ye define kr skte hai ab is method ya variable ko access kr pao \n",
    "               # ish method ko modify kr pao ,overwrite kr pao ya fir del krpao\n",
    "            \n",
    "            \n",
    "    def course_price_access(self): #course price ko access krne ke liye expose krdiya\n",
    "        return self.__course_price    #now ab upr wale property ke wajah sai \n",
    "#                                self.__course_price ye wala chiz expose ho jaige user ke samne\n",
    "# user directly access ni  kr paa rha but upr wale method ke wjh sai kr paa rha \n",
    "\n",
    "    #ab modify krne ke liye expose krna hai toh sbse phle \n",
    "    # likhna hoga access wala method thne . then setter\n",
    "    @course_price_access.setter\n",
    "    def course_price_set(self,price):\n",
    "        if price <=3500:\n",
    "            pass \n",
    "        else :\n",
    "            self.__course_price=price\n",
    "            \n",
    "    #user lo del krne ka access de rhe ho\n",
    "    @course_price_access.deleter\n",
    "    def del_course_price(self):\n",
    "        del self.__course_price"
   ]
  },
  {
   "cell_type": "code",
   "execution_count": 44,
   "id": "cc5bf6e3-c527-4e22-877e-ab2ba767280b",
   "metadata": {},
   "outputs": [],
   "source": [
    "pw2=pwskills2(3500,\"data science master\")"
   ]
  },
  {
   "cell_type": "code",
   "execution_count": 25,
   "id": "233b282e-bde7-46b0-9e49-74e430f9488b",
   "metadata": {},
   "outputs": [
    {
     "data": {
      "text/plain": [
       "3500"
      ]
     },
     "execution_count": 25,
     "metadata": {},
     "output_type": "execute_result"
    }
   ],
   "source": [
    "pw2.course_price_access"
   ]
  },
  {
   "cell_type": "code",
   "execution_count": 35,
   "id": "a6710579-d375-4a48-a4a8-e3da76197a38",
   "metadata": {},
   "outputs": [
    {
     "data": {
      "text/plain": [
       "3500"
      ]
     },
     "execution_count": 35,
     "metadata": {},
     "output_type": "execute_result"
    }
   ],
   "source": [
    "pw2.course_price_set"
   ]
  },
  {
   "cell_type": "code",
   "execution_count": 36,
   "id": "aa104c9d-e83e-4176-9562-f19fe445069e",
   "metadata": {},
   "outputs": [],
   "source": [
    "pw2.course_price_set=4000"
   ]
  },
  {
   "cell_type": "code",
   "execution_count": 37,
   "id": "2d9423fe-234c-4601-b052-1d758d63a457",
   "metadata": {},
   "outputs": [
    {
     "data": {
      "text/plain": [
       "4000"
      ]
     },
     "execution_count": 37,
     "metadata": {},
     "output_type": "execute_result"
    }
   ],
   "source": [
    "pw2.course_price_access"
   ]
  },
  {
   "cell_type": "code",
   "execution_count": 45,
   "id": "b1363e52-73df-4db8-9c91-01a526e4798c",
   "metadata": {},
   "outputs": [],
   "source": [
    "del pw2.del_course_price #ye price ko del krdiya "
   ]
  },
  {
   "cell_type": "code",
   "execution_count": 46,
   "id": "31f50992-3b66-4d9b-99f8-c69bbac486c6",
   "metadata": {},
   "outputs": [
    {
     "ename": "AttributeError",
     "evalue": "'pwskills2' object has no attribute '_pwskills2__course_price'",
     "output_type": "error",
     "traceback": [
      "\u001b[0;31m---------------------------------------------------------------------------\u001b[0m",
      "\u001b[0;31mAttributeError\u001b[0m                            Traceback (most recent call last)",
      "Cell \u001b[0;32mIn[46], line 1\u001b[0m\n\u001b[0;32m----> 1\u001b[0m \u001b[43mpw2\u001b[49m\u001b[38;5;241;43m.\u001b[39;49m\u001b[43mcourse_price_access\u001b[49m\n",
      "Cell \u001b[0;32mIn[43], line 15\u001b[0m, in \u001b[0;36mpwskills2.course_price_access\u001b[0;34m(self)\u001b[0m\n\u001b[1;32m      9\u001b[0m \u001b[38;5;129m@property\u001b[39m  \u001b[38;5;66;03m#ye decorator property hai ksi fun ke upr lagega\u001b[39;00m\n\u001b[1;32m     10\u001b[0m            \u001b[38;5;66;03m# ab ham ye define kr skte hai ab is method ya variable ko access kr pao \u001b[39;00m\n\u001b[1;32m     11\u001b[0m            \u001b[38;5;66;03m# ish method ko modify kr pao ,overwrite kr pao ya fir del krpao\u001b[39;00m\n\u001b[1;32m     12\u001b[0m         \n\u001b[1;32m     13\u001b[0m         \n\u001b[1;32m     14\u001b[0m \u001b[38;5;28;01mdef\u001b[39;00m \u001b[38;5;21mcourse_price_access\u001b[39m(\u001b[38;5;28mself\u001b[39m): \u001b[38;5;66;03m#course price ko access krne ke liye expose krdiya\u001b[39;00m\n\u001b[0;32m---> 15\u001b[0m     \u001b[38;5;28;01mreturn\u001b[39;00m \u001b[38;5;28;43mself\u001b[39;49m\u001b[38;5;241;43m.\u001b[39;49m\u001b[43m__course_price\u001b[49m\n",
      "\u001b[0;31mAttributeError\u001b[0m: 'pwskills2' object has no attribute '_pwskills2__course_price'"
     ]
    }
   ],
   "source": [
    "pw2.course_price_access #price del  hogya isliye show kr rha"
   ]
  },
  {
   "cell_type": "code",
   "execution_count": null,
   "id": "e6d633fa-a591-4798-88c1-2a752d9cea4b",
   "metadata": {},
   "outputs": [],
   "source": [
    "# ab external user del set get kr pa rha ab apar depend kr \n",
    "# rha ki app external user ko kya access de rhe\n",
    "# dekhna ka de rha ya fir del krne ka ya fir set krna ka \n"
   ]
  }
 ],
 "metadata": {
  "kernelspec": {
   "display_name": "Python 3 (ipykernel)",
   "language": "python",
   "name": "python3"
  },
  "language_info": {
   "codemirror_mode": {
    "name": "ipython",
    "version": 3
   },
   "file_extension": ".py",
   "mimetype": "text/x-python",
   "name": "python",
   "nbconvert_exporter": "python",
   "pygments_lexer": "ipython3",
   "version": "3.10.8"
  }
 },
 "nbformat": 4,
 "nbformat_minor": 5
}
