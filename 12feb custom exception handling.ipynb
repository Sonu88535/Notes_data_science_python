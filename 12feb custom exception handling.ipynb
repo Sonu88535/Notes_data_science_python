{
 "cells": [
  {
   "cell_type": "code",
   "execution_count": 1,
   "id": "0e717394-e75a-46be-a5be-072a80e8dea7",
   "metadata": {},
   "outputs": [],
   "source": [
    "# Basically try except else finally block dekha last class mai \n",
    "# pyhton ke andar jo exception ke library hai uske andar majority of exception \n",
    "# byfault aa skte hai jaise file nhi mila uske exceptions hogye \n",
    "# attribute mai kuch dikkat hogya uske exceptions hogye \n",
    "# ye fir zerodivision by error agya uske exceptions hoygye\n",
    "# ya fir network ya fir io(input/output) exceptions hogye ye sare ke sare ke\n",
    "# exception ke liye handler diya hhua hai ek ek class banaya kr diya hai exception class mai \n",
    "# exception class ek super class hai \n",
    "# aesa class jo pyhton ke andar ke diya hua hi mhi hai\n",
    "# jiske library bani hi nhi hai \n",
    "# but fir bhi apko exception raise krna hai lets suppose vo ek custom senario hogya \n",
    "# agr waha pr exception raise krna hai toh usse kkaise krege "
   ]
  },
  {
   "cell_type": "code",
   "execution_count": 2,
   "id": "af061823-405f-41ca-bbcb-da60b6bf8e4d",
   "metadata": {},
   "outputs": [
    {
     "name": "stdin",
     "output_type": "stream",
     "text": [
      "enter your age -106\n"
     ]
    }
   ],
   "source": [
    "# let suppose code likh rha  age enter krne ke liye \n",
    "age=int(input(\"enter your age\"))"
   ]
  },
  {
   "cell_type": "code",
   "execution_count": 3,
   "id": "854660fb-8a2c-4798-aace-b010af091773",
   "metadata": {},
   "outputs": [],
   "source": [
    "# now ab age toh negative hota nhi aur par yaha error nhi de rha  \n",
    "# mujhe yaha exception case laga kr krna hai \n"
   ]
  },
  {
   "cell_type": "code",
   "execution_count": 30,
   "id": "d9477d52-2460-4faa-a074-e3f3637bbcb7",
   "metadata": {},
   "outputs": [],
   "source": [
    "class validateage(Exception): #class bana kr Exception class ke property ko inheritate krwa diya \n",
    "    def __init__(self,msg):\n",
    "        self.msg=msg\n",
    "        "
   ]
  },
  {
   "cell_type": "code",
   "execution_count": 31,
   "id": "8d1eaa1f-7707-44df-8093-632f8bb80d9a",
   "metadata": {},
   "outputs": [],
   "source": [
    "def validteage(age):\n",
    "    \n",
    "    if age < 0:\n",
    "        \n",
    "        raise validateage(\"entereed age is nagative\")\n",
    "    elif age > 200:\n",
    "        \n",
    "        raise validateage(\"entered age is very very high\")\n",
    "    else:\n",
    "        \n",
    "        print(\"age is valid\")"
   ]
  },
  {
   "cell_type": "code",
   "execution_count": 34,
   "id": "e68cd296-1931-4b8a-9804-0b411f1dd5d9",
   "metadata": {},
   "outputs": [
    {
     "name": "stdin",
     "output_type": "stream",
     "text": [
      "enter your age -555\n"
     ]
    },
    {
     "name": "stdout",
     "output_type": "stream",
     "text": [
      "entereed age is nagative\n"
     ]
    }
   ],
   "source": [
    "try:\n",
    "    age=int(input(\"enter your age\"))\n",
    "    validteage(age)\n",
    "except validateage as e:\n",
    "    print(e)"
   ]
  },
  {
   "cell_type": "code",
   "execution_count": null,
   "id": "f8635efb-5fdf-46fe-a7f5-a48d82821623",
   "metadata": {},
   "outputs": [],
   "source": []
  }
 ],
 "metadata": {
  "kernelspec": {
   "display_name": "Python 3 (ipykernel)",
   "language": "python",
   "name": "python3"
  },
  "language_info": {
   "codemirror_mode": {
    "name": "ipython",
    "version": 3
   },
   "file_extension": ".py",
   "mimetype": "text/x-python",
   "name": "python",
   "nbconvert_exporter": "python",
   "pygments_lexer": "ipython3",
   "version": "3.10.8"
  }
 },
 "nbformat": 4,
 "nbformat_minor": 5
}
