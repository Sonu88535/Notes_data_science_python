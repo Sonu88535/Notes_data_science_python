{
 "cells": [
  {
   "cell_type": "code",
   "execution_count": 2,
   "id": "a1e358f8-0fe7-4197-8339-c0e50539a5cc",
   "metadata": {},
   "outputs": [
    {
     "name": "stdout",
     "output_type": "stream",
     "text": [
      "1\n",
      "2\n",
      "3\n",
      "4\n",
      "5\n",
      "6\n",
      "7\n",
      "8\n",
      "9\n",
      "10\n"
     ]
    }
   ],
   "source": [
    "a=1\n",
    "while a<=10: #difference between for loop and while loop is that\n",
    "    # while loop check the condition first if condition is true\n",
    "    # then it proceed to next\n",
    "    # and in case of for loop for loop execute the condition then check the condition\n",
    "            # while loop phle check krega agr condition true hua tb uske body ke andar jaiga warna body ke andar nhi jayega \n",
    "        print(a)\n",
    "        a=a+1"
   ]
  },
  {
   "cell_type": "code",
   "execution_count": 3,
   "id": "248dc337-0813-4d02-9b65-68b49c2da817",
   "metadata": {},
   "outputs": [
    {
     "name": "stdin",
     "output_type": "stream",
     "text": [
      "Enter your limit 5\n"
     ]
    },
    {
     "data": {
      "text/plain": [
       "15"
      ]
     },
     "execution_count": 3,
     "metadata": {},
     "output_type": "execute_result"
    }
   ],
   "source": [
    "#sum up the number till some point\n",
    "n=int(input('Enter your limit'))\n",
    "starting_point=0 #starting point bana prega jaise 0 sai start ho rha \n",
    "counter=1 # ek refernce leliya jisse ham hamesa ek value inc krte jaige\n",
    "while counter<=n:\n",
    "    starting_point=starting_point+counter\n",
    "    counter=counter+1\n",
    "starting_point"
   ]
  },
  {
   "cell_type": "code",
   "execution_count": 4,
   "id": "79387237-8356-4288-9182-1d419cdab34a",
   "metadata": {},
   "outputs": [
    {
     "name": "stdin",
     "output_type": "stream",
     "text": [
      "Enter your number 5\n"
     ]
    },
    {
     "data": {
      "text/plain": [
       "120"
      ]
     },
     "execution_count": 4,
     "metadata": {},
     "output_type": "execute_result"
    }
   ],
   "source": [
    "#factorial of the given number\n",
    "number=int(input('Enter your number'))\n",
    "factorial=1\n",
    "while number>0:\n",
    "    factorial=factorial*number\n",
    "    number=number-1\n",
    "factorial"
   ]
  },
  {
   "cell_type": "code",
   "execution_count": 16,
   "id": "39fe3a62-c3a7-42b9-a5aa-1c0461211c02",
   "metadata": {},
   "outputs": [
    {
     "name": "stdin",
     "output_type": "stream",
     "text": [
      "Enter the  number you r looking for 10\n"
     ]
    },
    {
     "name": "stdout",
     "output_type": "stream",
     "text": [
      "0\n",
      "1\n",
      "1\n",
      "2\n",
      "3\n",
      "5\n",
      "8\n",
      "13\n",
      "21\n",
      "34\n"
     ]
    }
   ],
   "source": [
    "#fibbonaci series\n",
    "number=int(input(\"Enter the  number you r looking for\"))\n",
    "a,b=0,1\n",
    "counter=0\n",
    "while counter<number:\n",
    "           print(a)\n",
    "           c=a+b\n",
    "           a=b #swapping\n",
    "           b=c\n",
    "           counter=counter+1"
   ]
  },
  {
   "cell_type": "code",
   "execution_count": 21,
   "id": "cb540eaf-0aec-42ee-95fb-a2a43052d869",
   "metadata": {},
   "outputs": [
    {
     "name": "stdout",
     "output_type": "stream",
     "text": [
      "0\n",
      "1\n",
      "1\n",
      "2\n",
      "3\n",
      "5\n",
      "8\n",
      "13\n",
      "21\n",
      "34\n"
     ]
    }
   ],
   "source": [
    "#fibbonacci series using for loop \n",
    "a,b=0,1 \n",
    "for i in range(10):\n",
    "    print(a)\n",
    "    c=a+b\n",
    "    a=b #swapping\n",
    "    b=c\n",
    "#yha pr cointer ki jarurat nhi kyuki for loop apne app hi bad jaiga "
   ]
  },
  {
   "cell_type": "code",
   "execution_count": 23,
   "id": "d2c95e20-1027-4b24-b2fe-21adf60108ea",
   "metadata": {},
   "outputs": [],
   "source": [
    "s=\"sudh\"\n",
    "#ques is that ki isko reverse krdo"
   ]
  },
  {
   "cell_type": "code",
   "execution_count": 24,
   "id": "a8e60f9c-3476-430b-a986-2d5eee09d3a3",
   "metadata": {},
   "outputs": [
    {
     "data": {
      "text/plain": [
       "'hdus'"
      ]
     },
     "execution_count": 24,
     "metadata": {},
     "output_type": "execute_result"
    }
   ],
   "source": [
    "s[::-1]"
   ]
  },
  {
   "cell_type": "code",
   "execution_count": 37,
   "id": "f80ebda3-6085-411e-bb6d-25c11e1c6581",
   "metadata": {},
   "outputs": [
    {
     "name": "stdin",
     "output_type": "stream",
     "text": [
      "enter your string for reversal sudh\n"
     ]
    }
   ],
   "source": [
    "#but hmko reverse for loop sai krna hai\n",
    "word=input(\"enter your string for reversal\")#direct input loge toh vo direct string leta hai"
   ]
  },
  {
   "cell_type": "code",
   "execution_count": 38,
   "id": "0c1adb54-11a0-4ff9-a465-8e1b0b7fbc0e",
   "metadata": {},
   "outputs": [
    {
     "name": "stdout",
     "output_type": "stream",
     "text": [
      "hdus\n"
     ]
    }
   ],
   "source": [
    "reverse=\"\" #yaha reverse name s ek variable bana liya \n",
    "length=len(word) # yaha sai word ka length nikal lenge\n",
    "              # ab reverse direction m jana hai uske baad reverse wale variable mai dalna hai \n",
    "              # toh fir  usme sia ek ek word nikalege phir reverse variabke mmai  append krdenge \n",
    "while length>0: # ye loop gumane ke liye bs ek condition hai bs \n",
    "    reverse=reverse+word[length-1] # when while condition is true then\n",
    "            #                         reverse=\"\"+h [word[4-1]]\n",
    "        #                               =>reverse=\"h\"\n",
    "            #                           length=4-1=3\n",
    "            # then again go to the condition  and if the condition is true then\n",
    "            #  reverse=\"h\"+d =>\"hd\" \n",
    "            #     length=3-1 and this go on and on until the condition is not get false\n",
    "    length=length-1\n",
    "print(reverse)"
   ]
  },
  {
   "cell_type": "code",
   "execution_count": 41,
   "id": "c66d7293-f081-4cda-a6c8-80b843d0a6ee",
   "metadata": {},
   "outputs": [
    {
     "name": "stdin",
     "output_type": "stream",
     "text": [
      "Enter that number for which u want a table 2\n"
     ]
    },
    {
     "name": "stdout",
     "output_type": "stream",
     "text": [
      "2\n",
      "4\n",
      "6\n",
      "8\n",
      "10\n",
      "12\n",
      "14\n",
      "16\n",
      "18\n",
      "20\n"
     ]
    }
   ],
   "source": [
    "#Print table of the number\n",
    "number=int(input(\"Enter that number for which u want a table\"))\n",
    "s=1\n",
    "while s<=10:\n",
    "    a=number*s\n",
    "    s=s+1\n",
    "    print(a)"
   ]
  },
  {
   "cell_type": "code",
   "execution_count": 44,
   "id": "feade8b4-aae1-4e65-af25-79e527aff074",
   "metadata": {},
   "outputs": [
    {
     "name": "stdin",
     "output_type": "stream",
     "text": [
      "enter the number 2\n"
     ]
    },
    {
     "name": "stdout",
     "output_type": "stream",
     "text": [
      "3 * 1 = 3\n",
      "3 * 2 = 6\n",
      "3 * 3 = 9\n",
      "3 * 4 = 12\n",
      "3 * 5 = 15\n",
      "3 * 6 = 18\n",
      "3 * 7 = 21\n",
      "3 * 8 = 24\n",
      "3 * 9 = 27\n",
      "3 * 10 = 30\n"
     ]
    }
   ],
   "source": [
    "#print table for a number\n",
    "n-=int(input('enter the number'))\n",
    "i=1\n",
    "while i<=10:\n",
    "       result=n*i\n",
    "       print(n,'*',i,'=',result) #in place of '' we can also use \"\"\n",
    "       i=i+1"
   ]
  },
  {
   "cell_type": "code",
   "execution_count": 45,
   "id": "4bcd58be-0c23-47ac-bdff-b6a23b59ace2",
   "metadata": {},
   "outputs": [
    {
     "name": "stdout",
     "output_type": "stream",
     "text": [
      "1\n",
      "2\n",
      "3\n",
      "4\n",
      "this will be executed once your while will complete it successfully\n"
     ]
    }
   ],
   "source": [
    "#use of while with else \n",
    "n=5\n",
    "i=1\n",
    "while i<n:\n",
    "    print(i)\n",
    "    i=i+1\n",
    "else:\n",
    "    print('this will be executed once your while will complete it successfully')\n",
    "    "
   ]
  },
  {
   "cell_type": "code",
   "execution_count": 1,
   "id": "fc3ee63b-f7e4-43da-97c5-bb732f650e09",
   "metadata": {},
   "outputs": [
    {
     "name": "stdout",
     "output_type": "stream",
     "text": [
      "1\n",
      "2\n",
      "3\n"
     ]
    }
   ],
   "source": [
    "#use of while with else \n",
    "n=5\n",
    "i=1\n",
    "while i<n:\n",
    "    print(i)\n",
    "    if i==3:\n",
    "        break\n",
    "    i=i+1\n",
    "else:\n",
    "    print('this will be executed once your while will complete it successfully')\n",
    "    \n",
    "    #yaha pr else wala execute hi nhi hua "
   ]
  },
  {
   "cell_type": "code",
   "execution_count": null,
   "id": "cf9bff15-70f5-4144-bde4-bccd42db9372",
   "metadata": {},
   "outputs": [],
   "source": []
  }
 ],
 "metadata": {
  "kernelspec": {
   "display_name": "Python 3 (ipykernel)",
   "language": "python",
   "name": "python3"
  },
  "language_info": {
   "codemirror_mode": {
    "name": "ipython",
    "version": 3
   },
   "file_extension": ".py",
   "mimetype": "text/x-python",
   "name": "python",
   "nbconvert_exporter": "python",
   "pygments_lexer": "ipython3",
   "version": "3.10.8"
  }
 },
 "nbformat": 4,
 "nbformat_minor": 5
}
