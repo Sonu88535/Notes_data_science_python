{
 "cells": [
  {
   "cell_type": "code",
   "execution_count": 1,
   "id": "858a438d-7f87-4cae-806c-c8f12dca0662",
   "metadata": {},
   "outputs": [],
   "source": [
    "# # Decorators\n",
    "# jaise ghr mai party hoti hai toh ham ghr ko decorate krte hai simlar usse\n",
    "# tarah function ki kubsurati ko badhane ke lliye  docorators ka use krte hai"
   ]
  },
  {
   "cell_type": "code",
   "execution_count": 6,
   "id": "84e418f5-f00b-409f-a80d-873a72ee2e7a",
   "metadata": {},
   "outputs": [],
   "source": [
    "\n",
    "def test():\n",
    "    print(\"this is the start of my func\")   #decorate kr rhe acha dikhne ke liye \n",
    "    print(\"this is my fun to test\")\n",
    "    print(4+5)                        #bich mai kuch logic lkhne  \n",
    "    print(\"this is the end of func\")     "
   ]
  },
  {
   "cell_type": "code",
   "execution_count": 7,
   "id": "8b0457b6-edee-4158-889b-9c7cecfec7aa",
   "metadata": {},
   "outputs": [
    {
     "name": "stdout",
     "output_type": "stream",
     "text": [
      "this is the start of my func\n",
      "this is my fun to test\n",
      "9\n",
      "this is the end of func\n"
     ]
    }
   ],
   "source": [
    "test()"
   ]
  },
  {
   "cell_type": "code",
   "execution_count": 8,
   "id": "110c3298-c85c-4abe-9bfc-c8eef55601e5",
   "metadata": {},
   "outputs": [],
   "source": [
    "# but upr wale method sai mujhe bar bar start end likhna padh rha toh ham ek bar mai decorator ka use krke \n",
    "# kar sskte hai "
   ]
  },
  {
   "cell_type": "code",
   "execution_count": 11,
   "id": "fef9bd6d-3c2e-4662-b31b-f3dd91d7ab77",
   "metadata": {},
   "outputs": [],
   "source": [
    "def deco(func): #hamne func banaya deco naem sai aur inout le rha kisi function ko \n",
    "    def inner_dec(): #ab iske fir sai ek func bana diya inner_dec\n",
    "        print(\"this is the start of my func\") #yaha jo decorate krna hai likh do\n",
    "        func()  #yahha bich mai call krdiya function as a arguement pass kr rhe \n",
    "        print(\"this is the end of func\") \n",
    "    return inner_dec #ab pure func ko return krdiya yaha \n",
    "                     #yaha return hm andar wale func ka krte hai"
   ]
  },
  {
   "cell_type": "code",
   "execution_count": 12,
   "id": "541ed044-ed77-47d7-acb6-27136def3784",
   "metadata": {},
   "outputs": [],
   "source": [
    "# ye upar ek decorator ban gaya  jisme  ek func banaya (deco) jo func le rha as a arguement uske andar\n",
    "# bhi ek inner_dec krke fuuction hai joki phle start print krega then jo func hai usse krwayega then \n",
    "# end print krega "
   ]
  },
  {
   "cell_type": "code",
   "execution_count": 13,
   "id": "9abdc45c-d1ea-4dfb-a665-c78b2f82dad9",
   "metadata": {},
   "outputs": [],
   "source": [
    "def test1():\n",
    "    print(6+7)"
   ]
  },
  {
   "cell_type": "code",
   "execution_count": 16,
   "id": "87a60b9e-3feb-423f-89d1-4707bbc94975",
   "metadata": {},
   "outputs": [
    {
     "name": "stdout",
     "output_type": "stream",
     "text": [
      "13\n"
     ]
    }
   ],
   "source": [
    "test1() #ye sirf value de rha but mujhe start end print (decorate) krke cahiye tha "
   ]
  },
  {
   "cell_type": "code",
   "execution_count": 19,
   "id": "9205701a-77a4-4867-a365-a7f60a235085",
   "metadata": {},
   "outputs": [],
   "source": [
    "@deco #isko @ karke likhne sai kisi func ke upr python compiler samjh jaiga  ki phle ye wala func pass krdo\n",
    "    # deco wale func mai jo phle sai bana kr rakha hai aur waha ka jo output ayega sirf usse dikhao\n",
    "def test1():\n",
    "    print(6+7)\n"
   ]
  },
  {
   "cell_type": "code",
   "execution_count": 20,
   "id": "d5805c80-bd2b-4411-b04e-4a030d4a91c0",
   "metadata": {},
   "outputs": [
    {
     "name": "stdout",
     "output_type": "stream",
     "text": [
      "this is the start of my func\n",
      "13\n",
      "this is the end of func\n"
     ]
    }
   ],
   "source": [
    "test1() #test1() ko jaise call kiye vo sidhe deco fnc ko call karega  or test1() chla jaiga \n",
    "        # jo deco ke and bracket mai func likha hai uske jagah"
   ]
  },
  {
   "cell_type": "code",
   "execution_count": 11,
   "id": "397cb1f4-f3ee-44e2-9657-e14556141108",
   "metadata": {},
   "outputs": [],
   "source": [
    " #now ab jo function likha hai usse execute hone mai kitna time laga hai \n",
    "    # like mai 100 function likha hai usse execute hone mai kitna time laga hai decorators ke throw\n",
    "    # use import time\n",
    "import time\n",
    "def timer_test(func):\n",
    "    def timer_text_inner():\n",
    "        start=time.time()\n",
    "        func()\n",
    "        end=time.time()\n",
    "        print(end-start)\n",
    "    return timer_text_inner #yaha return andar wale func ka krte hai"
   ]
  },
  {
   "cell_type": "code",
   "execution_count": 7,
   "id": "b31b3386-97fc-4449-97be-3914fc033780",
   "metadata": {},
   "outputs": [],
   "source": [
    "\n",
    "def test2():\n",
    "    print(4+4)"
   ]
  },
  {
   "cell_type": "code",
   "execution_count": 8,
   "id": "5b5db5d5-d200-413c-9376-5374f923ac90",
   "metadata": {},
   "outputs": [
    {
     "name": "stdout",
     "output_type": "stream",
     "text": [
      "8\n"
     ]
    }
   ],
   "source": [
    "test2()"
   ]
  },
  {
   "cell_type": "code",
   "execution_count": 12,
   "id": "1c11cc83-230e-4f61-9b28-bb4247afe213",
   "metadata": {},
   "outputs": [],
   "source": [
    "@timer_test\n",
    "def test2():\n",
    "    print(4+4)"
   ]
  },
  {
   "cell_type": "code",
   "execution_count": 13,
   "id": "29988dc3-e3e7-4267-a9f3-992ab20fea38",
   "metadata": {},
   "outputs": [
    {
     "name": "stdout",
     "output_type": "stream",
     "text": [
      "8\n",
      "5.245208740234375e-05\n"
     ]
    }
   ],
   "source": [
    "test2()"
   ]
  },
  {
   "cell_type": "code",
   "execution_count": 14,
   "id": "4f19c695-9d6c-4afe-a3d0-d92d97ab45f6",
   "metadata": {},
   "outputs": [],
   "source": [
    "@timer_test\n",
    "def rest():\n",
    "    for i in range(20000):\n",
    "        pass"
   ]
  },
  {
   "cell_type": "code",
   "execution_count": 15,
   "id": "61f36bdd-29be-452a-87c8-58e0f2d096de",
   "metadata": {},
   "outputs": [
    {
     "name": "stdout",
     "output_type": "stream",
     "text": [
      "0.0004923343658447266\n"
     ]
    }
   ],
   "source": [
    "rest() #ye time bta rha kitna laga function ko execute hone mai"
   ]
  },
  {
   "cell_type": "code",
   "execution_count": null,
   "id": "0f26f316-1301-4df8-8c33-23ad20733b37",
   "metadata": {},
   "outputs": [],
   "source": []
  }
 ],
 "metadata": {
  "kernelspec": {
   "display_name": "Python 3 (ipykernel)",
   "language": "python",
   "name": "python3"
  },
  "language_info": {
   "codemirror_mode": {
    "name": "ipython",
    "version": 3
   },
   "file_extension": ".py",
   "mimetype": "text/x-python",
   "name": "python",
   "nbconvert_exporter": "python",
   "pygments_lexer": "ipython3",
   "version": "3.10.8"
  }
 },
 "nbformat": 4,
 "nbformat_minor": 5
}
