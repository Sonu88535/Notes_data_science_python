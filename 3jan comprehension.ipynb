{
 "cells": [
  {
   "cell_type": "code",
   "execution_count": 17,
   "id": "7d61e92f-14e7-4bd5-ba0f-95bb529184cf",
   "metadata": {},
   "outputs": [],
   "source": [
    "# loop ka short form hai comprehension"
   ]
  },
  {
   "cell_type": "code",
   "execution_count": 17,
   "id": "1982de35-3dba-491c-ba7f-aae80620cd7a",
   "metadata": {},
   "outputs": [],
   "source": [
    "# list comprehension"
   ]
  },
  {
   "cell_type": "code",
   "execution_count": 6,
   "id": "4daba672-49cb-4fbf-ba4d-90db67cbcd94",
   "metadata": {},
   "outputs": [],
   "source": [
    "l=[1,2,3,4,45,5] #is list ke andar jitne bhi int avalibale hai unke square karke ek new list banana hai \n",
    "\n",
    "#using for loop\n",
    "l1=[]\n",
    "for i in l:\n",
    "        l1.append(i**2)"
   ]
  },
  {
   "cell_type": "code",
   "execution_count": 8,
   "id": "22e94607-043f-40d2-bdf9-97717dfe215f",
   "metadata": {},
   "outputs": [
    {
     "data": {
      "text/plain": [
       "[1, 4, 9, 16, 2025, 25]"
      ]
     },
     "execution_count": 8,
     "metadata": {},
     "output_type": "execute_result"
    }
   ],
   "source": [
    "l1"
   ]
  },
  {
   "cell_type": "code",
   "execution_count": 7,
   "id": "62995bcf-efba-479f-a5b6-77d2a21a8de7",
   "metadata": {},
   "outputs": [
    {
     "data": {
      "text/plain": [
       "[1, 4, 9, 16, 2025, 25]"
      ]
     },
     "execution_count": 7,
     "metadata": {},
     "output_type": "execute_result"
    }
   ],
   "source": [
    "# now ab upar wale code ko ek line mai likha hai\n",
    "[i**2 for i in l]  #comprehension   [what u want  then for condition then if condition agr hai tb]"
   ]
  },
  {
   "cell_type": "code",
   "execution_count": 9,
   "id": "eb9aed55-b28c-49c7-8bfa-e8532ecf673c",
   "metadata": {},
   "outputs": [
    {
     "data": {
      "text/plain": [
       "[1, 2, 3, 4, 45, 5]"
      ]
     },
     "execution_count": 9,
     "metadata": {},
     "output_type": "execute_result"
    }
   ],
   "source": [
    "l"
   ]
  },
  {
   "cell_type": "code",
   "execution_count": 10,
   "id": "b500f535-892e-4993-b7f9-08a751bb4819",
   "metadata": {},
   "outputs": [
    {
     "data": {
      "text/plain": [
       "[2, 4]"
      ]
     },
     "execution_count": 10,
     "metadata": {},
     "output_type": "execute_result"
    }
   ],
   "source": [
    "[i for i in l if i%2==0] #list l mai jo even number pr hai usko list mai print kro"
   ]
  },
  {
   "cell_type": "code",
   "execution_count": 11,
   "id": "20d44f23-c8f8-4d4e-a93e-08ee40af4102",
   "metadata": {},
   "outputs": [
    {
     "data": {
      "text/plain": [
       "['SUDH ', 'PWSKILLS', 'KUMAR', 'DATA SCIENCE MASTERS']"
      ]
     },
     "execution_count": 11,
     "metadata": {},
     "output_type": "execute_result"
    }
   ],
   "source": [
    "l1=['sudh ', 'pwskills','kumar','data science masters'] #jo bhi string iske andar hai usko upper case mai convert kro\n",
    "\n",
    "[i.upper() for i in l1 ]"
   ]
  },
  {
   "cell_type": "code",
   "execution_count": 18,
   "id": "5c435e1a-d126-4741-ba2b-16d003a3eee2",
   "metadata": {},
   "outputs": [
    {
     "data": {
      "text/plain": [
       "[1, 2, 3, 4, 45, 5]"
      ]
     },
     "execution_count": 18,
     "metadata": {},
     "output_type": "execute_result"
    }
   ],
   "source": [
    "#list l available hai  usme  sbhi element ko square krke tuple mai return krna hai  \n",
    "# list and tuple ka comprehension same tarike sai hota hai\n",
    "l"
   ]
  },
  {
   "cell_type": "code",
   "execution_count": 20,
   "id": "3b94527a-bd28-47df-85eb-d5013c14da71",
   "metadata": {},
   "outputs": [
    {
     "data": {
      "text/plain": [
       "[1, 4, 9, 16, 2025, 25]"
      ]
     },
     "execution_count": 20,
     "metadata": {},
     "output_type": "execute_result"
    }
   ],
   "source": [
    "list(i**2 for i in l) #agr agge list nhi lagaya toh generator object generate kr dega \n",
    "                      # tuple generator object generate krdega "
   ]
  },
  {
   "cell_type": "code",
   "execution_count": 24,
   "id": "391d895e-b34b-4888-b663-e6a2e586b911",
   "metadata": {},
   "outputs": [],
   "source": [
    "#dictionary comprehension\n",
    "d={'key1':1,'key2':2,'key3':3,'key4':4}  # iske andar sai jitne bhi values hai unko square krke return krdo\n",
    "    "
   ]
  },
  {
   "cell_type": "code",
   "execution_count": 26,
   "id": "c6140616-ec6e-4cc1-972c-bc0e33297cec",
   "metadata": {},
   "outputs": [
    {
     "data": {
      "text/plain": [
       "{'key1': 1, 'key2': 4, 'key3': 9, 'key4': 16}"
      ]
     },
     "execution_count": 26,
     "metadata": {},
     "output_type": "execute_result"
    }
   ],
   "source": [
    "{k:v**2 for k,v in d.items()}"
   ]
  },
  {
   "cell_type": "code",
   "execution_count": 25,
   "id": "f28138f1-1650-4bb0-bcba-5d0ea57db922",
   "metadata": {},
   "outputs": [
    {
     "data": {
      "text/plain": [
       "dict_items([('key1', 1), ('key2', 2), ('key3', 3), ('key4', 4)])"
      ]
     },
     "execution_count": 25,
     "metadata": {},
     "output_type": "execute_result"
    }
   ],
   "source": [
    "d.items() #d.items() key values pair deta hai tuples mai"
   ]
  },
  {
   "cell_type": "code",
   "execution_count": 27,
   "id": "ea2c66e7-d338-4c9b-8986-4f6cce01e4f0",
   "metadata": {},
   "outputs": [
    {
     "data": {
      "text/plain": [
       "{'key1': 1, 'key2': 2, 'key3': 3, 'key4': 4}"
      ]
     },
     "execution_count": 27,
     "metadata": {},
     "output_type": "execute_result"
    }
   ],
   "source": [
    "d"
   ]
  },
  {
   "cell_type": "code",
   "execution_count": 28,
   "id": "7b950213-70f3-447f-9760-637bca8c5495",
   "metadata": {},
   "outputs": [
    {
     "data": {
      "text/plain": [
       "{'key2': 2, 'key3': 3, 'key4': 4}"
      ]
     },
     "execution_count": 28,
     "metadata": {},
     "output_type": "execute_result"
    }
   ],
   "source": [
    "#same dic  d available hai and mujhe vahi key value cahiye (key value filter) jiske value >1 ho \n",
    "{k:v for k ,v in d.items() if v >1}"
   ]
  },
  {
   "cell_type": "code",
   "execution_count": null,
   "id": "4f63d8c4-ba1f-442e-9319-36befd0f5063",
   "metadata": {},
   "outputs": [],
   "source": []
  }
 ],
 "metadata": {
  "kernelspec": {
   "display_name": "Python 3 (ipykernel)",
   "language": "python",
   "name": "python3"
  },
  "language_info": {
   "codemirror_mode": {
    "name": "ipython",
    "version": 3
   },
   "file_extension": ".py",
   "mimetype": "text/x-python",
   "name": "python",
   "nbconvert_exporter": "python",
   "pygments_lexer": "ipython3",
   "version": "3.10.8"
  }
 },
 "nbformat": 4,
 "nbformat_minor": 5
}
