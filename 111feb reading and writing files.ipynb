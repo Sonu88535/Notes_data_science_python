{
 "cells": [
  {
   "cell_type": "code",
   "execution_count": 2,
   "id": "95e8d537-d87f-4057-aa0f-a165d0bdc23a",
   "metadata": {},
   "outputs": [],
   "source": [
    "# dic ek data set hai jisme data available hota hai key and value pair ke form mai\n",
    "data={\n",
    "    \"name\":\"sudh\",\n",
    "    \"mail_id\":\"sudh@gmail.com\",\n",
    "    \"phone_number\":9198294464,\n",
    "    \"subject\":[\"data science \",\"big data\",\"data analytics\"]\n",
    "}\n",
    "\n",
    "# is data set ko json data set bhi bolte hai\n",
    "# java script obj notation"
   ]
  },
  {
   "cell_type": "code",
   "execution_count": 3,
   "id": "623bd13e-0c83-42c5-bbd5-a3178c0475d3",
   "metadata": {},
   "outputs": [],
   "source": [
    "#now upr jaise data hia is type kke data ko agr file ke andr likhna hai toh kaise likhege\n",
    "# toh ek json name ka package milega uspe is type data ke data ko file mai likhne ki cpabilitiy hai\n",
    "# toh ab is type ke file ko  likh skte hia read kr skte hai\n",
    "import json"
   ]
  },
  {
   "cell_type": "code",
   "execution_count": 4,
   "id": "052594e7-eb21-442c-bec2-03a22c65d567",
   "metadata": {},
   "outputs": [],
   "source": [
    "with open(\"data.json\",\"w\") as f:\n",
    "    # json.dump(jo write krna hai, help of this particular file object)\n",
    "    json.dump(data,f)   #dump use for write "
   ]
  },
  {
   "cell_type": "code",
   "execution_count": 23,
   "id": "a316f25c-4ebd-4fa2-9766-e809362351f6",
   "metadata": {},
   "outputs": [],
   "source": [
    "# hamne write toh krdiya suppose hahme read krna hai\n",
    "with open('data.json','r') as f:\n",
    "    data1=json.load(f)   #load use for read\n",
    "    # or\n",
    "    # data2=f.read()"
   ]
  },
  {
   "cell_type": "code",
   "execution_count": 8,
   "id": "447d50da-e330-4b7a-8475-cc252c7956d4",
   "metadata": {},
   "outputs": [
    {
     "data": {
      "text/plain": [
       "{'name': 'sudh',\n",
       " 'mail_id': 'sudh@gmail.com',\n",
       " 'phone_number': 9198294464,\n",
       " 'subject': ['data science ', 'big data', 'data analytics']}"
      ]
     },
     "execution_count": 8,
     "metadata": {},
     "output_type": "execute_result"
    }
   ],
   "source": [
    "data1"
   ]
  },
  {
   "cell_type": "code",
   "execution_count": 24,
   "id": "b782a3c5-128a-44d5-9a22-0021c4628881",
   "metadata": {},
   "outputs": [
    {
     "data": {
      "text/plain": [
       "'{\"name\": \"sudh\", \"mail_id\": \"sudh@gmail.com\", \"phone_number\": 9198294464, \"subject\": [\"data science \", \"big data\", \"data analytics\"]}'"
      ]
     },
     "execution_count": 24,
     "metadata": {},
     "output_type": "execute_result"
    }
   ],
   "source": [
    "data2"
   ]
  },
  {
   "cell_type": "code",
   "execution_count": 19,
   "id": "eed6eaf9-d2b2-4bb5-be23-8bf09630f64f",
   "metadata": {},
   "outputs": [
    {
     "data": {
      "text/plain": [
       "['data science ', 'big data', 'data analytics']"
      ]
     },
     "execution_count": 19,
     "metadata": {},
     "output_type": "execute_result"
    }
   ],
   "source": [
    "data1['subject']"
   ]
  },
  {
   "cell_type": "code",
   "execution_count": 26,
   "id": "98dfc3b3-b8ef-480a-a6db-176999173a6a",
   "metadata": {},
   "outputs": [
    {
     "ename": "TypeError",
     "evalue": "string indices must be integers",
     "output_type": "error",
     "traceback": [
      "\u001b[0;31m---------------------------------------------------------------------------\u001b[0m",
      "\u001b[0;31mTypeError\u001b[0m                                 Traceback (most recent call last)",
      "Cell \u001b[0;32mIn[26], line 1\u001b[0m\n\u001b[0;32m----> 1\u001b[0m \u001b[43mdata2\u001b[49m\u001b[43m[\u001b[49m\u001b[38;5;124;43m'\u001b[39;49m\u001b[38;5;124;43msubject\u001b[39;49m\u001b[38;5;124;43m'\u001b[39;49m\u001b[43m]\u001b[49m\n",
      "\u001b[0;31mTypeError\u001b[0m: string indices must be integers"
     ]
    }
   ],
   "source": [
    "data2['subject'] #f.read() use krne ke bad ye usse nhi jab json.load(f) use kr paa rha"
   ]
  },
  {
   "cell_type": "code",
   "execution_count": 27,
   "id": "7019c429-679e-4e14-a06f-1563507b96f7",
   "metadata": {},
   "outputs": [
    {
     "data": {
      "text/plain": [
       "'big data'"
      ]
     },
     "execution_count": 27,
     "metadata": {},
     "output_type": "execute_result"
    }
   ],
   "source": [
    "data1['subject'][1]"
   ]
  },
  {
   "cell_type": "code",
   "execution_count": 28,
   "id": "20cb0eaa-e901-45aa-b29a-4063e767b423",
   "metadata": {},
   "outputs": [],
   "source": [
    "# ek aur tarike ka dataa ata hai jisse ham bolte hai comma separated values\n",
    "# supose  ke ek file mai is tarike ka data available hai toh\n",
    "# 1,2,3,4,5\n",
    "# 2,3,4,5,4   \n",
    "# ham read write kaise krege  \n",
    "# aur hm taarike ke file ko csv file bolege \n",
    "# csv kuch aur nhi bs data comma sai separated rhege"
   ]
  },
  {
   "cell_type": "code",
   "execution_count": 33,
   "id": "42f6d027-e3a7-45a5-8e63-1b1bc2440929",
   "metadata": {},
   "outputs": [],
   "source": [
    "import csv  #issh tarike ke csv import krwana prega"
   ]
  },
  {
   "cell_type": "code",
   "execution_count": 36,
   "id": "1a4eefe6-becf-442d-bdc6-3cea385a5764",
   "metadata": {},
   "outputs": [],
   "source": [
    "# iska data banane ke liye list ke andar list lena prega\n",
    "# toh list ek andr list lene mai column ka naming krne mai help krega \n",
    "# ye ek tabluar formate data dega \n",
    "data =[['name','email_id','phone_number'],\n",
    "       ['sudh','fdsf@gmail.com',544444554],\n",
    "       ['ashwani','sndsds@gmail.com',45464465]\n",
    "]\n",
    "\n",
    "# isko csv file ke andar likhna hia\n"
   ]
  },
  {
   "cell_type": "code",
   "execution_count": 38,
   "id": "f56dd9c3-62a5-49a6-852a-5dd5bbba8e06",
   "metadata": {},
   "outputs": [],
   "source": [
    "with open(\"data.csv\",\"w\") as g:\n",
    "    writer=csv.writer(g)      #file ko write kr rhe \n",
    "    #csv.writer(write kya krana hai basically file ko)\n",
    "    \n",
    "    # writer obj bhi bana liya \n",
    "    \n",
    "# data =[['name','email_id','phone_number'],\n",
    "#        ['sudh','fdsf@gmail.com',544444554],\n",
    "#        ['ashwani','sndsds@gmail.com',45464465]]\n",
    "#  ab ye wala dara ko read krna hai one by one\n",
    "# ab ye data kaha available list ke andar list mai\n",
    "# ab list kko agr read krna hai toh \n",
    "    for i  in data:\n",
    "        writer.writerow(i)"
   ]
  },
  {
   "cell_type": "code",
   "execution_count": null,
   "id": "60abcc19-2c21-43b3-9e15-21ae381a4eb1",
   "metadata": {
    "tags": []
   },
   "outputs": [],
   "source": [
    "#### ab data.csv data ko agr read krna hai toh\n",
    "with open(\"data.csv\",\"r\") as g:\n",
    "    read_data=csv.reader(g) #ye read krliya ab isko iterate krke row by row print krlenge\n",
    "    for i in read_data:\n",
    "        print(i)"
   ]
  },
  {
   "cell_type": "code",
   "execution_count": 46,
   "id": "a660d2f9-4e63-4964-8ed8-6146f4b8e92b",
   "metadata": {},
   "outputs": [],
   "source": [
    "# csv json ye sb ek tarike ke library ahi\n",
    "# let supose hame binary data read krna hai binary data write krnna hai\n",
    "# binsry data jaise app image ko open krte ho in text format mai\n",
    "# extension of binary is bin\n",
    "with open(\"test4.bin\",\"wb\") as h:\n",
    "    h.write(b\"\\x01\\x02\\x03\")  #b binary ke lagate hai\n",
    "                              #wb means write binary\n",
    "                              # ye code red dot k liye hai\n",
    "                     #file mai data readable form m nhi hai\n",
    "                             "
   ]
  },
  {
   "cell_type": "code",
   "execution_count": 48,
   "id": "9117c5cb-6315-4420-bb89-3ffb30c70c90",
   "metadata": {},
   "outputs": [
    {
     "name": "stdout",
     "output_type": "stream",
     "text": [
      "b'\\x01\\x02\\x03'\n"
     ]
    }
   ],
   "source": [
    "with open(\"test4.bin\",\"rb\") as h:\n",
    "    print(h.read())"
   ]
  },
  {
   "cell_type": "code",
   "execution_count": null,
   "id": "913e20c8-b086-4917-8df5-5881c2853fa5",
   "metadata": {},
   "outputs": [],
   "source": []
  }
 ],
 "metadata": {
  "kernelspec": {
   "display_name": "Python 3 (ipykernel)",
   "language": "python",
   "name": "python3"
  },
  "language_info": {
   "codemirror_mode": {
    "name": "ipython",
    "version": 3
   },
   "file_extension": ".py",
   "mimetype": "text/x-python",
   "name": "python",
   "nbconvert_exporter": "python",
   "pygments_lexer": "ipython3",
   "version": "3.10.8"
  }
 },
 "nbformat": 4,
 "nbformat_minor": 5
}
