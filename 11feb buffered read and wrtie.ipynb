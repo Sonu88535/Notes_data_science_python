{
 "cells": [
  {
   "cell_type": "code",
   "execution_count": 3,
   "id": "d0f9f40f-cbd5-4009-a2b1-6d90ae35e0f4",
   "metadata": {},
   "outputs": [],
   "source": [
    "# jab bhi buffered ka use kreke read and write toh jo bhi bada file hota hai use chunk mai wrtie krta hia"
   ]
  },
  {
   "cell_type": "code",
   "execution_count": 4,
   "id": "9f2c3bb9-307d-426d-93d8-70055bb1d3d5",
   "metadata": {},
   "outputs": [],
   "source": [
    "import io"
   ]
  },
  {
   "cell_type": "code",
   "execution_count": 11,
   "id": "8e2d2ee0-a9d2-415b-a34c-aa275d999301",
   "metadata": {},
   "outputs": [],
   "source": [
    "with open(\"test1.txt\",\"wb\") as f:\n",
    "    file=io.BufferedWriter(f) #file ka object banaya \n",
    "    \n",
    "    file.write(b\"this is  my first line\\n\") #yaha ab file ke andar likh rhe hai\n",
    "    file.write(b\"this is my second line\\n\") #\\n is for new line\n",
    "    file.write(b\"Data Science Masters course is highly curated and uniquely designed according to the latest industry standards. This program instills students the skills essential to knowledge discovery efforts to identify standard, novel, and truly differentiated solutions and decision-making, including skills in managing, querying, analyzing, visualizing, and extracting meaning from extremely large data sets. This trending program provides students with the statistical, mathematical and computational skills needed to meet the large-scale data science challenges of today's professional world. You will learn all the stack required to work in data science industry including cloud infrastructure and real-time industry projects. This course will be taught in Hindi language\\n\")\n",
    "    file.flush()  #ye flush file ko close krne mai help krega "
   ]
  },
  {
   "cell_type": "code",
   "execution_count": 13,
   "id": "285d5dc7-9959-4820-b7f9-fad57327fd22",
   "metadata": {},
   "outputs": [],
   "source": [
    "with open(\"test1.txt\",\"rb\") as f:\n",
    "    file=io.BufferedReader(f) #file obj\n",
    "    file.read() #for reading the file \n",
    "               #asse likhne pe data show nhi kr rha ya toh isse print m rakh do ya toh iska varibable abana kr print krlo\n",
    "    file.flush()\n",
    "    "
   ]
  },
  {
   "cell_type": "code",
   "execution_count": 14,
   "id": "b42a09c5-095a-4af7-9895-05543d22b9d7",
   "metadata": {},
   "outputs": [
    {
     "name": "stdout",
     "output_type": "stream",
     "text": [
      "b\"this is  my first line\\nthis is my second line\\nData Science Masters course is highly curated and uniquely designed according to the latest industry standards. This program instills students the skills essential to knowledge discovery efforts to identify standard, novel, and truly differentiated solutions and decision-making, including skills in managing, querying, analyzing, visualizing, and extracting meaning from extremely large data sets. This trending program provides students with the statistical, mathematical and computational skills needed to meet the large-scale data science challenges of today's professional world. You will learn all the stack required to work in data science industry including cloud infrastructure and real-time industry projects. This course will be taught in Hindi language\\n\"\n"
     ]
    }
   ],
   "source": [
    "with open(\"test1.txt\",\"rb\") as f:\n",
    "    file=io.BufferedReader(f) #file obj\n",
    "    data=file.read() #for reading the file \n",
    "               #asse likhne pe data show nhi kr rha ya toh isse print m rakh do ya toh iska varibable abana kr print krlo\n",
    "        # yaha pr size bhi daal skte hai ki kitna byte read krna hai\n",
    "    print(data)\n",
    "    file.flush()\n",
    "    "
   ]
  },
  {
   "cell_type": "code",
   "execution_count": 16,
   "id": "5abd9703-51ec-44ec-8382-47a62841e0f8",
   "metadata": {},
   "outputs": [
    {
     "name": "stdout",
     "output_type": "stream",
     "text": [
      "b'this is  m'\n"
     ]
    }
   ],
   "source": [
    "with open(\"test1.txt\",\"rb\") as f:\n",
    "    file=io.BufferedReader(f) #file obj\n",
    "    print(file.read(10)) #for reading the file \n",
    "               #asse likhne pe data show nhi kr rha ya toh isse print m rakh do ya toh iska varibable abana kr print krlo\n",
    "    file.flush()\n",
    "    "
   ]
  },
  {
   "cell_type": "code",
   "execution_count": null,
   "id": "e94172d8-c157-4b1a-ab43-56e45e56ee8a",
   "metadata": {},
   "outputs": [],
   "source": []
  }
 ],
 "metadata": {
  "kernelspec": {
   "display_name": "Python 3 (ipykernel)",
   "language": "python",
   "name": "python3"
  },
  "language_info": {
   "codemirror_mode": {
    "name": "ipython",
    "version": 3
   },
   "file_extension": ".py",
   "mimetype": "text/x-python",
   "name": "python",
   "nbconvert_exporter": "python",
   "pygments_lexer": "ipython3",
   "version": "3.10.8"
  }
 },
 "nbformat": 4,
 "nbformat_minor": 5
}
