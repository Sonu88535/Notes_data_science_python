{
 "cells": [
  {
   "cell_type": "code",
   "execution_count": 1,
   "id": "af1d37aa-bf15-4742-a9db-459620b49ea2",
   "metadata": {},
   "outputs": [],
   "source": [
    "# class method padhege aur kaise diff hai instance method sai \n"
   ]
  },
  {
   "cell_type": "code",
   "execution_count": 9,
   "id": "06b84728-3c70-4953-ab08-f4ed624d5849",
   "metadata": {},
   "outputs": [],
   "source": [
    "class pwskills:\n",
    "    def __init__(self,name,email):         #init method data pass krne mai help\n",
    "        self.name=name                   # krega\n",
    "        self.email=email\n",
    "    def students_details(self):           #class method\n",
    "        print(self.name,self.email)"
   ]
  },
  {
   "cell_type": "code",
   "execution_count": 10,
   "id": "0809df4f-9bec-4881-8e57-3b9e28211db5",
   "metadata": {},
   "outputs": [],
   "source": [
    "pw=pwskills(\"mohan\",\"mohan@gmail.com\")"
   ]
  },
  {
   "cell_type": "code",
   "execution_count": 11,
   "id": "815dcc72-498d-406d-b0d7-6699b715ec6a",
   "metadata": {},
   "outputs": [
    {
     "data": {
      "text/plain": [
       "'mohan@gmail.com'"
      ]
     },
     "execution_count": 11,
     "metadata": {},
     "output_type": "execute_result"
    }
   ],
   "source": [
    "pw.email"
   ]
  },
  {
   "cell_type": "code",
   "execution_count": 12,
   "id": "0d11adee-0872-4a21-af9f-cc30c68892f5",
   "metadata": {},
   "outputs": [
    {
     "data": {
      "text/plain": [
       "'mohan@gmail.com'"
      ]
     },
     "execution_count": 12,
     "metadata": {},
     "output_type": "execute_result"
    }
   ],
   "source": [
    "pw.email"
   ]
  },
  {
   "cell_type": "code",
   "execution_count": 15,
   "id": "e0458f9a-c724-4a08-8ce1-e455118fe1c9",
   "metadata": {},
   "outputs": [
    {
     "name": "stdout",
     "output_type": "stream",
     "text": [
      "mohan mohan@gmail.com\n"
     ]
    }
   ],
   "source": [
    "pw.students_details() #ye funf def kiya tha isliye bracket lagaya "
   ]
  },
  {
   "cell_type": "code",
   "execution_count": 1,
   "id": "6190e811-0c25-43dc-98e1-abc3a03d72aa",
   "metadata": {},
   "outputs": [],
   "source": [
    "class pwskills1:\n",
    "    def __init__(self,name,email):         \n",
    "        self.name=name                   \n",
    "        self.email=email\n",
    "        \n",
    "    @classmethod # ye ek decorator laga denge jo ki python ke andar by default hota hai\n",
    "                     \n",
    "    def details(cls,name,email):\n",
    "            return cls(name,email)\n",
    "            #yaha first arguement self pass nhi karege cls pass krege\n",
    "        # cls ek alg sai reference or ek alg s pointer bana liya jo directly class sai bind \n",
    "        # krega  init ke throw bhi kr skte hai ye chiz but hame fir phle obj banana prega tbhi ham\n",
    "        # kar skte hai\n",
    "        \n",
    "    def students_details(self):          \n",
    "        print(self.name,self.email)"
   ]
  },
  {
   "cell_type": "code",
   "execution_count": null,
   "id": "985d8216-4cd7-4e8d-bc83-345bd8338b2d",
   "metadata": {},
   "outputs": [],
   "source": [
    "# #class ka object jab banate toh sirf class ko likhne teh then uska arguement \n",
    "# and class method mai oobj nhi bnaya direct class ke throw mai maine passs krwa di"
   ]
  },
  {
   "cell_type": "code",
   "execution_count": 4,
   "id": "f814cf43-e615-491c-b199-f2e6a74f1266",
   "metadata": {},
   "outputs": [
    {
     "data": {
      "text/plain": [
       "<__main__.pwskills1 at 0x7fedbdd7cca0>"
      ]
     },
     "execution_count": 4,
     "metadata": {},
     "output_type": "execute_result"
    }
   ],
   "source": [
    "# #ish bar pichle bar ke jaise object nhi banana prega \n",
    "# bina obj banaye bhi data pass kr skte hai\n",
    "# kyuki ye class method hai toh isse directly class ke name sai bhi aesa kr skte hai\n",
    "pwskills1.details(\"sonu\",\"sonu0k22@gmail.com\") \n",
    "#ye basically classmethod ko ye walaa data pass krdega \n",
    "# and return kr rhe class ko name and emailid and mere class ke pass name and email available ho jaige "
   ]
  },
  {
   "cell_type": "code",
   "execution_count": 11,
   "id": "4184f6e8-62e8-4902-af5d-2f0aed971539",
   "metadata": {},
   "outputs": [],
   "source": [
    "pw1=pwskills1.details(\"sonu\",\"sonu0k22@gmail.com\") \n",
    "#ye obj create nhi kiya isko bs pw1 mai store krdiya "
   ]
  },
  {
   "cell_type": "code",
   "execution_count": 9,
   "id": "bc1b1e4c-4e16-4a1f-ac96-f37708328f95",
   "metadata": {},
   "outputs": [
    {
     "data": {
      "text/plain": [
       "'sonu'"
      ]
     },
     "execution_count": 9,
     "metadata": {},
     "output_type": "execute_result"
    }
   ],
   "source": [
    "pw1.name"
   ]
  },
  {
   "cell_type": "code",
   "execution_count": 10,
   "id": "d0d4dc0b-3f98-4db5-8555-f0b836dbffc3",
   "metadata": {},
   "outputs": [
    {
     "name": "stdout",
     "output_type": "stream",
     "text": [
      "sonu sonu0k22@gmail.com\n"
     ]
    }
   ],
   "source": [
    "pw1.students_details()"
   ]
  },
  {
   "cell_type": "code",
   "execution_count": 32,
   "id": "e15eea9c-c66d-4655-87b5-375b28210993",
   "metadata": {},
   "outputs": [],
   "source": [
    "#isme upr wala mai ye dikhana cah rha ki bina obj banaye bhi obj\n",
    "# create kiye bhi name email pass kr pa rha hu\n",
    "# hamne overload kridya init method ko without creating obj\n",
    "# directly overloading nhi hoota but class method ke throw ke overloading kr skte hai"
   ]
  },
  {
   "cell_type": "code",
   "execution_count": 20,
   "id": "c25995d2-64e1-4a83-a1f8-7daecd98a427",
   "metadata": {},
   "outputs": [],
   "source": [
    "class pwskills2:\n",
    "    \n",
    "    mobile_num=9198225421 #ye variable bana kaha hai basically bana hua hai kisi clss ke andr\n",
    "    # but kisi init ke andar nhi bana kisi method ke andr nhi bana \n",
    "    # ye class ke andar bana hua hai toh ye  class variable kahlayega \n",
    "    # or directly available hota hia class ko\n",
    "    # ab agr isko access krna hai toh class name ke throw access kr skte hai\n",
    "    def __init__(self,name,email):         \n",
    "        self.name=name                   \n",
    "        self.email=email\n",
    "        \n",
    "    @classmethod                     \n",
    "    def details(cls,name,email):\n",
    "            return cls(name,email)\n",
    "        \n",
    "    def students_details(self):          \n",
    "        print(self.name,self.email)"
   ]
  },
  {
   "cell_type": "code",
   "execution_count": 22,
   "id": "8c2ab983-949c-4810-81f5-a8251957904b",
   "metadata": {},
   "outputs": [
    {
     "data": {
      "text/plain": [
       "9198225421"
      ]
     },
     "execution_count": 22,
     "metadata": {},
     "output_type": "execute_result"
    }
   ],
   "source": [
    "pwskills2.mobile_num # ab iske liye kio obj nhi banana pada directly access kr paya \n",
    "# classname.variable"
   ]
  },
  {
   "cell_type": "code",
   "execution_count": 25,
   "id": "9cd2e46c-a5e3-4150-a320-6f57a82a956b",
   "metadata": {},
   "outputs": [],
   "source": [
    "# ham upr wale ko hm class method ke andar bhi access kr skte hai\n",
    "class pwskills2:\n",
    "    \n",
    "    mobile_num=9198225421 #ye variable bana kaha hai basically bana hua hai kisi clss ke andr\n",
    "    # but kisi init ke andar nhi bana kisi method ke andr nhi bana \n",
    "    # ye class ke andar bana hua hai toh ye  class variable kahlayega \n",
    "    # or directly available hota hia class ko\n",
    "    # ab agr isko access krna hai toh class name ke throw access kr skte hai\n",
    "    \n",
    "    def __init__(self,name,email):         \n",
    "        self.name=name                   \n",
    "        self.email=email\n",
    "    @classmethod\n",
    "    def change_mobile(cls,mobile):\n",
    "        pwskills2.mobile_num=mobile  #yaha number dalne sai mobile number update ho jaiga\n",
    "        \n",
    "    @classmethod                     \n",
    "    def details(cls,name,email):\n",
    "        \n",
    "        return cls(name,email)\n",
    "        \n",
    "    def students_details(self):          \n",
    "        print(self.name,self.email,pwskills2.mobile_num)   \n",
    "        #suppose mobile number ko student details mai bhi anna cahiye \n",
    "        # toh return ke time mai self sai nhi likhege kyuki ye class sai assosiated hai \n",
    "# suppose student detail ko access krna hai toh 2 tareke hai ek  obj bana le tb kar payege\n",
    "# and 2nd method hai class method ke throw isko variable bana le tba access kre        "
   ]
  },
  {
   "cell_type": "code",
   "execution_count": 3,
   "id": "1f037c11-3ec2-4216-ac8d-d42171c3fd33",
   "metadata": {},
   "outputs": [
    {
     "data": {
      "text/plain": [
       "9198225421"
      ]
     },
     "execution_count": 3,
     "metadata": {},
     "output_type": "execute_result"
    }
   ],
   "source": [
    "pwskills2.mobile_num"
   ]
  },
  {
   "cell_type": "code",
   "execution_count": 22,
   "id": "5576f8a4-0cd3-413d-acea-84cf6c56fa4a",
   "metadata": {},
   "outputs": [],
   "source": [
    "pwskills2.change_mobile(222222222)"
   ]
  },
  {
   "cell_type": "code",
   "execution_count": 23,
   "id": "87fb9aa5-aeab-4726-9357-caa21973b896",
   "metadata": {},
   "outputs": [
    {
     "data": {
      "text/plain": [
       "222222222"
      ]
     },
     "execution_count": 23,
     "metadata": {},
     "output_type": "execute_result"
    }
   ],
   "source": [
    "pwskills2.mobile_num"
   ]
  },
  {
   "cell_type": "code",
   "execution_count": 24,
   "id": "dcfb196b-750e-4ebf-9192-19e4420fb439",
   "metadata": {},
   "outputs": [
    {
     "ename": "TypeError",
     "evalue": "pwskills2.students_details() missing 1 required positional argument: 'self'",
     "output_type": "error",
     "traceback": [
      "\u001b[0;31m---------------------------------------------------------------------------\u001b[0m",
      "\u001b[0;31mTypeError\u001b[0m                                 Traceback (most recent call last)",
      "Cell \u001b[0;32mIn[24], line 1\u001b[0m\n\u001b[0;32m----> 1\u001b[0m \u001b[43mpwskills2\u001b[49m\u001b[38;5;241;43m.\u001b[39;49m\u001b[43mstudents_details\u001b[49m\u001b[43m(\u001b[49m\u001b[43m)\u001b[49m\n",
      "\u001b[0;31mTypeError\u001b[0m: pwskills2.students_details() missing 1 required positional argument: 'self'"
     ]
    }
   ],
   "source": [
    "pwskills2.students_details()"
   ]
  },
  {
   "cell_type": "code",
   "execution_count": 26,
   "id": "f861f8d8-4a4d-4de3-b2d8-94bdedb7adf1",
   "metadata": {},
   "outputs": [],
   "source": [
    "# suppose student detail ko access krna hai toh 2 tareke hai ek  obj bana le tb kar payege\n",
    "# and 2nd method hai class method ke throw isko variable bana le tba access kre\n",
    "pw_obj=pwskills2(\"sonu\",\"sonu@gmail.com\")"
   ]
  },
  {
   "cell_type": "code",
   "execution_count": 20,
   "id": "fe353556-5df5-48ad-9556-7db570939cbf",
   "metadata": {},
   "outputs": [
    {
     "name": "stdout",
     "output_type": "stream",
     "text": [
      "sonu sonu@gmail.com 9198225421\n"
     ]
    }
   ],
   "source": [
    "pw_obj.students_details()"
   ]
  },
  {
   "cell_type": "code",
   "execution_count": 31,
   "id": "e68b617d-3412-40b8-9208-ca9538633a0e",
   "metadata": {},
   "outputs": [],
   "source": [
    "# 2nd method  class method ke throw phle variable bana \n",
    "pw=pwskills2.details('sonu','sonu@gmail.com') #yaha pw variable"
   ]
  },
  {
   "cell_type": "code",
   "execution_count": 30,
   "id": "13d70b22-afed-4a18-b8aa-900e461d5d0c",
   "metadata": {},
   "outputs": [
    {
     "name": "stdout",
     "output_type": "stream",
     "text": [
      "sonu sonu@gmail.com 9198225421\n"
     ]
    }
   ],
   "source": [
    "pw.students_details()"
   ]
  },
  {
   "cell_type": "code",
   "execution_count": 33,
   "id": "d7648651-60e0-4f24-939b-7ea26fef47fd",
   "metadata": {},
   "outputs": [],
   "source": [
    "\n",
    "class pwskills3:\n",
    "    \n",
    "    mobile_num=9198225421 \n",
    "    \n",
    "    def __init__(self,name,email):         \n",
    "        self.name=name                   \n",
    "        self.email=email\n",
    "    @classmethod\n",
    "    def change_mobile(cls,mobile):\n",
    "        pwskills2.mobile_num=mobile\n",
    "        \n",
    "    @classmethod                     \n",
    "    def details(cls,name,email):\n",
    "        \n",
    "        return cls(name,email)\n",
    "        \n",
    "    def students_details(self):          \n",
    "        print(self.name,self.email,pwskills2.mobile_num)   \n",
    "              "
   ]
  },
  {
   "cell_type": "code",
   "execution_count": 36,
   "id": "5b70c78c-d345-40b1-b768-98d874268e6b",
   "metadata": {},
   "outputs": [],
   "source": [
    "# mere pass abhi ek aur method available hai jo class ke andar available nhi hai\n",
    "# ye external function hai\n",
    "# jo outsider function usse class ke andar kaise invovle kar skte hai vo ham sikhege\n",
    "def course_details(cls,course_name):\n",
    "    print('course name is',course_name)\n",
    "    "
   ]
  },
  {
   "cell_type": "code",
   "execution_count": 38,
   "id": "a9c3a19d-0d7e-49ca-8136-c6f0393d1f35",
   "metadata": {},
   "outputs": [],
   "source": [
    "# abhi pwskills3. tab dabayege toh sb func dikhega but abhi course_details\n",
    "# nhi dekhga kyuki abhi usme add nhi hai\n",
    "pwskills3.course_details=classmethod(course_details) \n",
    "#isse course_details add ho jaiga class mai"
   ]
  },
  {
   "cell_type": "code",
   "execution_count": 39,
   "id": "a53a2f0e-c77c-40e2-a37a-866ecb41dabc",
   "metadata": {},
   "outputs": [
    {
     "name": "stdout",
     "output_type": "stream",
     "text": [
      "course name is maths\n"
     ]
    }
   ],
   "source": [
    "pwskills3.course_details(\"maths\")"
   ]
  },
  {
   "cell_type": "code",
   "execution_count": 40,
   "id": "5585827d-7c39-4c33-90dd-63fe8d40efcf",
   "metadata": {},
   "outputs": [],
   "source": [
    "def mentor(cls,list_of_mentor):\n",
    "    print(list_of_mentor)"
   ]
  },
  {
   "cell_type": "code",
   "execution_count": 41,
   "id": "11beaf40-4520-483a-9348-c6bbf03595ab",
   "metadata": {},
   "outputs": [],
   "source": [
    "pwskills3.mentor=classmethod(mentor)"
   ]
  },
  {
   "cell_type": "code",
   "execution_count": 47,
   "id": "9891ea83-ff6b-4dc9-b9e9-3d7f7b26700a",
   "metadata": {},
   "outputs": [
    {
     "name": "stdout",
     "output_type": "stream",
     "text": [
      "['sonu', 'aswhani']\n"
     ]
    }
   ],
   "source": [
    "pwskills3.mentor(['sonu','aswhani'])"
   ]
  },
  {
   "cell_type": "code",
   "execution_count": 48,
   "id": "926acb0f-e957-4c96-aa52-2bbe0397cce2",
   "metadata": {},
   "outputs": [],
   "source": [
    "\n",
    "class pwskills4:\n",
    "    \n",
    "    mobile_num=9198225421 \n",
    "    \n",
    "    def __init__(self,name,email):         \n",
    "        self.name=name                   \n",
    "        self.email=email\n",
    "    @classmethod\n",
    "    def change_mobile(cls,mobile):\n",
    "        pwskills2.mobile_num=mobile\n",
    "        \n",
    "    @classmethod                     \n",
    "    def details(cls,name,email):\n",
    "        \n",
    "        return cls(name,email)\n",
    "        \n",
    "    def students_details(self):          \n",
    "        print(self.name,self.email,pwskills2.mobile_num)   \n",
    "              "
   ]
  },
  {
   "cell_type": "code",
   "execution_count": 49,
   "id": "a977ca00-420b-4c60-95da-a4bb186b6a63",
   "metadata": {},
   "outputs": [],
   "source": [
    "# suppose mai kuch clas func ko del krna cah rha ya fir kio or access na kr paye\n",
    "\n",
    "del pwskills4.change_mobile"
   ]
  },
  {
   "cell_type": "code",
   "execution_count": 50,
   "id": "7cb98c5c-a632-407d-a5f3-ef736b241e1e",
   "metadata": {},
   "outputs": [
    {
     "ename": "AttributeError",
     "evalue": "type object 'pwskills4' has no attribute 'change_mobile'",
     "output_type": "error",
     "traceback": [
      "\u001b[0;31m---------------------------------------------------------------------------\u001b[0m",
      "\u001b[0;31mAttributeError\u001b[0m                            Traceback (most recent call last)",
      "Cell \u001b[0;32mIn[50], line 1\u001b[0m\n\u001b[0;32m----> 1\u001b[0m \u001b[43mpwskills4\u001b[49m\u001b[38;5;241;43m.\u001b[39;49m\u001b[43mchange_mobile\u001b[49m(\u001b[38;5;241m665621315\u001b[39m)\n",
      "\u001b[0;31mAttributeError\u001b[0m: type object 'pwskills4' has no attribute 'change_mobile'"
     ]
    }
   ],
   "source": [
    "pwskills4.change_mobile(665621315)  #ye del ho chuka hai isiye aesa show kr rha"
   ]
  },
  {
   "cell_type": "code",
   "execution_count": 52,
   "id": "5111be73-101f-45a7-8878-855cd156e4d5",
   "metadata": {},
   "outputs": [],
   "source": [
    "#del krna ke 2 method hai ek toh upr hai and \n",
    "# ek delattr(class_name,jo_func_del_krna_hai_usko_as_a_string_denge) krke \n",
    "delattr(pwskills4,'details')"
   ]
  },
  {
   "cell_type": "code",
   "execution_count": 54,
   "id": "754a911c-382b-4666-98f6-9bfc6307f782",
   "metadata": {},
   "outputs": [
    {
     "ename": "AttributeError",
     "evalue": "type object 'pwskills4' has no attribute 'details'",
     "output_type": "error",
     "traceback": [
      "\u001b[0;31m---------------------------------------------------------------------------\u001b[0m",
      "\u001b[0;31mAttributeError\u001b[0m                            Traceback (most recent call last)",
      "Cell \u001b[0;32mIn[54], line 1\u001b[0m\n\u001b[0;32m----> 1\u001b[0m \u001b[43mpwskills4\u001b[49m\u001b[38;5;241;43m.\u001b[39;49m\u001b[43mdetails\u001b[49m(\u001b[38;5;124m\"\u001b[39m\u001b[38;5;124msonu\u001b[39m\u001b[38;5;124m\"\u001b[39m,\u001b[38;5;124m\"\u001b[39m\u001b[38;5;124msonu@gmail.cpm\u001b[39m\u001b[38;5;124m\"\u001b[39m) \u001b[38;5;66;03m#del ho chuka hai\u001b[39;00m\n",
      "\u001b[0;31mAttributeError\u001b[0m: type object 'pwskills4' has no attribute 'details'"
     ]
    }
   ],
   "source": [
    "pwskills4.details(\"sonu\",\"sonu@gmail.cpm\") #del ho chuka hai"
   ]
  },
  {
   "cell_type": "code",
   "execution_count": 55,
   "id": "d6167fa4-3e21-452e-925f-f62b73f1cb04",
   "metadata": {},
   "outputs": [],
   "source": [
    "#lets check jo class method ke andar nhi hai kya ham usse bhi \n",
    "# del kr skte hai del attribute ke jariye \n",
    "delattr(pwskills4,'students_details')"
   ]
  },
  {
   "cell_type": "code",
   "execution_count": 56,
   "id": "d28a212e-3826-49b9-aa98-a9414fcc5f42",
   "metadata": {},
   "outputs": [
    {
     "ename": "AttributeError",
     "evalue": "type object 'pwskills4' has no attribute 'student_details'",
     "output_type": "error",
     "traceback": [
      "\u001b[0;31m---------------------------------------------------------------------------\u001b[0m",
      "\u001b[0;31mAttributeError\u001b[0m                            Traceback (most recent call last)",
      "Cell \u001b[0;32mIn[56], line 1\u001b[0m\n\u001b[0;32m----> 1\u001b[0m \u001b[43mpwskills4\u001b[49m\u001b[38;5;241;43m.\u001b[39;49m\u001b[43mstudent_details\u001b[49m()\n",
      "\u001b[0;31mAttributeError\u001b[0m: type object 'pwskills4' has no attribute 'student_details'"
     ]
    }
   ],
   "source": [
    "pwskills4.student_details() #yes ham isko bhi del kar pa rhe hai"
   ]
  },
  {
   "cell_type": "code",
   "execution_count": 58,
   "id": "b9d109c8-e1eb-4945-a318-afd65f9b2d70",
   "metadata": {},
   "outputs": [],
   "source": [
    "#and ab mere pass ek variable bhi hai usko del krke check krte hai\n",
    "delattr(pwskills4,\"mobile_num\")"
   ]
  },
  {
   "cell_type": "code",
   "execution_count": 61,
   "id": "73eab649-d737-4d53-ae3f-6a01f74c2ba2",
   "metadata": {},
   "outputs": [
    {
     "ename": "AttributeError",
     "evalue": "type object 'pwskills4' has no attribute 'mobile_num'",
     "output_type": "error",
     "traceback": [
      "\u001b[0;31m---------------------------------------------------------------------------\u001b[0m",
      "\u001b[0;31mAttributeError\u001b[0m                            Traceback (most recent call last)",
      "Cell \u001b[0;32mIn[61], line 1\u001b[0m\n\u001b[0;32m----> 1\u001b[0m \u001b[43mpwskills4\u001b[49m\u001b[38;5;241;43m.\u001b[39;49m\u001b[43mmobile_num\u001b[49m\n",
      "\u001b[0;31mAttributeError\u001b[0m: type object 'pwskills4' has no attribute 'mobile_num'"
     ]
    }
   ],
   "source": [
    "pwskills4.mobile_num  #yes ye bhi del hogya"
   ]
  },
  {
   "cell_type": "code",
   "execution_count": null,
   "id": "c783cce6-3249-4e5b-aa78-1dfd6bbbdc44",
   "metadata": {},
   "outputs": [],
   "source": []
  }
 ],
 "metadata": {
  "kernelspec": {
   "display_name": "Python 3 (ipykernel)",
   "language": "python",
   "name": "python3"
  },
  "language_info": {
   "codemirror_mode": {
    "name": "ipython",
    "version": 3
   },
   "file_extension": ".py",
   "mimetype": "text/x-python",
   "name": "python",
   "nbconvert_exporter": "python",
   "pygments_lexer": "ipython3",
   "version": "3.10.8"
  }
 },
 "nbformat": 4,
 "nbformat_minor": 5
}
