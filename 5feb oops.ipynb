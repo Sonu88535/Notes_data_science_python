{
 "cells": [
  {
   "cell_type": "markdown",
   "id": "e0c54e27-8795-4ffb-93bc-42551123279b",
   "metadata": {},
   "source": [
    "Oops stand for object oriented programming system"
   ]
  },
  {
   "cell_type": "code",
   "execution_count": 2,
   "id": "3b2f1e10-1e0b-4457-971a-d9802913ed09",
   "metadata": {},
   "outputs": [],
   "source": [
    "a=3"
   ]
  },
  {
   "cell_type": "code",
   "execution_count": 3,
   "id": "58f506b0-9bbd-432a-bb25-df7c43b6cf3a",
   "metadata": {},
   "outputs": [
    {
     "data": {
      "text/plain": [
       "int"
      ]
     },
     "execution_count": 3,
     "metadata": {},
     "output_type": "execute_result"
    }
   ],
   "source": [
    "type(a)"
   ]
  },
  {
   "cell_type": "code",
   "execution_count": 4,
   "id": "0abbaa1d-e629-43cc-9ff7-3baf5cf1c7fe",
   "metadata": {},
   "outputs": [
    {
     "name": "stdout",
     "output_type": "stream",
     "text": [
      "<class 'int'>\n"
     ]
    }
   ],
   "source": [
    "print(type(a))"
   ]
  },
  {
   "cell_type": "code",
   "execution_count": 5,
   "id": "c5e1e43d-6de5-4806-b746-229b480308cd",
   "metadata": {},
   "outputs": [
    {
     "name": "stdout",
     "output_type": "stream",
     "text": [
      "<class 'str'>\n"
     ]
    }
   ],
   "source": [
    "print(type('pwskills'))"
   ]
  },
  {
   "cell_type": "code",
   "execution_count": 6,
   "id": "8acb4599-db67-4338-b846-dd0620de252e",
   "metadata": {},
   "outputs": [],
   "source": [
    "# Class kya hai isme  ?\n",
    "# class kuch nhi basically ek blueprint hai ya fir bol sakte hai ek skeleton hai\n",
    "# class overall define karta hai chijo lo in case of object oriented programming\n"
   ]
  },
  {
   "cell_type": "code",
   "execution_count": 8,
   "id": "a4564024-e814-4b1b-99f6-f67cc0b2ebbe",
   "metadata": {},
   "outputs": [],
   "source": [
    "#class ek overall idea de deta hai ki vo hai kkya like class str mai pta chhl jata hai kuch hia jo double course mai hai  \n",
    "#in case of int hame pta chl jata hai ki kio number hai but konsa no hia ye nhi pta chlta hai \n",
    "# class is the classification or blueprint  of real world entity \n",
    "# oject is the real world entity like here is a which is object(variable) of class int "
   ]
  },
  {
   "cell_type": "code",
   "execution_count": 10,
   "id": "d78a13cf-bc6a-4269-9f64-923c8fde612c",
   "metadata": {},
   "outputs": [],
   "source": [
    "# for creating class in python\n",
    "class test:\n",
    "    pass  #agr pass nhi likhoga toh error bta dega kyuki class def kiya but class ke andr kuch bhi defind nhi kiya  and \n",
    "           #pass likh kr chor denge toh ye ek blank class create krdega"
   ]
  },
  {
   "cell_type": "code",
   "execution_count": 14,
   "id": "68d702df-ed55-450f-a88f-d6208ae02040",
   "metadata": {},
   "outputs": [],
   "source": [
    "# ab ye upar wale class ka object banaye like upr int class ka object(a) tha  jisme int rakha tha \n",
    "a=test()"
   ]
  },
  {
   "cell_type": "code",
   "execution_count": 15,
   "id": "f128e026-9933-447e-b348-11d20c06ee8f",
   "metadata": {},
   "outputs": [
    {
     "data": {
      "text/plain": [
       "__main__.test"
      ]
     },
     "execution_count": 15,
     "metadata": {},
     "output_type": "execute_result"
    }
   ],
   "source": [
    "type(a)"
   ]
  },
  {
   "cell_type": "code",
   "execution_count": 16,
   "id": "f8cebd4f-67ed-49d0-b1f5-b97f3ff924f1",
   "metadata": {},
   "outputs": [
    {
     "name": "stdout",
     "output_type": "stream",
     "text": [
      "<class '__main__.test'>\n"
     ]
    }
   ],
   "source": [
    "print(type(a))"
   ]
  },
  {
   "cell_type": "code",
   "execution_count": 29,
   "id": "34a19efb-b08a-4d0a-950d-5eee17dbe347",
   "metadata": {},
   "outputs": [],
   "source": [
    "class pwskills:#yaha class ke andr ham kuch bhi def kr skte hai variable le skte hai  jo ham phle karte aye hai vo sb kr skte hai\n",
    "    def welcome_msg(self):\n",
    "        print('welcome to pwskills')"
   ]
  },
  {
   "cell_type": "code",
   "execution_count": 30,
   "id": "a3877001-6741-4890-8e31-788bf83754b5",
   "metadata": {},
   "outputs": [],
   "source": [
    "rohan=pwskills() #rohan ab ek variable ban of class strng "
   ]
  },
  {
   "cell_type": "code",
   "execution_count": 19,
   "id": "2059473a-7456-4034-9da9-11f2429fa6ae",
   "metadata": {},
   "outputs": [
    {
     "name": "stdout",
     "output_type": "stream",
     "text": [
      "<class '__main__.pwskills'>\n"
     ]
    }
   ],
   "source": [
    "print(type(rohan)) # ye bta rha ki rohan kiss type ke class sai belong kr rha\n",
    "\n",
    "#output mai bta rha ki rohan  pwskills class sai belong kr rha hai"
   ]
  },
  {
   "cell_type": "code",
   "execution_count": 21,
   "id": "5ec7da68-e074-44bf-8083-14f23ce04f87",
   "metadata": {},
   "outputs": [
    {
     "ename": "TypeError",
     "evalue": "pwskills.welcome_msg() takes 0 positional arguments but 1 was given",
     "output_type": "error",
     "traceback": [
      "\u001b[0;31m---------------------------------------------------------------------------\u001b[0m",
      "\u001b[0;31mTypeError\u001b[0m                                 Traceback (most recent call last)",
      "Cell \u001b[0;32mIn[21], line 2\u001b[0m\n\u001b[1;32m      1\u001b[0m \u001b[38;5;66;03m#rohan ko welcome msg dikhana hai \u001b[39;00m\n\u001b[0;32m----> 2\u001b[0m \u001b[43mrohan\u001b[49m\u001b[38;5;241;43m.\u001b[39;49m\u001b[43mwelcome_msg\u001b[49m\u001b[43m(\u001b[49m\u001b[43m)\u001b[49m\n",
      "\u001b[0;31mTypeError\u001b[0m: pwskills.welcome_msg() takes 0 positional arguments but 1 was given"
     ]
    }
   ],
   "source": [
    "#rohan ko welcome msg dikhana hai \n",
    "rohan.welcome_msg()"
   ]
  },
  {
   "cell_type": "code",
   "execution_count": 22,
   "id": "74cfa05b-da7e-4f28-8707-76ac022b94be",
   "metadata": {},
   "outputs": [
    {
     "ename": "NameError",
     "evalue": "name 'welcome_msg' is not defined",
     "output_type": "error",
     "traceback": [
      "\u001b[0;31m---------------------------------------------------------------------------\u001b[0m",
      "\u001b[0;31mNameError\u001b[0m                                 Traceback (most recent call last)",
      "Cell \u001b[0;32mIn[22], line 1\u001b[0m\n\u001b[0;32m----> 1\u001b[0m \u001b[43mwelcome_msg\u001b[49m()\n",
      "\u001b[0;31mNameError\u001b[0m: name 'welcome_msg' is not defined"
     ]
    }
   ],
   "source": [
    "welcome_msg()"
   ]
  },
  {
   "cell_type": "code",
   "execution_count": 24,
   "id": "505ed1cf-a408-4b8b-9d71-da7361311cda",
   "metadata": {},
   "outputs": [],
   "source": [
    "# upr  error de raha jb dikhne mai sahi lg rha  toh jo bhi function def kiya hai use class sai bind krwana pdta hai\n",
    "# toh class sai bind krne ke liye jo bhi func likhege like welcome_msg(self) toh small bracket ke andr self likhna parega "
   ]
  },
  {
   "cell_type": "code",
   "execution_count": 32,
   "id": "6927ba5b-c935-40fe-9c06-d80185708f84",
   "metadata": {},
   "outputs": [
    {
     "name": "stdout",
     "output_type": "stream",
     "text": [
      "welcome to pwskills\n"
     ]
    }
   ],
   "source": [
    "rohan.welcome_msg() #dekho ab hogya execute "
   ]
  },
  {
   "cell_type": "code",
   "execution_count": 33,
   "id": "ec2e4f04-0ddc-42d2-a4cb-80163d26762d",
   "metadata": {},
   "outputs": [],
   "source": [
    "# class ke andar hamlog method bana sakte hai lekin agr us method ko class ke bahar use karna hai toh\n",
    "# phle class ka (variable or object or instant ) tino ek hi chiz hai  phle issse banayege like rohan=pwskills()\n",
    "#  ab agr fucn ko excute karna hai toh class_ka_instance.fuction_call like rohan.welcome_msg()"
   ]
  },
  {
   "cell_type": "code",
   "execution_count": 35,
   "id": "81d43b34-85a4-49d4-9233-332722787738",
   "metadata": {},
   "outputs": [],
   "source": [
    "ashwani=pwskills()"
   ]
  },
  {
   "cell_type": "code",
   "execution_count": 36,
   "id": "fcd089ab-a5cd-40fa-a4b5-d58617e7bdaf",
   "metadata": {},
   "outputs": [
    {
     "name": "stdout",
     "output_type": "stream",
     "text": [
      "welcome to pwskills\n"
     ]
    }
   ],
   "source": [
    "ashwani.welcome_msg()"
   ]
  },
  {
   "cell_type": "code",
   "execution_count": 37,
   "id": "7fb35fbc-6e10-4759-b87c-11e9b33d36b6",
   "metadata": {},
   "outputs": [],
   "source": [
    "# let suppose ab hame rohan ke pura detail cahiye toh ham ek class banayege jisme uski puri detail hogi and uske lliye method banaye \n",
    "# and us method ko use kr paye and no of student ke upr bhi use kar paye detail ki liye vo method and unhe ek class mai rakh paye"
   ]
  },
  {
   "cell_type": "code",
   "execution_count": 10,
   "id": "436e7d34-a215-4305-9788-e630e4331a89",
   "metadata": {},
   "outputs": [],
   "source": [
    "class pwskills1:\n",
    "    def __init__(self,phone_number,email_id,student_id): \n",
    "        #agr data class ke andar ke pass krwana hai toh ek inbuilt function call krna hoga __init__() jisko\n",
    "          # ham class and object ke andar constructor bhi bolte hai\n",
    "            #_init_(self,) ab self ke badd detail likhege jo ki passs krawana rhega rohan aur ashwni ka jab object ban rha hoga \n",
    "                #kyuki rohan ka property(object) alag hoga  ashwani ka alg hoga\n",
    "        self.phone_number=phone_number\n",
    "        self.email_id=email_id\n",
    "        self.student_id=student_id\n",
    "    def return_student_details(self):\n",
    "        return self.student_id,self.phone_number,self.email_id"
   ]
  },
  {
   "cell_type": "code",
   "execution_count": 9,
   "id": "a801efc3-ab98-4a7e-aec2-c275cbeb07b1",
   "metadata": {},
   "outputs": [
    {
     "ename": "TypeError",
     "evalue": "pwskills1.__init__() missing 3 required positional arguments: 'phone_number', 'email_id', and 'student_id'",
     "output_type": "error",
     "traceback": [
      "\u001b[0;31m---------------------------------------------------------------------------\u001b[0m",
      "\u001b[0;31mTypeError\u001b[0m                                 Traceback (most recent call last)",
      "Cell \u001b[0;32mIn[9], line 1\u001b[0m\n\u001b[0;32m----> 1\u001b[0m rohan\u001b[38;5;241m=\u001b[39m\u001b[43mpwskills1\u001b[49m\u001b[43m(\u001b[49m\u001b[43m)\u001b[49m\n",
      "\u001b[0;31mTypeError\u001b[0m: pwskills1.__init__() missing 3 required positional arguments: 'phone_number', 'email_id', and 'student_id'"
     ]
    }
   ],
   "source": [
    "rohan=pwskills1()"
   ]
  },
  {
   "cell_type": "code",
   "execution_count": 16,
   "id": "b43a9fa5-5b0e-4367-81b3-0935fef7690d",
   "metadata": {},
   "outputs": [],
   "source": [
    "rohan=pwskills1(346245646,\"ashwanu112@hahfkc.com\",44272)"
   ]
  },
  {
   "cell_type": "code",
   "execution_count": 13,
   "id": "b9c8c98d-c73a-4980-b477-30f171f012e6",
   "metadata": {},
   "outputs": [
    {
     "data": {
      "text/plain": [
       "(44272, 346245646, 'ashwanu112@hahfkc.com')"
      ]
     },
     "execution_count": 13,
     "metadata": {},
     "output_type": "execute_result"
    }
   ],
   "source": [
    "rohan.return_student_details()"
   ]
  },
  {
   "cell_type": "code",
   "execution_count": 17,
   "id": "062681a1-4f6e-4f78-817a-3d2ec89b2f68",
   "metadata": {},
   "outputs": [
    {
     "data": {
      "text/plain": [
       "346245646"
      ]
     },
     "execution_count": 17,
     "metadata": {},
     "output_type": "execute_result"
    }
   ],
   "source": [
    "rohan.phone_number \n",
    "#yaha self lagane ke jarurt nhi parega kyuki  class ke bahr hai lekin abhi class ke andar hota toh self laga kr hi access hoga"
   ]
  },
  {
   "cell_type": "code",
   "execution_count": 18,
   "id": "83adcc45-2c8b-42e7-a405-428d1be98947",
   "metadata": {},
   "outputs": [
    {
     "data": {
      "text/plain": [
       "'ashwanu112@hahfkc.com'"
      ]
     },
     "execution_count": 18,
     "metadata": {},
     "output_type": "execute_result"
    }
   ],
   "source": [
    "rohan.email_id"
   ]
  },
  {
   "cell_type": "code",
   "execution_count": 14,
   "id": "88b16503-7c92-4a78-8d5d-23ff4af0520d",
   "metadata": {},
   "outputs": [],
   "source": [
    "ashwani=pwskills1(9129321056,'ashwanigandu420@gmail.com',420)"
   ]
  },
  {
   "cell_type": "code",
   "execution_count": 15,
   "id": "f41834bd-7f76-4568-b834-f83a6df40fb0",
   "metadata": {},
   "outputs": [
    {
     "data": {
      "text/plain": [
       "(420, 9129321056, 'ashwanigandu420@gmail.com')"
      ]
     },
     "execution_count": 15,
     "metadata": {},
     "output_type": "execute_result"
    }
   ],
   "source": [
    "ashwani.return_student_details()"
   ]
  },
  {
   "cell_type": "code",
   "execution_count": 30,
   "id": "bbba9ede-48cc-4a28-813d-0d470087d851",
   "metadata": {},
   "outputs": [],
   "source": [
    "class pwskills2:\n",
    "    def __init__(self,phone_number,email_id,student_id):    \n",
    "        #agr data class ke andar ke pass krwana hai toh ek inbuilt function call krna hoga __init__() jisko\n",
    "             # ham class and object ke andar constructor bhi bolte hai\n",
    "           #_init_(self,) ab self ke badd detail likhege jo ki passs krawana rhega rohan aur ashwni ka jab object ban rha hoga \n",
    "               #kyuki rohan ka property(object) alag hoga  ashwani ka alg hoga\n",
    "        self.phone_number1=phone_number\n",
    "        self.email_id1=email_id\n",
    "        self.student_id1=student_id\n",
    "    def return_student_details(self):\n",
    "        return self.student_id1,self.phone_number1,self.email_id1"
   ]
  },
  {
   "cell_type": "code",
   "execution_count": 31,
   "id": "47c4cf68-1df4-4b1c-a8d8-25f8488264a1",
   "metadata": {},
   "outputs": [],
   "source": [
    "sonu=pwskills2(451316321,\"sonu@gmail.com\",101)"
   ]
  },
  {
   "cell_type": "code",
   "execution_count": 32,
   "id": "711fedc1-9ba4-432b-a1e4-990e1380e860",
   "metadata": {},
   "outputs": [
    {
     "ename": "AttributeError",
     "evalue": "'pwskills2' object has no attribute 'phone_number'",
     "output_type": "error",
     "traceback": [
      "\u001b[0;31m---------------------------------------------------------------------------\u001b[0m",
      "\u001b[0;31mAttributeError\u001b[0m                            Traceback (most recent call last)",
      "Cell \u001b[0;32mIn[32], line 1\u001b[0m\n\u001b[0;32m----> 1\u001b[0m \u001b[43msonu\u001b[49m\u001b[38;5;241;43m.\u001b[39;49m\u001b[43mphone_number\u001b[49m \u001b[38;5;66;03m#yaha code mai dekho jo self ke sath likha hai class usse ko smjhta hai sirf\u001b[39;00m\n",
      "\u001b[0;31mAttributeError\u001b[0m: 'pwskills2' object has no attribute 'phone_number'"
     ]
    }
   ],
   "source": [
    "sonu.phone_number #yaha code mai dekho jo self ke sath likha hai class usse ko smjhta hai sirf"
   ]
  },
  {
   "cell_type": "code",
   "execution_count": 33,
   "id": "98335b3b-b621-4c7c-a55e-ffbcb3b51a26",
   "metadata": {},
   "outputs": [
    {
     "data": {
      "text/plain": [
       "451316321"
      ]
     },
     "execution_count": 33,
     "metadata": {},
     "output_type": "execute_result"
    }
   ],
   "source": [
    "sonu.phone_number1"
   ]
  },
  {
   "cell_type": "code",
   "execution_count": 34,
   "id": "1df2e108-5ad8-4442-97b8-0dedb1bb3e55",
   "metadata": {},
   "outputs": [
    {
     "data": {
      "text/plain": [
       "(101, 451316321, 'sonu@gmail.com')"
      ]
     },
     "execution_count": 34,
     "metadata": {},
     "output_type": "execute_result"
    }
   ],
   "source": [
    "sonu.return_student_details()"
   ]
  },
  {
   "cell_type": "code",
   "execution_count": 37,
   "id": "6c5a4c7e-f734-45d0-85a2-5392e3cfd93a",
   "metadata": {},
   "outputs": [],
   "source": [
    "class pwskills2:\n",
    "    def __init__(sonu,phone_number,email_id,student_id):\n",
    "        # ab isme self ke jagah sonu likh diya toh bhi execute ho ja rha means self kio reserved key nhi hai\n",
    "                  \n",
    "        sonu.phone_number1=phone_number\n",
    "        sonu.email_id1=email_id\n",
    "        sonu.student_id1=student_id\n",
    "    def return_student_details(self):\n",
    "        return sonu.student_id1,sonu.phone_number1,sonu.email_id1"
   ]
  },
  {
   "cell_type": "code",
   "execution_count": 39,
   "id": "3c2864e1-1349-4d26-9ae0-76902ee93b12",
   "metadata": {},
   "outputs": [],
   "source": [
    "anurag=pwskills2(4135321651,\"asdihisd@gmaods.cin\",212)"
   ]
  },
  {
   "cell_type": "code",
   "execution_count": 40,
   "id": "f2c2de98-a3c0-4d76-b588-823dff88cda8",
   "metadata": {},
   "outputs": [
    {
     "data": {
      "text/plain": [
       "(101, 451316321, 'sonu@gmail.com')"
      ]
     },
     "execution_count": 40,
     "metadata": {},
     "output_type": "execute_result"
    }
   ],
   "source": [
    "anurag.return_student_details()"
   ]
  },
  {
   "cell_type": "code",
   "execution_count": null,
   "id": "cf23bbf2-1a60-45f1-ae37-1d9e235e58db",
   "metadata": {},
   "outputs": [],
   "source": []
  }
 ],
 "metadata": {
  "kernelspec": {
   "display_name": "Python 3 (ipykernel)",
   "language": "python",
   "name": "python3"
  },
  "language_info": {
   "codemirror_mode": {
    "name": "ipython",
    "version": 3
   },
   "file_extension": ".py",
   "mimetype": "text/x-python",
   "name": "python",
   "nbconvert_exporter": "python",
   "pygments_lexer": "ipython3",
   "version": "3.10.8"
  }
 },
 "nbformat": 4,
 "nbformat_minor": 5
}
