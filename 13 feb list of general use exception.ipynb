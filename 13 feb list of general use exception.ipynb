{
 "cells": [
  {
   "cell_type": "code",
   "execution_count": 4,
   "id": "8ba9fca7-dc45-4479-80f3-4e24f019b8bf",
   "metadata": {},
   "outputs": [
    {
     "name": "stdout",
     "output_type": "stream",
     "text": [
      "division by zero\n"
     ]
    }
   ],
   "source": [
    "try:\n",
    "    q=10/0\n",
    "except ZeroDivisionError as e:\n",
    "    print(e)"
   ]
  },
  {
   "cell_type": "code",
   "execution_count": 9,
   "id": "bd7a043e-a3a7-4dcf-a0ee-cd4a3738431c",
   "metadata": {},
   "outputs": [
    {
     "name": "stdout",
     "output_type": "stream",
     "text": [
      "invalid literal for int() with base 10: 'sudh'\n"
     ]
    }
   ],
   "source": [
    "try:\n",
    "    int(\"sudh\") #typecating kr rhe hai aur yaha string daal diya toh ye hoga nhi \n",
    "    \n",
    "except (ValueError ,TypeError) as e:\n",
    "    print(e)\n",
    "        "
   ]
  },
  {
   "cell_type": "code",
   "execution_count": 11,
   "id": "698e9826-6830-42ca-a235-3c216d747b6d",
   "metadata": {},
   "outputs": [
    {
     "name": "stdout",
     "output_type": "stream",
     "text": [
      "this will catch an error\n"
     ]
    }
   ],
   "source": [
    "try:\n",
    "    int(\"sonu\")\n",
    "except:\n",
    "    print(\"this will catch an error\")\n",
    "    #error nhi pta toh simple aesa likh do vo Exception ko call krke krlega jo ki superclass hai"
   ]
  },
  {
   "cell_type": "code",
   "execution_count": 12,
   "id": "8c79ede6-bd42-43ec-82ae-bef37ad983e8",
   "metadata": {},
   "outputs": [
    {
     "name": "stdout",
     "output_type": "stream",
     "text": [
      "No module named 'sonu'\n"
     ]
    }
   ],
   "source": [
    "try:\n",
    "    import sonu #sonu name ka kio package hi nhi hai toh error hoga toh yaha import error hoga\n",
    "except ImportError as e:\n",
    "    print(e)"
   ]
  },
  {
   "cell_type": "code",
   "execution_count": 17,
   "id": "b005ad7c-bdae-4bef-ba89-7daf7ea1f476",
   "metadata": {},
   "outputs": [
    {
     "name": "stdout",
     "output_type": "stream",
     "text": [
      "'key2'\n"
     ]
    }
   ],
   "source": [
    "try:\n",
    "    d={ 'key':\"values\", 1:[3,4,5,6,4]}\n",
    "    print(d[\"key2\"])  #yaha key2 hai hi nhi toh yaha key error ayega\n",
    "except KeyError as e:\n",
    "    \n",
    "    print(e)"
   ]
  },
  {
   "cell_type": "code",
   "execution_count": 20,
   "id": "37aeb3e7-e44d-4ec3-ae94-f04f190575ed",
   "metadata": {},
   "outputs": [
    {
     "name": "stdout",
     "output_type": "stream",
     "text": [
      "'str' object has no attribute 'test'\n"
     ]
    }
   ],
   "source": [
    "try:\n",
    "    \"l\".test() #mujhe abhi pta hi nhi hai yaha test kya hia function h ya kuch or \n",
    "except AttributeError as e:\n",
    "    \n",
    "    print(e)"
   ]
  },
  {
   "cell_type": "code",
   "execution_count": 21,
   "id": "2c70e3ff-10cb-47bf-b5e0-4e79bcf3a9f2",
   "metadata": {},
   "outputs": [
    {
     "name": "stdout",
     "output_type": "stream",
     "text": [
      "list index out of range\n"
     ]
    }
   ],
   "source": [
    "try:\n",
    "    l=[2,3,4,5]\n",
    "    print(l[6])\n",
    "except IndexError as e:\n",
    "    print(e)"
   ]
  },
  {
   "cell_type": "code",
   "execution_count": 22,
   "id": "8cc59dca-0495-4571-8ccc-73a9a64dc42c",
   "metadata": {},
   "outputs": [
    {
     "name": "stdout",
     "output_type": "stream",
     "text": [
      "unsupported operand type(s) for +: 'int' and 'str'\n"
     ]
    }
   ],
   "source": [
    "try:\n",
    "    123+\"sdd\"\n",
    "except TypeError as e:\n",
    "    print(e)"
   ]
  },
  {
   "cell_type": "code",
   "execution_count": 23,
   "id": "f172f74d-2160-4e6a-8a96-41600aa1ecd0",
   "metadata": {},
   "outputs": [
    {
     "name": "stdout",
     "output_type": "stream",
     "text": [
      "[Errno 2] No such file or directory: 'test.txt'\n"
     ]
    }
   ],
   "source": [
    "try:\n",
    "    with open(\"test.txt\",'r') as f:\n",
    "        f.readd()\n",
    "except FileNotFoundError as e:\n",
    "    print(e)"
   ]
  },
  {
   "cell_type": "code",
   "execution_count": 25,
   "id": "c6f0fddf-e631-4f78-87b8-b9f8ef0a9be0",
   "metadata": {},
   "outputs": [
    {
     "data": {
      "text/plain": [
       "['__cause__',\n",
       " '__class__',\n",
       " '__context__',\n",
       " '__delattr__',\n",
       " '__dict__',\n",
       " '__dir__',\n",
       " '__doc__',\n",
       " '__eq__',\n",
       " '__format__',\n",
       " '__ge__',\n",
       " '__getattribute__',\n",
       " '__gt__',\n",
       " '__hash__',\n",
       " '__init__',\n",
       " '__init_subclass__',\n",
       " '__le__',\n",
       " '__lt__',\n",
       " '__ne__',\n",
       " '__new__',\n",
       " '__reduce__',\n",
       " '__reduce_ex__',\n",
       " '__repr__',\n",
       " '__setattr__',\n",
       " '__setstate__',\n",
       " '__sizeof__',\n",
       " '__str__',\n",
       " '__subclasshook__',\n",
       " '__suppress_context__',\n",
       " '__traceback__',\n",
       " 'args',\n",
       " 'with_traceback']"
      ]
     },
     "execution_count": 25,
     "metadata": {},
     "output_type": "execute_result"
    }
   ],
   "source": [
    "dir(Exception)  "
   ]
  },
  {
   "cell_type": "code",
   "execution_count": 4,
   "id": "17391a62-5747-4ae1-837c-2eee43a122a3",
   "metadata": {},
   "outputs": [
    {
     "name": "stdout",
     "output_type": "stream",
     "text": [
      "[Errno 2] No such file or directory: 'test.txt'\n"
     ]
    }
   ],
   "source": [
    "try:\n",
    "    with open(\"test.txt\",'r') as f:\n",
    "        test=f.read()\n",
    "except Exception as e:  #jb bhi error handle kkarne ka time ayega  toh vo sbse phla \n",
    "    # exception handle kar rhe hai usme jaiga agr vo handle nhi kr pa rha toh vo dusre exceptk ke passs jaiga\n",
    "    # Exception  khud super class hai toh ye sbhi trh ke exception ko handle kar leta hai toh ye dusre wale exception \n",
    "    # ke pass jaiga hi nhi\n",
    "    print(e)\n",
    "except FileNotFoundError as e:\n",
    "    print(\"test\",e)\n",
    "    \n",
    "    \n",
    "# toh jb bhi exception handle karge toh exception superclass wala sbse neche likhege warna hamara custom wale pe jaiga hi nhi "
   ]
  },
  {
   "cell_type": "code",
   "execution_count": 5,
   "id": "a07d042e-340a-45b0-ac0b-7e37028e976a",
   "metadata": {},
   "outputs": [],
   "source": [
    "# function ke andar bhi sb likh skte hai bs superclass ko sbse neche rakhna warna vo khud sb handle krlega \n",
    "# and custom wale pe jane nhi dega\n",
    "\n",
    "def test(file):\n",
    "    \n",
    "    try:\n",
    "        with open(file,'r') as f:\n",
    "            test=f.readd()\n",
    "    except Exception as e:  \n",
    "        print(e) \n",
    "    except FileNotFoundError as e:\n",
    "        print(\"test\",e)\n",
    "    \n",
    "    \n"
   ]
  },
  {
   "cell_type": "code",
   "execution_count": 6,
   "id": "1499574c-376d-4518-ad11-dd3a510ea11c",
   "metadata": {},
   "outputs": [
    {
     "name": "stdout",
     "output_type": "stream",
     "text": [
      "[Errno 2] No such file or directory: 'teat.txt'\n"
     ]
    }
   ],
   "source": [
    "test(\"teat.txt\")"
   ]
  },
  {
   "cell_type": "code",
   "execution_count": 18,
   "id": "25c2f5a5-a201-4c56-8fd4-4b286b9c903e",
   "metadata": {},
   "outputs": [],
   "source": [
    "def test1(file):\n",
    "    \n",
    "    try:\n",
    "        with open(file,'r') as f:\n",
    "            test=f.readd()\n",
    "\n",
    "    except FileNotFoundError as e:\n",
    "        print(\"test\",e)\n",
    "    except Exception as e:  \n",
    "        print(e)     "
   ]
  },
  {
   "cell_type": "code",
   "execution_count": 19,
   "id": "87c81f45-453e-4de8-b145-82a01e77db68",
   "metadata": {},
   "outputs": [
    {
     "name": "stdout",
     "output_type": "stream",
     "text": [
      "test [Errno 2] No such file or directory: 'fsf.txt'\n"
     ]
    }
   ],
   "source": [
    "test1(\"fsf.txt\")"
   ]
  },
  {
   "cell_type": "code",
   "execution_count": null,
   "id": "3035ec0f-7f77-4109-ae55-9b1eca268234",
   "metadata": {},
   "outputs": [],
   "source": []
  }
 ],
 "metadata": {
  "kernelspec": {
   "display_name": "Python 3 (ipykernel)",
   "language": "python",
   "name": "python3"
  },
  "language_info": {
   "codemirror_mode": {
    "name": "ipython",
    "version": 3
   },
   "file_extension": ".py",
   "mimetype": "text/x-python",
   "name": "python",
   "nbconvert_exporter": "python",
   "pygments_lexer": "ipython3",
   "version": "3.10.8"
  }
 },
 "nbformat": 4,
 "nbformat_minor": 5
}
