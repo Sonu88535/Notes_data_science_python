{
 "cells": [
  {
   "cell_type": "code",
   "execution_count": 1,
   "id": "342c15cf-a9ab-4d56-9115-b1430e9bf3ce",
   "metadata": {},
   "outputs": [],
   "source": [
    "# Abstraction\n",
    "# Abstraction: Abstraction is the practice of focusing on the essential properties and behavior of an object,\n",
    "# while ignoring its non-essential details.\n",
    "# This helps to simplify the design of complex systems, and makes it easier to reason about and modify code.\n",
    "# Abstraction is often achieved through the use of interfaces, abstract classes,\n",
    "# and other high-level constructs that provide a way \n",
    "# to describe the behavior of an object without getting bogged down in implementation details.\n"
   ]
  },
  {
   "cell_type": "code",
   "execution_count": 2,
   "id": "e4658853-1e57-471c-bb9b-6f53026ee6e2",
   "metadata": {},
   "outputs": [],
   "source": [
    "# abstract class use hota hai skeleton and blueprint banane\n",
    "# like hm kio code likh rhe hai toh ham uska  pura skeleton ya outline taiyar krlenge \n",
    "# aur uske liye basically ham use krskte hai abstraction class"
   ]
  },
  {
   "cell_type": "code",
   "execution_count": null,
   "id": "d0068aa6-0f42-42b4-989a-1e941ca73968",
   "metadata": {},
   "outputs": [],
   "source": [
    "# for example : ek class hai pwskill ke jiske andar bahot sare classes hotii hai bahut tarah ki\n",
    "# # bahut sare bache  hai assignments krte hai hai marks late hai\n",
    "\n",
    "\n",
    "class pwskills:\n",
    "    def students_details(self):\n",
    "        pass                     #iske andar kuch likha nhi kyuki abhi blueprint i.e skeleton bana rhe\n",
    "                                #ye pura blueprint hogya \n",
    "    \n",
    "    def students_assignment(self):\n",
    "        pass\n",
    "    \n",
    "    def students_marks(self):\n",
    "        pass"
   ]
  },
  {
   "cell_type": "code",
   "execution_count": 1,
   "id": "6c7880b9-c627-4d74-83b7-c1cb8d4cd0b2",
   "metadata": {},
   "outputs": [],
   "source": [
    "# suppose kio data science ka class banana cahta hai toh upr ke diye hue blueprint ka use kr skta hai\n",
    "# # toh usko use krne ke liye import abc use krna prega sbse upr\n",
    "# ab jab abc. krke tab krege taab abstract method ka provision rhega ab \n",
    "# agr babana hai blueprint hm usse decorate krdege @abc.abstractmethod likh krke  \n",
    "# ab isse hoga ye ki jaha bhi ye class pwskills inheritate kroge  WAHA  pr iske andar \n",
    "# ke sare ke sare method available ho jaige"
   ]
  },
  {
   "cell_type": "code",
   "execution_count": 2,
   "id": "b0fa9313-d20a-4fcc-8b0b-0d596d946cab",
   "metadata": {},
   "outputs": [],
   "source": [
    "import abc\n",
    "class pwskills:\n",
    "    @abc.abstractmethod\n",
    "    def students_details(self):\n",
    "        pass                     #iske andar kuch likha nhi kyuki abhi blueprint i.e skeleton bana rhe\n",
    "                                #ye pura blueprint hogya \n",
    "    @abc.abstractmethod\n",
    "    def students_assignment(self):\n",
    "        pass\n",
    "    @abc.abstractmethod\n",
    "    def students_marks(self):\n",
    "        pass"
   ]
  },
  {
   "cell_type": "code",
   "execution_count": 4,
   "id": "f5870be2-fda0-4aea-96b5-94bfbe1fea7f",
   "metadata": {},
   "outputs": [],
   "source": [
    "#ab class banate hai students_detail ka \n",
    "class students_detail(pwskills):  #pwskills class ko inheritate krne ke liye bracket ke anddar likha\n",
    "     \n",
    "    def students_details(self):  #now ab thora sa likhne ke bad tab dabao toh aja rha pwskill ka sara method \n",
    "                                # means ab available hogya uski property yaha pr ab apne hisab sai yaha jo \n",
    "                                # jo bhi defination dene hai de skta hu \n",
    "            return \"this is a method for taking student details\"\n",
    "    \n",
    "    def students_assignment(self):\n",
    "        return \"this is a method for asking details for a particular student\""
   ]
  },
  {
   "cell_type": "code",
   "execution_count": 5,
   "id": "8cd832c3-78bf-4bff-b239-b6bfd50f8100",
   "metadata": {},
   "outputs": [],
   "source": [
    "#ab ek or class banate hai data_science_mastes ka \n",
    "class data_science_masters(pwskills):\n",
    "    def students_details(self):\n",
    "        return \"this will return a student details for data science masters\"\n",
    "    def students_assignment(self):\n",
    "        return \"this will give you a students assignment details for data science masters\""
   ]
  },
  {
   "cell_type": "code",
   "execution_count": 6,
   "id": "2e64683a-2dc6-4f53-b13c-3d0c3a00d038",
   "metadata": {},
   "outputs": [],
   "source": [
    "dsm=data_science_masters() #object banaya"
   ]
  },
  {
   "cell_type": "code",
   "execution_count": 7,
   "id": "55bc7042-0d06-4a95-aeb5-a059f38bf126",
   "metadata": {},
   "outputs": [
    {
     "data": {
      "text/plain": [
       "'this will return a student details for data science masters'"
      ]
     },
     "execution_count": 7,
     "metadata": {},
     "output_type": "execute_result"
    }
   ],
   "source": [
    "dsm.students_details()"
   ]
  },
  {
   "cell_type": "code",
   "execution_count": 8,
   "id": "374bdcea-1af0-4895-b17c-1415a3f1ba1f",
   "metadata": {},
   "outputs": [],
   "source": [
    "sd=students_detail()#object banaya"
   ]
  },
  {
   "cell_type": "code",
   "execution_count": 9,
   "id": "da60525e-dd0c-4d30-817d-3b04b92e3120",
   "metadata": {},
   "outputs": [
    {
     "data": {
      "text/plain": [
       "'this is a method for taking student details'"
      ]
     },
     "execution_count": 9,
     "metadata": {},
     "output_type": "execute_result"
    }
   ],
   "source": [
    "sd.students_details()"
   ]
  },
  {
   "cell_type": "code",
   "execution_count": null,
   "id": "cc980235-5197-441f-bd50-aa617f3ec9de",
   "metadata": {},
   "outputs": [],
   "source": [
    "# so yaha dekh rhe ki 2 class same chiz ko inheritate kr rha \n",
    "# pr dono class mai jo method hai unke maine apna apna defination diya hai\n",
    "# kyuki jo hamara main skeleton class(blueprint) hai usme  ham kio bhi defination nhi diya "
   ]
  }
 ],
 "metadata": {
  "kernelspec": {
   "display_name": "Python 3 (ipykernel)",
   "language": "python",
   "name": "python3"
  },
  "language_info": {
   "codemirror_mode": {
    "name": "ipython",
    "version": 3
   },
   "file_extension": ".py",
   "mimetype": "text/x-python",
   "name": "python",
   "nbconvert_exporter": "python",
   "pygments_lexer": "ipython3",
   "version": "3.10.8"
  }
 },
 "nbformat": 4,
 "nbformat_minor": 5
}
